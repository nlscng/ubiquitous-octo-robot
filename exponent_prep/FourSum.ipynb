{
 "cells": [
  {
   "cell_type": "code",
   "execution_count": 37,
   "metadata": {},
   "outputs": [],
   "source": [
    "def solve_2sum(arr: list, s: int):\n",
    "    assert len(arr) > 0\n",
    "    assert s >= 0\n",
    "    complements = set()\n",
    "\n",
    "    for a in arr:\n",
    "        if a in complements:\n",
    "            # print(f\"a: {a}, c: {c}\")\n",
    "            c = s - a\n",
    "            return [min(a, c), max(a, c)]\n",
    "        else:\n",
    "            complements.add(s - a) # {}\n",
    "    \n",
    "    return []\n"
   ]
  },
  {
   "cell_type": "code",
   "execution_count": 40,
   "metadata": {},
   "outputs": [],
   "source": [
    "A = [3, 5, 8, 7, 0, 2, 1, 4]"
   ]
  },
  {
   "cell_type": "code",
   "execution_count": 88,
   "metadata": {},
   "outputs": [],
   "source": [
    "\n",
    "# a_out = solve_two_sum(A, 8)\n",
    "assert solve_2sum(A, 8) == [3, 5]\n",
    "assert solve_2sum(A, 3) == [0, 3]\n",
    "assert solve_2sum(A, 200) == [], f\"actual {solve_2sum(A, 200)}\"\n",
    "assert solve_2sum(A, 0) == [], f\"actual: {solve_2sum(A, 0)}\"\n",
    "assert solve_2sum(A, 9) == [2, 7], f\"{solve_2sum(A, 9)}\""
   ]
  },
  {
   "cell_type": "code",
   "execution_count": 100,
   "metadata": {},
   "outputs": [],
   "source": [
    "def solve_3sum(arr: list, s: int):\n",
    "    assert len(arr) > 2, f\"len(arr): {len(arr)}, arr: {arr}\"\n",
    "    assert s >= 0, f\"s: {s}\"\n",
    "\n",
    "    for i in range(len(arr) - 3):\n",
    "        res_2sum = solve_2sum(arr[i+1:], s - arr[i])\n",
    "        if len(res_2sum) > 0:\n",
    "            res_2sum.append(arr[i])\n",
    "            return sorted(res_2sum)\n",
    "    return []\n",
    "    "
   ]
  },
  {
   "cell_type": "code",
   "execution_count": 101,
   "metadata": {},
   "outputs": [],
   "source": [
    "'''\n",
    "testing 3sum\n",
    "'''\n",
    "\n",
    "assert solve_3sum(A, 10) == [0, 3, 7], f\"actual: {solve_3sum(A, 10)}\"\n",
    "assert solve_3sum(A, 20) == [5, 7, 8], f\"actual: {solve_3sum(A, 20)}\"\n",
    "assert solve_3sum(A, 17) == [4, 5, 8], f\"actual: {solve_3sum(A, 17)}\"\n",
    "assert solve_3sum(A, 50) == [], f\"actual: {solve_3sum(A, 50)}\""
   ]
  },
  {
   "cell_type": "code",
   "execution_count": 105,
   "metadata": {},
   "outputs": [],
   "source": [
    "def solve_4sum(arr: list, s: int):\n",
    "    assert len(arr) > 3, f\"len(arr): {len(arr)}\"\n",
    "    assert s >= 0, f\"s: {s}\"\n",
    "\n",
    "    for i in range(len(arr) - 3):\n",
    "        res_3sum = solve_3sum(arr[i+1:], s - arr[i])\n",
    "        if len(res_3sum) > 0:\n",
    "            res_3sum.append(arr[i])\n",
    "            return sorted(res_3sum)\n",
    "    return []"
   ]
  },
  {
   "cell_type": "code",
   "execution_count": 106,
   "metadata": {},
   "outputs": [],
   "source": [
    "'''\n",
    "test solve 4 sum\n",
    "'''\n",
    "assert solve_4sum(A, 10) == [0, 2, 3, 5], f\"actual: {solve_4sum(A, 10)}\"\n",
    "assert solve_4sum(A, 17) == [2, 3, 5, 7], f\"actual: {solve_4sum(A, 17)}\"\n",
    "assert len(solve_4sum(A, 40)) == 0, f\"actual: {solve_4sum(A, 40)}\""
   ]
  }
 ],
 "metadata": {
  "kernelspec": {
   "display_name": "base",
   "language": "python",
   "name": "python3"
  },
  "language_info": {
   "codemirror_mode": {
    "name": "ipython",
    "version": 3
   },
   "file_extension": ".py",
   "mimetype": "text/x-python",
   "name": "python",
   "nbconvert_exporter": "python",
   "pygments_lexer": "ipython3",
   "version": "3.11.5"
  }
 },
 "nbformat": 4,
 "nbformat_minor": 2
}
