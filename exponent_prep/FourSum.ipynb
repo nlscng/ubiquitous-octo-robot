{
 "cells": [
  {
   "cell_type": "code",
   "execution_count": 16,
   "metadata": {},
   "outputs": [],
   "source": [
    "def solve_two_sum(arr: list, s: int):\n",
    "    assert len(arr) > 0\n",
    "    assert s >= 0\n",
    "    complement = set([arr[0]])\n",
    "\n",
    "    for a in arr[1:]:\n",
    "        c = s - a\n",
    "        if c in complement:\n",
    "            return [a, c] if [c >= a] else [c, a]\n",
    "        else:\n",
    "            complement.add(c)\n",
    "    \n",
    "    return []\n"
   ]
  },
  {
   "cell_type": "code",
   "execution_count": 15,
   "metadata": {},
   "outputs": [
    {
     "data": {
      "text/plain": [
       "[5, 3]"
      ]
     },
     "execution_count": 15,
     "metadata": {},
     "output_type": "execute_result"
    }
   ],
   "source": [
    "A = [3, 5, 8, 7, 0, 2, 1, 4]\n",
    "\n",
    "solve_two_sum(A, 8)"
   ]
  }
 ],
 "metadata": {
  "kernelspec": {
   "display_name": "base",
   "language": "python",
   "name": "python3"
  },
  "language_info": {
   "codemirror_mode": {
    "name": "ipython",
    "version": 3
   },
   "file_extension": ".py",
   "mimetype": "text/x-python",
   "name": "python",
   "nbconvert_exporter": "python",
   "pygments_lexer": "ipython3",
   "version": "3.11.5"
  }
 },
 "nbformat": 4,
 "nbformat_minor": 2
}
