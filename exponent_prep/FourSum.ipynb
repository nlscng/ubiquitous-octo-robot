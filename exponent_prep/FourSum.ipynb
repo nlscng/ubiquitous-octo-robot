{
 "cells": [
  {
   "cell_type": "code",
   "execution_count": 41,
   "metadata": {},
   "outputs": [],
   "source": [
    "def solve_two_sum(arr: list, s: int):\n",
    "    assert len(arr) > 0\n",
    "    assert s >= 0\n",
    "    complement = set([arr[0]])\n",
    "\n",
    "    for a in arr[1:]:\n",
    "        c = s - a\n",
    "        if c in complement:\n",
    "            print(f\"a: {a}, c: {c}\")\n",
    "            return [a, c] if a <= c else [c, a]\n",
    "            # return [min(a, c), max(a, c)]\n",
    "        else:\n",
    "            complement.add(c)\n",
    "    \n",
    "    return []\n"
   ]
  },
  {
   "cell_type": "code",
   "execution_count": 39,
   "metadata": {},
   "outputs": [
    {
     "name": "stdout",
     "output_type": "stream",
     "text": [
      "a: 5, c: 3\n"
     ]
    },
    {
     "data": {
      "text/plain": [
       "[3, 5]"
      ]
     },
     "execution_count": 39,
     "metadata": {},
     "output_type": "execute_result"
    }
   ],
   "source": [
    "A = [3, 5, 8, 7, 0, 2, 1, 4]\n",
    "a_out = solve_two_sum(A, 8)\n",
    "# assert a_out == [3, 5], a_out\n",
    "a_out"
   ]
  }
 ],
 "metadata": {
  "kernelspec": {
   "display_name": "base",
   "language": "python",
   "name": "python3"
  },
  "language_info": {
   "codemirror_mode": {
    "name": "ipython",
    "version": 3
   },
   "file_extension": ".py",
   "mimetype": "text/x-python",
   "name": "python",
   "nbconvert_exporter": "python",
   "pygments_lexer": "ipython3",
   "version": "3.11.5"
  }
 },
 "nbformat": 4,
 "nbformat_minor": 2
}
