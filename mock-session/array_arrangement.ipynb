{
 "cells": [
  {
   "cell_type": "markdown",
   "metadata": {},
   "source": [
    "This problem was asked by Pinterest.\n",
    "\n",
    "The sequence [0, 1, ..., N] has been jumbled, and the only clue you have for its order is an array representing whether each number is larger or smaller than the last. Given this information, reconstruct an array that is consistent with it. For example, given [None, +, +, -, +], you could return [1, 2, 3, 0, 4]."
   ]
  },
  {
   "cell_type": "code",
   "execution_count": null,
   "metadata": {},
   "outputs": [],
   "source": [
    "# i think this is reduced to counting number of plus and minus\n",
    "# and all pluses need to be in relative increasing order, while minuses are relative decreasing order\n",
    "# so if [None, + + + +] there can only be one solution\n",
    "\n",
    "# Even better, maybe we can use two pointers on the range of [0, n]\n",
    "# and assign all pluses to end of that range, minuses to begining of the range\n",
    "# then output an array arrangement based on input sequence\n",
    "\n",
    "# I should use two stacks, with two pointers method"
   ]
  },
  {
   "cell_type": "code",
   "execution_count": 1,
   "metadata": {},
   "outputs": [],
   "source": [
    "from typing import List\n"
   ]
  },
  {
   "cell_type": "code",
   "execution_count": 10,
   "metadata": {},
   "outputs": [],
   "source": [
    "def arrange(patterns: List[chr]) -> List[int]:\n",
    "    assert patterns\n",
    "\n",
    "    plus_stack = []\n",
    "    minus_stack = []\n",
    "    plus, minus = len(patterns) - 1, 0\n",
    "    nums = [x for x in range(len(patterns))]\n",
    "    for p in patterns[1:]:\n",
    "        if p == '+':\n",
    "            plus_stack.append(nums[plus])\n",
    "            plus -= 1\n",
    "        if p == '-':\n",
    "            minus_stack.append(nums[minus])\n",
    "            minus += 1\n",
    "    \n",
    "    start = nums[minus]\n",
    "\n",
    "    res = [start]\n",
    "    for p in patterns[1:]:\n",
    "        if p == '+':\n",
    "            n = plus_stack.pop()\n",
    "            res.append(n)\n",
    "        if p == '-':\n",
    "            n = minus_stack.pop()\n",
    "            res.append(n)\n",
    "    return res"
   ]
  },
  {
   "cell_type": "code",
   "execution_count": null,
   "metadata": {},
   "outputs": [],
   "source": [
    "def test_arrangement(arrangement: List[chr], s: str) -> bool:\n",
    "    assert len(arrangement) == len(s)\n",
    "    assert arrangement[0] is None\n",
    "    assert all([x == '+' or x == '-' for x in arrangement[1:]])\n",
    "\n",
    "    if len(arrangement) != len(s):\n",
    "        return False\n",
    "    for idx in range(1, len(s)):\n",
    "        last, cur = s[idx -1], s[idx]\n",
    "        if arrangement[idx] == '+' and cur <= last:\n",
    "            return False\n",
    "        if arrangement[idx] == '-' and cur >= last:\n",
    "            return False\n",
    "    return True\n",
    "\n",
    "assert test_arrangement([None, '+', '+', '-', '+'], [1, 2, 3, 0, 4])\n",
    "assert not test_arrangement([None, '+', '+', '-', '+'], [1, 2, 0, 3, 4])\n",
    "assert test_arrangement([None, ])"
   ]
  },
  {
   "cell_type": "code",
   "execution_count": 15,
   "metadata": {},
   "outputs": [],
   "source": [
    "'''test'''\n",
    "\n",
    "out_1 = arrange([None, '-', '-', '-']) \n",
    "exp_1 = [3, 2, 1, 0]\n",
    "assert out_1 == exp_1, f\"expected: {exp_1}, got: {out_1}\"\n",
    "\n",
    "out_2 = arrange([None, '+', '+', '+'])\n",
    "exp_2 = [0, 1, 2, 3]\n",
    "assert out_2 == exp_2, f\"expcted: {exp_2}, got: {out_2}\"\n",
    "\n",
    "out_3 = arrange([None, '-', '-', '+'])\n",
    "exp_3 = [2, 1, 0, 3]\n",
    "assert out_3 == exp_3, f\"expected: {exp_3}, got: {out_3}\"\n",
    "\n",
    "out_4 = arrange([None, '+', '-', '+'])\n",
    "exp_4 = [1, 2, 0, 3]\n",
    "assert out_4 == exp_4, f\"expected: {exp_4}, got: {out_4}\""
   ]
  }
 ],
 "metadata": {
  "kernelspec": {
   "display_name": "base",
   "language": "python",
   "name": "python3"
  },
  "language_info": {
   "codemirror_mode": {
    "name": "ipython",
    "version": 3
   },
   "file_extension": ".py",
   "mimetype": "text/x-python",
   "name": "python",
   "nbconvert_exporter": "python",
   "pygments_lexer": "ipython3",
   "version": "3.11.5"
  }
 },
 "nbformat": 4,
 "nbformat_minor": 2
}
