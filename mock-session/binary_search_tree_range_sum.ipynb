{
 "cells": [
  {
   "cell_type": "markdown",
   "metadata": {},
   "source": [
    "Given a binary search tree and a range [a, b] (inclusive), return the sum of the elements of the binary search tree within the range.\n",
    "\n",
    "For example, given the following tree:\n",
    "\n",
    "```\n",
    "    5\n",
    "   / \\\n",
    "  3   8\n",
    " / \\ / \\\n",
    "2  4 6  10\n",
    "```\n",
    "\n",
    "and the range [4, 9], return 23 (5 + 4 + 6 + 8)."
   ]
  },
  {
   "cell_type": "code",
   "execution_count": 1,
   "metadata": {},
   "outputs": [],
   "source": [
    "# brute force scan the tree, or maybe even flatten the tree, then sum the output where numbers are in range\n",
    "\n",
    "# Or, sum as searching\n"
   ]
  },
  {
   "cell_type": "code",
   "execution_count": null,
   "metadata": {},
   "outputs": [],
   "source": [
    "from typing import List\n",
    "from typing import Optional\n",
    "\n",
    "class Node:\n",
    "    # Constructor to create a new node\n",
    "    def __init__(self, key: int):\n",
    "        self.key: int = key\n",
    "        self.left: Optional['Node'] = None\n",
    "        self.right: Optional['Node'] = None\n",
    "        self.parent: Optional['Node'] = None\n",
    "\n",
    "class BinarySearchTree:\n",
    "    # Constructor to create a new BST\n",
    "    def __init__(self):\n",
    "        self.root: Optional[Node] = None\n",
    "\n",
    "    # Given a binary search tree and a number, inserts a\n",
    "    # new node with the given number in the correct place\n",
    "    # in the tree. Returns the new root pointer which the\n",
    "    # caller should then use(the standard trick to avoid\n",
    "    # using reference parameters)\n",
    "    def insert(self, key: int) -> None:\n",
    "        # 1) If tree is empty, create the root\n",
    "        if (self.root is None):\n",
    "            self.root = Node(key)\n",
    "            return\n",
    "\n",
    "        # 2) Otherwise, create a node with the key\n",
    "        #    and traverse down the tree to find where to\n",
    "        #    to insert the new node\n",
    "        currentNode = self.root\n",
    "        newNode = Node(key)\n",
    "\n",
    "        while(currentNode is not None):\n",
    "            if(key < currentNode.key):\n",
    "                if(currentNode.left is None):\n",
    "                    currentNode.left = newNode\n",
    "                    newNode.parent = currentNode\n",
    "                    break\n",
    "                else:\n",
    "                    currentNode = currentNode.left\n",
    "            else:\n",
    "                if(currentNode.right is None):\n",
    "                    currentNode.right = newNode\n",
    "                    newNode.parent = currentNode\n",
    "                    break\n",
    "                else:\n",
    "                    currentNode = currentNode.right\n",
    "\n",
    "    def range_sum(self, min: int, max: int) -> int:\n",
    "        if self.root is None:\n",
    "            return 0\n",
    "        \n",
    "        return 0\n",
    "    \n",
    "    def flatten(self) -> List[int]:\n",
    "        if self.root is None:\n",
    "            return []\n",
    "        \n",
    "        res = []\n",
    "        # in-order traversal thru the tree\n",
    "        def in_order(node: Node):\n",
    "            if node.left:\n",
    "                in_order(node.left)\n",
    "            res.append(node.key)\n",
    "            if node.right:\n",
    "                in_order(node.right)\n",
    "        in_order(self.root)\n",
    "        return res\n",
    "    \n",
    "    def range_sum(self, min: int, max: int) -> int:\n",
    "        if self.root is None:\n",
    "            return 0\n",
    "        \n",
    "        # either bfs, dfs, or in, pre, post traversal through the tree, doesn't matter\n",
    "\n",
    "        stack = [self.root]\n",
    "        cur_sum = 0\n",
    "\n",
    "        while len(stack) > 0:\n",
    "            cur = stack.pop()\n",
    "            if min <= cur.key <= max:\n",
    "                cur_sum += cur.key\n",
    "            if cur.left:\n",
    "                stack.append(cur.left)\n",
    "            if cur.right:\n",
    "                stack.append(cur.right)\n",
    "        return cur_sum\n",
    "        "
   ]
  },
  {
   "cell_type": "code",
   "execution_count": 12,
   "metadata": {},
   "outputs": [
    {
     "name": "stdout",
     "output_type": "stream",
     "text": [
      "[2, 3, 4, 5, 6, 8, 10]\n"
     ]
    },
    {
     "data": {
      "text/plain": [
       "23"
      ]
     },
     "execution_count": 12,
     "metadata": {},
     "output_type": "execute_result"
    }
   ],
   "source": [
    "bst = BinarySearchTree()\n",
    "\n",
    "# Create the tree given in the above diagram \n",
    "bst.insert(5)\n",
    "bst.insert(3)\n",
    "bst.insert(8)\n",
    "bst.insert(2)\n",
    "bst.insert(4)\n",
    "bst.insert(6)\n",
    "bst.insert(10)\n",
    "\n",
    "print(bst.flatten())\n",
    "\n",
    "bst.range_sum(4, 9)"
   ]
  }
 ],
 "metadata": {
  "kernelspec": {
   "display_name": "base",
   "language": "python",
   "name": "python3"
  },
  "language_info": {
   "codemirror_mode": {
    "name": "ipython",
    "version": 3
   },
   "file_extension": ".py",
   "mimetype": "text/x-python",
   "name": "python",
   "nbconvert_exporter": "python",
   "pygments_lexer": "ipython3",
   "version": "3.11.5"
  }
 },
 "nbformat": 4,
 "nbformat_minor": 2
}
