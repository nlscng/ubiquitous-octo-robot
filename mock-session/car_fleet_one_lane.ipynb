{
 "cells": [
  {
   "cell_type": "markdown",
   "metadata": {},
   "source": [
    "There are n cars traveling to the same destination on a one-lane highway.\n",
    "\n",
    "You are given two arrays of integers position and speed, both of length n.\n",
    "\n",
    "position[i] is the position of the ith car (in miles)\n",
    "speed[i] is the speed of the ith car (in miles per hour)\n",
    "The destination is at position target miles.\n",
    "\n",
    "A car can not pass another car ahead of it. It can only catch up to another car and then drive at the same speed as the car ahead of it.\n",
    "\n",
    "A car fleet is a non-empty set of cars driving at the same position and same speed. A single car is also considered a car fleet.\n",
    "\n",
    "If a car catches up to a car fleet the moment the fleet reaches the destination, then the car is considered to be part of the fleet.\n",
    "\n",
    "Return the number of different car fleets that will arrive at the destination.\n",
    "\n",
    "Example 1:\n",
    "\n",
    "Input: target = 10, position = [1,4], speed = [3,2]\n",
    "\n",
    "Output: 1\n",
    "Explanation: The cars starting at 1 (speed 3) and 4 (speed 2) become a fleet, meeting each other at 10, the destination.\n",
    "\n",
    "Example 2:\n",
    "\n",
    "Input: target = 10, position = [4,1,0,7], speed = [2,2,1,1]\n",
    "\n",
    "Output: 3\n",
    "Explanation: The cars starting at 4 and 7 become a fleet at position 10. The cars starting at 1 and 0 never catch up to the car ahead of them. Thus, there are 3 car fleets that will arrive at the destination.\n",
    "\n",
    "Constraints:\n",
    "\n",
    "n == position.length == speed.length.\n",
    "1 <= n <= 1000\n",
    "0 < target <= 1000\n",
    "0 < speed[i] <= 100\n",
    "0 <= position[i] < target\n",
    "All the values of position are unique."
   ]
  },
  {
   "cell_type": "code",
   "execution_count": 3,
   "metadata": {},
   "outputs": [],
   "source": [
    "from typing import List\n",
    "# from collections import defaultdict"
   ]
  },
  {
   "cell_type": "code",
   "execution_count": 25,
   "metadata": {},
   "outputs": [],
   "source": [
    "def car_fleet(pos: List[int], spd: List[int], target: int) -> int:\n",
    "    assert len(pos) > 1 and len(spd) > 1 and target > 0\n",
    "    assert len(pos) == len(spd)\n",
    "    assert max(pos) <= target\n",
    "    assert min(spd) > 0\n",
    "    if len(pos) == 1:\n",
    "        return 1\n",
    "    \n",
    "    count = 0\n",
    "    pairs = sorted(list(zip(pos, spd)), key=lambda x: x[0])\n",
    "    des_pairs = pairs[::-1] # now it's sorted descending by position, aka, closer to target\n",
    "    cur_max_time_to_target = 0\n",
    "\n",
    "    for one_pair in des_pairs:\n",
    "        p, s = one_pair\n",
    "        cur_time_to_target = (target - p) / s\n",
    "        if cur_time_to_target > cur_max_time_to_target:\n",
    "            count += 1\n",
    "            cur_max_time_to_target = cur_time_to_target\n",
    "    return count\n",
    "\n",
    "        \n",
    "\n",
    "    "
   ]
  },
  {
   "cell_type": "code",
   "execution_count": 28,
   "metadata": {},
   "outputs": [],
   "source": [
    "'''tests'''\n",
    "\n",
    "out_1 = car_fleet([1, 4], [3, 2], 10)\n",
    "exp_1 = 1\n",
    "assert out_1 == exp_1\n",
    "\n",
    "out_2 = car_fleet([4, 1, 0, 7], [2, 2, 1, 1], 10)\n",
    "exp_2 = 3\n",
    "assert out_2 == exp_2"
   ]
  }
 ],
 "metadata": {
  "kernelspec": {
   "display_name": "base",
   "language": "python",
   "name": "python3"
  },
  "language_info": {
   "codemirror_mode": {
    "name": "ipython",
    "version": 3
   },
   "file_extension": ".py",
   "mimetype": "text/x-python",
   "name": "python",
   "nbconvert_exporter": "python",
   "pygments_lexer": "ipython3",
   "version": "3.11.5"
  }
 },
 "nbformat": 4,
 "nbformat_minor": 2
}
