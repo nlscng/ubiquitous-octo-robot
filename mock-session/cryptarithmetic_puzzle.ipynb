{
 "cells": [
  {
   "cell_type": "markdown",
   "metadata": {},
   "source": [
    "This problem was asked by Google.\n",
    "\n",
    "A cryptarithmetic puzzle is a mathematical game where the digits of some numbers are represented by letters. Each letter represents a unique digit.\n",
    "\n",
    "For example, a puzzle of the form:\n",
    "```\n",
    "  SEND\n",
    "+ MORE\n",
    "--------\n",
    " MONEY\n",
    "```\n",
    "may have the solution:\n",
    "\n",
    "```\n",
    "{'S': 9, 'E': 5, 'N': 6, 'D': 7, 'M': 1, 'O': 0, 'R': 8, 'Y': 2}\n",
    "```\n",
    "Given a three-word puzzle like the one above, create an algorithm that finds a solution.\n",
    "\n"
   ]
  },
  {
   "cell_type": "code",
   "execution_count": null,
   "metadata": {},
   "outputs": [],
   "source": [
    "'''\n",
    "This feels like a backtracking/brute force test all possible solutions type of problem\n",
    "\n",
    "'''"
   ]
  },
  {
   "cell_type": "code",
   "execution_count": 1,
   "metadata": {},
   "outputs": [],
   "source": [
    "from typing import List"
   ]
  },
  {
   "cell_type": "code",
   "execution_count": 6,
   "metadata": {},
   "outputs": [],
   "source": [
    "def solve_cryptarithmetic(word_a: str, word_b: str, word_c: str) -> dict[str, int]:\n",
    "    assert word_a and word_b and word_c\n",
    "\n",
    "    # collect all chars first\n",
    "    bank = {k: None for k in (word_a + word_b + word_c).upper() }\n",
    "    # print(bank.keys())\n",
    "\n",
    "    # spin through values\n",
    "    def inner():\n",
    "        if all([x is not None for x in bank.keys()]):\n",
    "            pass\n",
    "        all_keys = bank.keys()\n",
    "        for k in all_keys:\n",
    "            pass\n",
    "    return bank\n",
    "\n",
    "def validate_cryptarithmetic(bank: dict[str, int], word_a: str, word_b: str, word_c: str) -> bool:\n",
    "    assert bank and word_a and word_b and word_c\n",
    "    num_a = int(\"\".join([str(bank[x]) for x in word_a]))\n",
    "    num_b = int(\"\".join([str(bank[x]) for x in word_b]))\n",
    "    num_c = int(\"\".join([str(bank[x]) for x in word_c]))\n",
    "    return True if num_a + num_b == num_c else False\n",
    "\n",
    "\n"
   ]
  },
  {
   "cell_type": "code",
   "execution_count": 10,
   "metadata": {},
   "outputs": [
    {
     "data": {
      "text/plain": [
       "True"
      ]
     },
     "execution_count": 10,
     "metadata": {},
     "output_type": "execute_result"
    }
   ],
   "source": [
    "solve_cryptarithmetic('sum', 'ting', 'wong')\n",
    "\n",
    "validate_cryptarithmetic({'A': 1, 'B': 2, 'C': 3}, \"A\", \"B\", \"C\")\n",
    "validate_cryptarithmetic({'S': 9, 'E': 5, 'N': 6, 'D': 7, 'M': 1, 'O': 0, 'R': 8, 'Y': 2}, \"SEND\", \"MORE\", \"MONEY\")"
   ]
  }
 ],
 "metadata": {
  "kernelspec": {
   "display_name": "base",
   "language": "python",
   "name": "python3"
  },
  "language_info": {
   "codemirror_mode": {
    "name": "ipython",
    "version": 3
   },
   "file_extension": ".py",
   "mimetype": "text/x-python",
   "name": "python",
   "nbconvert_exporter": "python",
   "pygments_lexer": "ipython3",
   "version": "3.11.5"
  }
 },
 "nbformat": 4,
 "nbformat_minor": 2
}
