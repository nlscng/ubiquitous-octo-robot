{
 "cells": [
  {
   "cell_type": "markdown",
   "id": "fc5c45eb",
   "metadata": {},
   "source": [
    "Given an unsorted integer array nums. Return the smallest positive integer that is not present in nums.\n",
    "\n",
    "You must implement an algorithm that runs in O(n) time and uses O(1) auxiliary space."
   ]
  },
  {
   "cell_type": "code",
   "execution_count": 1,
   "id": "665edf70",
   "metadata": {},
   "outputs": [],
   "source": [
    "# from collections import \n",
    "from typing import List, Set, Tuple"
   ]
  },
  {
   "cell_type": "code",
   "execution_count": 2,
   "id": "a92d2df1",
   "metadata": {},
   "outputs": [],
   "source": [
    "# brute force version, time O(nlong), space O(1)\n",
    "def first_missing_bf(liz: List[int]) -> int:\n",
    "    assert liz\n",
    "\n",
    "    my_liz = sorted(filter(lambda x: x > 0, liz))\n",
    "    # print(my_liz)\n",
    "\n",
    "    target = 1\n",
    "    for e in my_liz:\n",
    "        if e == target:\n",
    "            target += 1\n",
    "        elif e > target:\n",
    "            return target\n",
    "    return target\n"
   ]
  },
  {
   "cell_type": "code",
   "execution_count": 3,
   "id": "6b8049d9",
   "metadata": {},
   "outputs": [],
   "source": [
    "test_1 = [1,3,4]\n",
    "out_1 = 2\n",
    "assert first_missing_bf(test_1) == out_1\n",
    "\n",
    "assert first_missing_bf([-1, -3, 0]) == 1\n",
    "\n",
    "assert first_missing_bf([1,2,3,4]) == 5\n",
    "assert first_missing_bf([3,2,1,4,6]) == 5"
   ]
  },
  {
   "cell_type": "code",
   "execution_count": null,
   "id": "c95474d0",
   "metadata": {},
   "outputs": [],
   "source": [
    "# we scan a few times to stay in the time O(n) and space and O(1)\n",
    "# the idea is to leverage existing information, in this case, the array indices,\n",
    "# which are already in order and starting from 0 to n-1, and our first missing\n",
    "# positive integer, would be from 1 to n inclusive.\n",
    "def first_missing_2(liz: List[int]) -> int:\n",
    "    assert liz\n",
    "\n",
    "    # linear scan and move numbers into its index if it's in range\n",
    "    idx = 0\n",
    "\n",
    "    print(f\"before first scan: {liz}\")\n",
    "    \n",
    "    while idx < len(liz):\n",
    "        v = liz[idx]\n",
    "        if v == idx + 1:\n",
    "            idx += 1\n",
    "        elif 0 < v < len(liz) + 1:\n",
    "            # swap them\n",
    "            t = liz[v -1]\n",
    "            liz[v - 1] = v\n",
    "            liz[idx] = t\n",
    "        else:\n",
    "            liz[idx] = None\n",
    "            idx += 1\n",
    "    \n",
    "    print(f\"after first scan: {liz}\")\n",
    "\n",
    "    for idx in range(len(liz)):\n",
    "        if liz[idx] != idx + 1:\n",
    "            return idx\n",
    "    return len(liz)\n",
    "\n"
   ]
  },
  {
   "cell_type": "code",
   "execution_count": 17,
   "id": "1a00c78b",
   "metadata": {},
   "outputs": [
    {
     "name": "stdout",
     "output_type": "stream",
     "text": [
      "liz: [1, None, 3]\n"
     ]
    },
    {
     "ename": "AssertionError",
     "evalue": "exp: 2, got: 1",
     "output_type": "error",
     "traceback": [
      "\u001b[1;31m---------------------------------------------------------------------------\u001b[0m",
      "\u001b[1;31mAssertionError\u001b[0m                            Traceback (most recent call last)",
      "Cell \u001b[1;32mIn[17], line 4\u001b[0m\n\u001b[0;32m      2\u001b[0m exp_1 \u001b[38;5;241m=\u001b[39m \u001b[38;5;241m2\u001b[39m\n\u001b[0;32m      3\u001b[0m out_1 \u001b[38;5;241m=\u001b[39m first_missing_2(test_1)\n\u001b[1;32m----> 4\u001b[0m \u001b[38;5;28;01massert\u001b[39;00m exp_1 \u001b[38;5;241m==\u001b[39m out_1, \u001b[38;5;124mf\u001b[39m\u001b[38;5;124m\"\u001b[39m\u001b[38;5;124mexp: \u001b[39m\u001b[38;5;132;01m{\u001b[39;00mexp_1\u001b[38;5;132;01m}\u001b[39;00m\u001b[38;5;124m, got: \u001b[39m\u001b[38;5;132;01m{\u001b[39;00mout_1\u001b[38;5;132;01m}\u001b[39;00m\u001b[38;5;124m\"\u001b[39m\n\u001b[0;32m      6\u001b[0m \u001b[38;5;28;01massert\u001b[39;00m first_missing_2([\u001b[38;5;241m-\u001b[39m\u001b[38;5;241m1\u001b[39m, \u001b[38;5;241m-\u001b[39m\u001b[38;5;241m3\u001b[39m, \u001b[38;5;241m0\u001b[39m]) \u001b[38;5;241m==\u001b[39m \u001b[38;5;241m1\u001b[39m\n\u001b[0;32m      8\u001b[0m \u001b[38;5;28;01massert\u001b[39;00m first_missing_2([\u001b[38;5;241m1\u001b[39m,\u001b[38;5;241m2\u001b[39m,\u001b[38;5;241m3\u001b[39m,\u001b[38;5;241m4\u001b[39m]) \u001b[38;5;241m==\u001b[39m \u001b[38;5;241m5\u001b[39m\n",
      "\u001b[1;31mAssertionError\u001b[0m: exp: 2, got: 1"
     ]
    }
   ],
   "source": [
    "test_1 = [1,3,4]\n",
    "exp_1 = 2\n",
    "out_1 = first_missing_2(test_1)\n",
    "assert exp_1 == out_1, f\"exp: {exp_1}, got: {out_1}\"\n",
    "\n",
    "assert first_missing_2([-1, -3, 0]) == 1\n",
    "\n",
    "assert first_missing_2([1,2,3,4]) == 5\n",
    "assert first_missing_2([3,2,1,4,6]) == 5"
   ]
  }
 ],
 "metadata": {
  "kernelspec": {
   "display_name": "base",
   "language": "python",
   "name": "python3"
  },
  "language_info": {
   "codemirror_mode": {
    "name": "ipython",
    "version": 3
   },
   "file_extension": ".py",
   "mimetype": "text/x-python",
   "name": "python",
   "nbconvert_exporter": "python",
   "pygments_lexer": "ipython3",
   "version": "3.11.5"
  }
 },
 "nbformat": 4,
 "nbformat_minor": 5
}
