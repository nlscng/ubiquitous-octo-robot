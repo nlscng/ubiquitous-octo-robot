{
 "cells": [
  {
   "cell_type": "markdown",
   "id": "fc5c45eb",
   "metadata": {},
   "source": [
    "Given an unsorted integer array nums. Return the smallest positive integer that is not present in nums.\n",
    "\n",
    "You must implement an algorithm that runs in O(n) time and uses O(1) auxiliary space."
   ]
  },
  {
   "cell_type": "code",
   "execution_count": 1,
   "id": "665edf70",
   "metadata": {},
   "outputs": [],
   "source": [
    "# from collections import \n",
    "from typing import List, Set, Tuple"
   ]
  },
  {
   "cell_type": "code",
   "execution_count": 6,
   "id": "a92d2df1",
   "metadata": {},
   "outputs": [],
   "source": [
    "# brute force version, time O(nlong), space O(1)\n",
    "def first_missing_bf(liz: List[int]) -> int:\n",
    "    assert liz\n",
    "\n",
    "    my_liz = sorted(filter(lambda x: x > 0, liz))\n",
    "    # print(my_liz)\n",
    "\n",
    "    target = 1\n",
    "    for e in my_liz:\n",
    "        if e == target:\n",
    "            target += 1\n",
    "        elif e > target:\n",
    "            return target\n",
    "    return target\n"
   ]
  },
  {
   "cell_type": "code",
   "execution_count": 9,
   "id": "6b8049d9",
   "metadata": {},
   "outputs": [],
   "source": [
    "test_1 = [1,3,4]\n",
    "out_1 = 2\n",
    "assert first_missing_bf(test_1) == out_1\n",
    "\n",
    "assert first_missing_bf([-1, -3, 0]) == 1\n",
    "\n",
    "assert first_missing_bf([1,2,3,4]) == 5\n",
    "assert first_missing_bf([3,2,1,4,6]) == 5"
   ]
  },
  {
   "cell_type": "code",
   "execution_count": null,
   "id": "c95474d0",
   "metadata": {},
   "outputs": [],
   "source": [
    "# we scan a few times to stay in the time O(n) and space and O(1)\n",
    "# the idea is to leverage existing information, in this case, the array indices,\n",
    "# which are already in order and starting from 0 to n-1, and our first missing\n",
    "# positive integer, would be from 1 to n inclusive.\n",
    "def first_missing_2(liz: List[int]) -> int:\n",
    "    "
   ]
  }
 ],
 "metadata": {
  "kernelspec": {
   "display_name": "base",
   "language": "python",
   "name": "python3"
  },
  "language_info": {
   "codemirror_mode": {
    "name": "ipython",
    "version": 3
   },
   "file_extension": ".py",
   "mimetype": "text/x-python",
   "name": "python",
   "nbconvert_exporter": "python",
   "pygments_lexer": "ipython3",
   "version": "3.11.5"
  }
 },
 "nbformat": 4,
 "nbformat_minor": 5
}
