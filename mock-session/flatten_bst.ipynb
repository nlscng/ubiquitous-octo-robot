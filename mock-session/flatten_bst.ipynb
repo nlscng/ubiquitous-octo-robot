{
 "cells": [
  {
   "cell_type": "code",
   "execution_count": 12,
   "metadata": {},
   "outputs": [],
   "source": [
    "import sys\n",
    "\n",
    "sys.path.append(r'C:\\Users\\ncheng\\Documents\\GitHub\\ubiquitous-octo-robot')\n",
    "sys.path\n",
    "\n",
    "from common.treenode.MyBST import IntNode"
   ]
  },
  {
   "cell_type": "code",
   "execution_count": 13,
   "metadata": {},
   "outputs": [],
   "source": [
    "\n",
    "def flatten(root: IntNode) -> list:\n",
    "    res = []\n",
    "\n",
    "    def in_order(node: IntNode):\n",
    "        if node is None:\n",
    "            return\n",
    "        in_order(node.left)\n",
    "        res.append(node.val)\n",
    "        in_order(node.right)\n",
    "\n",
    "    in_order(root)\n",
    "    return res\n",
    "\n",
    "\n",
    "a = IntNode(4)\n",
    "b = IntNode(2)\n",
    "c = IntNode(6)\n",
    "d = IntNode(1)\n",
    "e = IntNode(3)\n",
    "f = IntNode(5)\n",
    "g = IntNode(7)\n",
    "\n",
    "a.left = b\n",
    "b.left = d\n",
    "b.right = e\n",
    "a.right = c\n",
    "c.left = f\n",
    "c.right = g\n",
    "\n",
    "assert flatten(a) == [1, 2, 3, 4, 5, 6, 7], \"Actual: {}\".format(flatten(a))\n"
   ]
  }
 ],
 "metadata": {
  "kernelspec": {
   "display_name": "base",
   "language": "python",
   "name": "python3"
  },
  "language_info": {
   "codemirror_mode": {
    "name": "ipython",
    "version": 3
   },
   "file_extension": ".py",
   "mimetype": "text/x-python",
   "name": "python",
   "nbconvert_exporter": "python",
   "pygments_lexer": "ipython3",
   "version": "3.11.5"
  }
 },
 "nbformat": 4,
 "nbformat_minor": 2
}
