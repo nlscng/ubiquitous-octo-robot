{
 "cells": [
  {
   "cell_type": "code",
   "execution_count": null,
   "metadata": {},
   "outputs": [
    {
     "ename": "ModuleNotFoundError",
     "evalue": "No module named 'common'",
     "output_type": "error",
     "traceback": [
      "\u001b[1;31m---------------------------------------------------------------------------\u001b[0m",
      "\u001b[1;31mModuleNotFoundError\u001b[0m                       Traceback (most recent call last)",
      "Cell \u001b[1;32mIn[3], line 4\u001b[0m\n\u001b[0;32m      1\u001b[0m \u001b[38;5;66;03m# from common.treenode.MyBST import IntNode\u001b[39;00m\n\u001b[1;32m----> 4\u001b[0m \u001b[38;5;28;01mfrom\u001b[39;00m \u001b[38;5;21;01mcommon\u001b[39;00m\u001b[38;5;21;01m.\u001b[39;00m\u001b[38;5;21;01mtreenode\u001b[39;00m\u001b[38;5;21;01m.\u001b[39;00m\u001b[38;5;21;01mMyBST\u001b[39;00m \u001b[38;5;28;01mimport\u001b[39;00m IntNode\n\u001b[0;32m      7\u001b[0m \u001b[38;5;28;01mdef\u001b[39;00m \u001b[38;5;21mflatten\u001b[39m(root: IntNode) \u001b[38;5;241m-\u001b[39m\u001b[38;5;241m>\u001b[39m \u001b[38;5;28mlist\u001b[39m:\n\u001b[0;32m      8\u001b[0m     res \u001b[38;5;241m=\u001b[39m []\n",
      "\u001b[1;31mModuleNotFoundError\u001b[0m: No module named 'common'"
     ]
    }
   ],
   "source": [
    "# from common.treenode.MyBST import IntNode\n",
    "from common.treenode.MyBST import IntNode as IntNode\n",
    "\n",
    "def flatten(root: IntNode) -> list:\n",
    "    res = []\n",
    "\n",
    "    def in_order(node: IntNode):\n",
    "        if node is None:\n",
    "            return\n",
    "        in_order(node.left)\n",
    "        res.append(node.val)\n",
    "        in_order(node.right)\n",
    "\n",
    "    in_order(root)\n",
    "    return res\n",
    "\n",
    "\n",
    "a = IntNode(4)\n",
    "b = IntNode(2)\n",
    "c = IntNode(6)\n",
    "d = IntNode(1)\n",
    "e = IntNode(3)\n",
    "f = IntNode(5)\n",
    "g = IntNode(7)\n",
    "\n",
    "a.left = b\n",
    "b.left = d\n",
    "b.right = e\n",
    "a.right = c\n",
    "c.left = f\n",
    "c.right = g\n",
    "\n",
    "assert flatten(a) == [1, 2, 3, 4, 5, 6, 7], \"Actual: {}\".format(flatten(a))\n"
   ]
  }
 ],
 "metadata": {
  "kernelspec": {
   "display_name": "base",
   "language": "python",
   "name": "python3"
  },
  "language_info": {
   "codemirror_mode": {
    "name": "ipython",
    "version": 3
   },
   "file_extension": ".py",
   "mimetype": "text/x-python",
   "name": "python",
   "nbconvert_exporter": "python",
   "pygments_lexer": "ipython3",
   "version": "3.11.5"
  }
 },
 "nbformat": 4,
 "nbformat_minor": 2
}
