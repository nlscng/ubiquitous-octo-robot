{
 "cells": [
  {
   "cell_type": "markdown",
   "metadata": {},
   "source": [
    "Given n numbers, find the greatest common denominator between them.\n",
    "\n",
    "For example, given the numbers [42, 56, 14], return 14."
   ]
  },
  {
   "cell_type": "code",
   "execution_count": 2,
   "metadata": {},
   "outputs": [],
   "source": [
    "'''\n",
    "\n",
    "'''\n",
    "def find_gcd(a: int, b: int) -> int:\n",
    "    assert a > 0 and b > 0\n",
    "    a, b = max(a, b), min(a, b)\n",
    "\n",
    "    while b > 0:\n",
    "        a, b = b, a % b\n",
    "    return a"
   ]
  },
  {
   "cell_type": "code",
   "execution_count": 6,
   "metadata": {},
   "outputs": [],
   "source": [
    "'''test '''\n",
    "\n",
    "assert find_gcd(1, 1) == 1\n",
    "assert find_gcd(4, 1) == 1\n",
    "assert find_gcd(3, 9) == 3\n",
    "assert find_gcd(24, 36) == 12"
   ]
  },
  {
   "cell_type": "code",
   "execution_count": null,
   "metadata": {},
   "outputs": [],
   "source": [
    "from typing import List\n",
    "\n",
    "def gcd_of_list(l: List[int]) -> int:\n",
    "    # assuming the find_gcd function is constant in big(o)\n",
    "    # then this should be O(n) in time\n",
    "    assert l and all([e > 0 for e in l])\n",
    "\n",
    "    if len(l) == 1:\n",
    "        return l[0]\n",
    "    elif len(l) == 2:\n",
    "        return find_gcd(*l)\n",
    "    \n",
    "    gcd = find_gcd(l[0], l[1])\n",
    "    for idx in range(2, len(l)):\n",
    "        gcd = find_gcd(gcd, l[idx])\n",
    "    \n",
    "    return gcd"
   ]
  },
  {
   "cell_type": "code",
   "execution_count": 13,
   "metadata": {},
   "outputs": [],
   "source": [
    "'''test gcd_of_list'''\n",
    "\n",
    "assert gcd_of_list([42]) == 42\n",
    "assert gcd_of_list([3, 5, 7]) == 1\n",
    "assert gcd_of_list([42, 56, 28]) == 14"
   ]
  }
 ],
 "metadata": {
  "kernelspec": {
   "display_name": "base",
   "language": "python",
   "name": "python3"
  },
  "language_info": {
   "codemirror_mode": {
    "name": "ipython",
    "version": 3
   },
   "file_extension": ".py",
   "mimetype": "text/x-python",
   "name": "python",
   "nbconvert_exporter": "python",
   "pygments_lexer": "ipython3",
   "version": "3.11.5"
  }
 },
 "nbformat": 4,
 "nbformat_minor": 2
}
