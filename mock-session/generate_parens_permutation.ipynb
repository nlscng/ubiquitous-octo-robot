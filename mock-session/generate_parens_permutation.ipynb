{
 "cells": [
  {
   "cell_type": "markdown",
   "metadata": {},
   "source": [
    "Given an integer, generate all possible valid parentheses.\n",
    "\n",
    "\n",
    "n = 1\n",
    "output: [\"()\"]\n",
    "\n",
    "n = 2\n",
    "output: [\"(())\", \"()()\"]\n",
    "\n",
    "n = 3\n",
    "output: [\"((()))\", \"(()())\", \"(())()\", \"()(())\", \"()()()\"]\n",
    "\n",
    "n = 4\n",
    "output should contain: [\"(((())))\", \"((()()))\", \"((())())\", \"((()))()\", \"(()(()))\", \"(()()())\", \"(()())()\", \"(())(())\", \"(())()()\", \"()((()))\", \"()(()())\", \"()(())()\", \"()()(())\", \"()()()()\"]"
   ]
  },
  {
   "cell_type": "code",
   "execution_count": 1,
   "metadata": {},
   "outputs": [],
   "source": [
    "from typing import List"
   ]
  },
  {
   "cell_type": "code",
   "execution_count": 12,
   "metadata": {},
   "outputs": [],
   "source": [
    "\n",
    "def generate_parens(n: int) -> List[str]:\n",
    "    assert n > 0\n",
    "    if n == 1:\n",
    "        return ['()']\n",
    "    \n",
    "    res = []\n",
    "\n",
    "    def is_valid(s: str):\n",
    "        open_count = 0\n",
    "        for c in s:\n",
    "            if open_count < 0:\n",
    "                return False\n",
    "            if c == '(':\n",
    "                open_count += 1\n",
    "            else:\n",
    "                open_count -= 1\n",
    "        return True if open_count == 0 else False\n",
    "            \n",
    "\n",
    "    def recur(left: int, right: int, accu: str):\n",
    "        assert left + right <= 2 * n, f\"recursion went overboard\"\n",
    "        if left == n and right == n and is_valid(accu):\n",
    "            res.append(accu)\n",
    "        \n",
    "        if left > right:\n",
    "            if right < n:\n",
    "                recur(left, right + 1, accu + ')')\n",
    "            if left < n:\n",
    "                recur(left + 1, right, accu + '(')\n",
    "        elif left < n:\n",
    "            recur(left + 1, right, accu + '(')\n",
    "\n",
    "    recur(0, 0, '')\n",
    "    return res\n"
   ]
  },
  {
   "cell_type": "code",
   "execution_count": 13,
   "metadata": {},
   "outputs": [
    {
     "data": {
      "text/plain": [
       "42"
      ]
     },
     "execution_count": 13,
     "metadata": {},
     "output_type": "execute_result"
    }
   ],
   "source": [
    "len(generate_parens(5))"
   ]
  },
  {
   "cell_type": "code",
   "execution_count": 16,
   "metadata": {},
   "outputs": [],
   "source": [
    "'''\n",
    "tests\n",
    "'''\n",
    "\n",
    "out_1 = set(['()'])\n",
    "assert set(generate_parens(1)) == out_1\n",
    "\n",
    "out_2 = set([\"(())\", \"()()\"])\n",
    "assert set(generate_parens(2)) == out_2\n",
    "\n",
    "out_3 = set([\"((()))\", \"(()())\", \"(())()\", \"()(())\", \"()()()\"])\n",
    "assert out_3 == set(generate_parens(3))\n",
    "\n",
    "out_4 = set([\"(((())))\", \"((()()))\", \"((())())\", \"((()))()\", \"(()(()))\", \"(()()())\", \"(()())()\", \"(())(())\", \"(())()()\", \"()((()))\", \"()(()())\", \"()(())()\", \"()()(())\", \"()()()()\"])\n",
    "assert out_4 == set(generate_parens(4))"
   ]
  }
 ],
 "metadata": {
  "kernelspec": {
   "display_name": "base",
   "language": "python",
   "name": "python3"
  },
  "language_info": {
   "codemirror_mode": {
    "name": "ipython",
    "version": 3
   },
   "file_extension": ".py",
   "mimetype": "text/x-python",
   "name": "python",
   "nbconvert_exporter": "python",
   "pygments_lexer": "ipython3",
   "version": "3.11.5"
  }
 },
 "nbformat": 4,
 "nbformat_minor": 2
}
