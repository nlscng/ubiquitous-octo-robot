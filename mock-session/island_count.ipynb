{
 "cells": [
  {
   "cell_type": "markdown",
   "id": "acdd371f",
   "metadata": {},
   "source": [
    "\n",
    "Given a 2D array binaryMatrix of 0s and 1s, implement a function getNumberOfIslands that returns the number of\n",
    "islands of 1s in binaryMatrix.\n",
    "\n",
    "An island is defined as a group of adjacent values that are all 1s. A cell in binaryMatrix is considered adjacent\n",
    "to another cell if they are next to each either on the same row or column. Note that two values of 1 are not part\n",
    "of the same island if they’re sharing only a mutual “corner” (i.e. they are diagonally neighbors)."
   ]
  },
  {
   "cell_type": "code",
   "execution_count": 1,
   "id": "487b45e6",
   "metadata": {},
   "outputs": [],
   "source": [
    "\n",
    "\n",
    "# GG: this is similar to dfs in exploring neighbors\n",
    "\n",
    "def get_number_of_islands(binaryMatrix):\n",
    "    # safety check\n",
    "    counter = 0  # number of groups of island, hack\n",
    "\n",
    "    visited = set()\n",
    "\n",
    "    def explore_and_mark(row, col, arr):\n",
    "        visited.add((row, col))  # mark this visited\n",
    "        arr[row][col] = '*'\n",
    "        # north\n",
    "        if row > 0 and arr[row - 1][col] == 1 and (row - 1, col) not in visited:\n",
    "            explore_and_mark(row - 1, col, arr)\n",
    "\n",
    "        # west\n",
    "        if col > 0 and arr[row][col - 1] == 1 and (row, col - 1) not in visited:\n",
    "            explore_and_mark(row, col - 1, arr)\n",
    "\n",
    "        # south\n",
    "        if row < len(arr) - 1 and arr[row + 1][col] == 1 and (row + 1, col) not in visited:\n",
    "            explore_and_mark(row + 1, col, arr)\n",
    "\n",
    "        # east\n",
    "        if col < len(arr[0]) - 1 and arr[row][col + 1] == 1 and (row, col + 1) not in visited:\n",
    "            explore_and_mark(row, col + 1, arr)\n",
    "\n",
    "    # spin through all cell\n",
    "    for r in range(len(binaryMatrix)):\n",
    "        for c in range(len(binaryMatrix[0])):\n",
    "            if binaryMatrix[r][c] == 1:\n",
    "                counter += 1\n",
    "                explore_and_mark(r, c, binaryMatrix)  # recursive visit ...\n",
    "\n",
    "    return counter\n",
    "\n",
    "\n",
    "assert get_number_of_islands([[0]]) == 0\n",
    "assert get_number_of_islands([[1]]) == 1\n",
    "assert get_number_of_islands([[1,0,1,0]]) == 2\n",
    "assert get_number_of_islands([[1,0,1,0],[0,1,1,1],[0,0,1,0]]) == 2\n",
    "assert get_number_of_islands([[1,0,1,0],[0,1,1,1],[0,0,1,0],[1,1,0,0],[0,1,0,1]]) == 4\n",
    "assert get_number_of_islands([[0,1,0,1,0],[0,0,1,1,1],[1,0,0,1,0],[0,1,1,0,0],[1,0,1,0,1]]) == 6\n",
    "assert get_number_of_islands([[1,1,1,1,1],[1,1,1,1,1],[1,1,1,1,1],[1,1,1,1,1],[1,1,1,1,1]]) == 1"
   ]
  }
 ],
 "metadata": {
  "kernelspec": {
   "display_name": "base",
   "language": "python",
   "name": "python3"
  },
  "language_info": {
   "codemirror_mode": {
    "name": "ipython",
    "version": 3
   },
   "file_extension": ".py",
   "mimetype": "text/x-python",
   "name": "python",
   "nbconvert_exporter": "python",
   "pygments_lexer": "ipython3",
   "version": "3.11.5"
  }
 },
 "nbformat": 4,
 "nbformat_minor": 5
}
