{
 "cells": [
  {
   "cell_type": "markdown",
   "metadata": {},
   "source": [
    "Given a list of integers, write a function that returns the largest sum of non-adjacent numbers. Numbers can be 0\n",
    "or negative.\n",
    "\n",
    "For example, [2, 4, 6, 2, 5] should return 13, since we pick 2, 6, and 5. [5, 1, 1, 5] should return 10,\n",
    "since we pick 5 and 5.\n",
    "\n",
    "Follow-up: Can you do this in O(N) time and constant space?"
   ]
  },
  {
   "cell_type": "code",
   "execution_count": 3,
   "metadata": {},
   "outputs": [],
   "source": [
    "##DP, dynamic programming\n",
    "## this is an one-dimension array/memo dp problem\n",
    "\n",
    "from typing import List\n",
    "\n",
    "def max_sum_non_adjacent(liz: List[int]) -> int:\n",
    "\n",
    "    if not liz:\n",
    "        return 0\n",
    "    elif len(liz) == 1:\n",
    "        return liz[0]\n",
    "    elif len(liz) == 2:\n",
    "        return max(liz)\n",
    "\n",
    "    memo = [0] * len(liz)\n",
    "    memo[0] = liz[0]\n",
    "    memo[1] = max(liz[0], liz[1])\n",
    "\n",
    "    cur_max = 0\n",
    "    cur_sum = 0\n",
    "    for i in range(2, len(memo)):\n",
    "        cur_sum = liz[i] + memo[i-2]\n",
    "        cur_max = max(cur_max, cur_sum)\n",
    "        memo[i] = cur_max\n",
    "\n",
    "    return max(memo)"
   ]
  },
  {
   "cell_type": "code",
   "execution_count": 7,
   "metadata": {},
   "outputs": [],
   "source": [
    "assert max_sum_non_adjacent([]) == 0\n",
    "assert max_sum_non_adjacent([1]) == 1\n",
    "assert max_sum_non_adjacent([2, 4, 6, 2, 5]) == 13\n",
    "assert max_sum_non_adjacent([2, 4, 6, 2, 2, 5]) == 13\n",
    "assert max_sum_non_adjacent([2, 4, 6, 2, 2, 2, 5]) == 15\n",
    "assert max_sum_non_adjacent([5, 1, 1, 5]) == 10\n",
    "assert max_sum_non_adjacent([3, -1, -2, 1, 0]) == 4\n",
    "assert max_sum_non_adjacent([-1, 2, -1]) == 2\n"
   ]
  }
 ],
 "metadata": {
  "kernelspec": {
   "display_name": "base",
   "language": "python",
   "name": "python3"
  },
  "language_info": {
   "codemirror_mode": {
    "name": "ipython",
    "version": 3
   },
   "file_extension": ".py",
   "mimetype": "text/x-python",
   "name": "python",
   "nbconvert_exporter": "python",
   "pygments_lexer": "ipython3",
   "version": "3.11.5"
  }
 },
 "nbformat": 4,
 "nbformat_minor": 2
}
