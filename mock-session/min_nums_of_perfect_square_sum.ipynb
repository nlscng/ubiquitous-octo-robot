{
 "cells": [
  {
   "cell_type": "markdown",
   "metadata": {},
   "source": [
    "This problem was asked by Facebook.\n",
    "\n",
    "Given a positive integer n, find the smallest number of squared integers which sum to n.\n",
    "\n",
    "For example, given n = 13, return 2 since 13 = 3^2 + 2^2 = 9 + 4.\n",
    "\n",
    "Given n = 27, return 3 since 27 = 3^2 + 3^2 + 3^2 = 9 + 9 + 9."
   ]
  },
  {
   "cell_type": "code",
   "execution_count": 22,
   "metadata": {},
   "outputs": [],
   "source": [
    "##DP \n",
    "\n",
    "# This feels like a dynamic programming problem, similar to coin changes, except coins on squares."
   ]
  },
  {
   "cell_type": "code",
   "execution_count": null,
   "metadata": {},
   "outputs": [],
   "source": [
    "from typing import List\n",
    "\n",
    "def get_all_squares_less_than(k: int) -> List[int]:\n",
    "    if k <= 0:\n",
    "        return []\n",
    "    \n",
    "    res = []\n",
    "    walker = 1\n",
    "    walker_sq = 1\n",
    "    while walker_sq <= k:\n",
    "        res.append(walker_sq)\n",
    "        walker += 1\n",
    "        walker_sq = walker * walker\n",
    "    \n",
    "    return res\n",
    "\n",
    "\n",
    "def perfect_square_sum(n: int) -> int:\n",
    "    if n <= 0:\n",
    "        return 0\n",
    "\n",
    "    all_squares = get_all_squares_less_than(n)\n",
    "    memo = [0] * (n + 1) # memo is zero indexed, with len of n+1\n",
    "    memo[1] = 1\n",
    "    # for one_square in all_squares:\n",
    "    #     memo[one_square] = 1\n",
    "\n",
    "    \n",
    "    for i in range(2, n+1):\n",
    "        prev_sq_idx = [i - x for x in all_squares if i - x >= 0]\n",
    "        memo[i] = min([memo[y] for y in prev_sq_idx]) + 1\n",
    "\n",
    "    return memo[n]\n",
    "\n"
   ]
  },
  {
   "cell_type": "code",
   "execution_count": null,
   "metadata": {},
   "outputs": [],
   "source": [
    "'''\n",
    "tests\n",
    "'''\n",
    "\n",
    "assert get_all_squares_less_than(3) == [1]\n",
    "assert get_all_squares_less_than(10) == [1, 4, 9]\n",
    "assert get_all_squares_less_than(9) == [1, 4, 9]\n",
    "assert get_all_squares_less_than(0) == []\n",
    "\n",
    "assert perfect_square_sum(13) == 2\n",
    "assert perfect_square_sum(18) == 2\n",
    "assert perfect_square_sum(12) == 3, f\"expected: 3, got: {perfect_square_sum(27)}\"\n",
    "assert perfect_square_sum(27) == 3, f\"expected: 3, got: {perfect_square_sum(27)}\""
   ]
  }
 ],
 "metadata": {
  "kernelspec": {
   "display_name": "base",
   "language": "python",
   "name": "python3"
  },
  "language_info": {
   "codemirror_mode": {
    "name": "ipython",
    "version": 3
   },
   "file_extension": ".py",
   "mimetype": "text/x-python",
   "name": "python",
   "nbconvert_exporter": "python",
   "pygments_lexer": "ipython3",
   "version": "3.11.5"
  }
 },
 "nbformat": 4,
 "nbformat_minor": 2
}
