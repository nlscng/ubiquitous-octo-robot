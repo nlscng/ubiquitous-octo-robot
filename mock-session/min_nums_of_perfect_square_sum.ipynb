{
 "cells": [
  {
   "cell_type": "markdown",
   "metadata": {},
   "source": [
    "This problem was asked by Facebook.\n",
    "\n",
    "Given a positive integer n, find the smallest number of squared integers which sum to n.\n",
    "\n",
    "For example, given n = 13, return 2 since 13 = 32 + 22 = 9 + 4.\n",
    "\n",
    "Given n = 27, return 3 since 27 = 32 + 32 + 32 = 9 + 9 + 9."
   ]
  },
  {
   "cell_type": "code",
   "execution_count": 1,
   "metadata": {},
   "outputs": [],
   "source": [
    "# This feels like a dynamic programming problem, similar to coin changes, except coins on squares."
   ]
  },
  {
   "cell_type": "code",
   "execution_count": null,
   "metadata": {},
   "outputs": [],
   "source": []
  }
 ],
 "metadata": {
  "kernelspec": {
   "display_name": "base",
   "language": "python",
   "name": "python3"
  },
  "language_info": {
   "codemirror_mode": {
    "name": "ipython",
    "version": 3
   },
   "file_extension": ".py",
   "mimetype": "text/x-python",
   "name": "python",
   "nbconvert_exporter": "python",
   "pygments_lexer": "ipython3",
   "version": "3.11.5"
  }
 },
 "nbformat": 4,
 "nbformat_minor": 2
}
