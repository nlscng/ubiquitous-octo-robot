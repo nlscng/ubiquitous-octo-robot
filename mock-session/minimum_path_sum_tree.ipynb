{
 "cells": [
  {
   "cell_type": "markdown",
   "metadata": {},
   "source": [
    "The car manufacturer Honda holds their distribution system in the form of a tree (not necessarily binary). The root is the company itself, and every node in the tree represents a car distributor that receives cars from the parent node and ships them to its children nodes. The leaf nodes are car dealerships that sell cars direct to consumers. In addition, every node holds an integer that is the cost of shipping a car to it.\n",
    "\n",
    "Take for example the tree below:\n",
    "\n",
    "```\n",
    "      0\n",
    "   /  |  \\\n",
    "   5  3    6\n",
    "  /  / \\   / \\\n",
    " 4  2  0  1   5\n",
    "   /   /\n",
    "   1  10\n",
    "   /\n",
    "   1\n",
    "```"
   ]
  },
  {
   "cell_type": "code",
   "execution_count": 1,
   "metadata": {},
   "outputs": [
    {
     "name": "stdout",
     "output_type": "stream",
     "text": [
      "3\n"
     ]
    }
   ],
   "source": [
    "from typing import List, Optional\n",
    "\n",
    "class Node:\n",
    "    # Constructor to create a new node\n",
    "    def __init__(self, cost: int):\n",
    "        self.cost: int = cost\n",
    "        self.children: List['Node'] = []\n",
    "        self.parent: Optional['Node'] = None\n",
    "\n",
    "def get_cheapest_cost(rootNode: Node) -> int:\n",
    "    # your code goes here\n",
    "    if not rootNode:\n",
    "        return 0\n",
    "    if len(rootNode.children) == 0:\n",
    "        return rootNode.cost\n",
    "    \n",
    "    cur_min = 9999\n",
    "    stack = [(rootNode, rootNode.cost)]\n",
    "\n",
    "    while len(stack) > 0:\n",
    "        cur_node, cur_sum = stack.pop()\n",
    "        if len(cur_node.children) == 0:\n",
    "            cur_min = min(cur_min, cur_sum)\n",
    "        else:\n",
    "            to_explore = [(n, n.cost + cur_sum) for n in cur_node.children]\n",
    "            stack.extend(to_explore)\n",
    "    return cur_min\n",
    "\n",
    "\n",
    "\n",
    "# debug your code below\n",
    "root = Node(0)\n",
    "root.children = [Node(5), Node(3), Node(6)]\n",
    "root.children[0].children = [Node(4), Node(2)]\n",
    "root.children[1].children = [Node(0)]\n",
    "root.children[2].children = [Node(1), Node(5)]\n",
    "\n",
    "print(get_cheapest_cost(root)) "
   ]
  }
 ],
 "metadata": {
  "kernelspec": {
   "display_name": "base",
   "language": "python",
   "name": "python3"
  },
  "language_info": {
   "codemirror_mode": {
    "name": "ipython",
    "version": 3
   },
   "file_extension": ".py",
   "mimetype": "text/x-python",
   "name": "python",
   "nbconvert_exporter": "python",
   "pygments_lexer": "ipython3",
   "version": "3.11.5"
  }
 },
 "nbformat": 4,
 "nbformat_minor": 2
}
