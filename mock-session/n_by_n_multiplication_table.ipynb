{
 "cells": [
  {
   "cell_type": "markdown",
   "id": "13586367",
   "metadata": {},
   "source": [
    "This problem was asked by Apple.\n",
    "\n",
    "Suppose you have a multiplication table that is N by N. That is, a 2D array where the value at the i-th row and j-th column is (i + 1) * (j + 1) (if 0-indexed) or i * j (if 1-indexed).\n",
    "\n",
    "Given integers N and X, write a function that returns the number of times X appears as a value in an N by N multiplication table.\n",
    "\n",
    "For example, given N = 6 and X = 12, you should return 4, since the multiplication table looks like this:\n",
    "\n",
    "| 1 | 2 | 3 | 4 | 5 | 6 |\n",
    "\n",
    "| 2 | 4 | 6 | 8 | 10 | 12 |\n",
    "\n",
    "| 3 | 6 | 9 | 12 | 15 | 18 |\n",
    "\n",
    "| 4 | 8 | 12 | 16 | 20 | 24 |\n",
    "\n",
    "| 5 | 10 | 15 | 20 | 25 | 30 |\n",
    "\n",
    "| 6 | 12 | 18 | 24 | 30 | 36 |\n",
    "\n",
    "And there are 4 12's in the table."
   ]
  },
  {
   "cell_type": "code",
   "execution_count": null,
   "id": "e6242583",
   "metadata": {},
   "outputs": [],
   "source": [
    "## This feels like a variation of 2-sum problem, where we can scan or walk with some utilitity information on the side\n",
    "from typing import List\n",
    "\n",
    "def n_by_n_multi_table(n: int, x: int) -> int:\n",
    "    count = 0\n",
    "    for i in range(1, n + 1):\n",
    "        #print(f\"i: {i}, x: {x}\")\n",
    "        if i != 1 and x % i == 0:\n",
    "            count += 1\n",
    "    return count"
   ]
  },
  {
   "cell_type": "code",
   "execution_count": 11,
   "id": "e4a8c5cb",
   "metadata": {},
   "outputs": [
    {
     "name": "stdout",
     "output_type": "stream",
     "text": [
      "i: 1, x: 25\n",
      "i: 2, x: 25\n",
      "i: 3, x: 25\n",
      "i: 4, x: 25\n",
      "i: 5, x: 25\n",
      "i: 6, x: 25\n",
      "i: 7, x: 25\n",
      "i: 8, x: 25\n",
      "i: 9, x: 25\n",
      "i: 10, x: 25\n",
      "i: 1, x: 25\n",
      "i: 2, x: 25\n",
      "i: 3, x: 25\n",
      "i: 4, x: 25\n",
      "i: 5, x: 25\n",
      "i: 6, x: 25\n",
      "i: 7, x: 25\n",
      "i: 8, x: 25\n",
      "i: 9, x: 25\n",
      "i: 10, x: 25\n"
     ]
    },
    {
     "ename": "AssertionError",
     "evalue": "1",
     "output_type": "error",
     "traceback": [
      "\u001b[1;31m---------------------------------------------------------------------------\u001b[0m",
      "\u001b[1;31mAssertionError\u001b[0m                            Traceback (most recent call last)",
      "Cell \u001b[1;32mIn[11], line 5\u001b[0m\n\u001b[0;32m      1\u001b[0m \u001b[38;5;66;03m# assert n_by_n_multi_table(6, 12) == 4, n_by_n_multi_table(6, 12)\u001b[39;00m\n\u001b[0;32m      2\u001b[0m \u001b[38;5;66;03m# assert n_by_n_multi_table(10, 121) == 0\u001b[39;00m\n\u001b[0;32m      3\u001b[0m \u001b[38;5;66;03m# assert n_by_n_multi_table(10, 49) == 1\u001b[39;00m\n\u001b[1;32m----> 5\u001b[0m \u001b[38;5;28;01massert\u001b[39;00m n_by_n_multi_table(\u001b[38;5;241m10\u001b[39m, \u001b[38;5;241m25\u001b[39m) \u001b[38;5;241m==\u001b[39m \u001b[38;5;241m10\u001b[39m, n_by_n_multi_table(\u001b[38;5;241m10\u001b[39m, \u001b[38;5;241m25\u001b[39m)\n",
      "\u001b[1;31mAssertionError\u001b[0m: 1"
     ]
    }
   ],
   "source": [
    "# assert n_by_n_multi_table(6, 12) == 4, n_by_n_multi_table(6, 12)\n",
    "# assert n_by_n_multi_table(10, 121) == 0\n",
    "# assert n_by_n_multi_table(10, 49) == 1\n",
    "\n",
    "assert n_by_n_multi_table(10, 25) == 10, n_by_n_multi_table(10, 25)"
   ]
  },
  {
   "cell_type": "code",
   "execution_count": null,
   "id": "ce8f7fee",
   "metadata": {},
   "outputs": [],
   "source": []
  }
 ],
 "metadata": {
  "kernelspec": {
   "display_name": "base",
   "language": "python",
   "name": "python3"
  },
  "language_info": {
   "codemirror_mode": {
    "name": "ipython",
    "version": 3
   },
   "file_extension": ".py",
   "mimetype": "text/x-python",
   "name": "python",
   "nbconvert_exporter": "python",
   "pygments_lexer": "ipython3",
   "version": "3.11.5"
  }
 },
 "nbformat": 4,
 "nbformat_minor": 5
}
