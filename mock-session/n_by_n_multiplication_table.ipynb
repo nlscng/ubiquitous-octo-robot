{
 "cells": [
  {
   "cell_type": "markdown",
   "id": "13586367",
   "metadata": {},
   "source": [
    "This problem was asked by Apple.\n",
    "\n",
    "Suppose you have a multiplication table that is N by N. That is, a 2D array where the value at the i-th row and j-th column is (i + 1) * (j + 1) (if 0-indexed) or i * j (if 1-indexed).\n",
    "\n",
    "Given integers N and X, write a function that returns the number of times X appears as a value in an N by N multiplication table.\n",
    "\n",
    "For example, given N = 6 and X = 12, you should return 4, since the multiplication table looks like this:\n",
    "\n",
    "| 1 | 2 | 3 | 4 | 5 | 6 |\n",
    "\n",
    "| 2 | 4 | 6 | 8 | 10 | 12 |\n",
    "\n",
    "| 3 | 6 | 9 | 12 | 15 | 18 |\n",
    "\n",
    "| 4 | 8 | 12 | 16 | 20 | 24 |\n",
    "\n",
    "| 5 | 10 | 15 | 20 | 25 | 30 |\n",
    "\n",
    "| 6 | 12 | 18 | 24 | 30 | 36 |\n",
    "\n",
    "And there are 4 12's in the table."
   ]
  },
  {
   "cell_type": "code",
   "execution_count": 6,
   "id": "e6242583",
   "metadata": {},
   "outputs": [],
   "source": [
    "## This feels like a variation of 2-sum problem, where we can scan or walk with some utilitity information on the side\n",
    "from typing import List\n",
    "\n",
    "def n_by_n_multi_table(n: int, x: int) -> int:\n",
    "    count = 0\n",
    "    for i in range(1, n + 1):\n",
    "        #print(f\"i: {i}, x: {x}\")\n",
    "        if i != 1 and x % i == 0 and x / i <= n:\n",
    "            count += 1\n",
    "    return count"
   ]
  },
  {
   "cell_type": "code",
   "execution_count": null,
   "id": "e4a8c5cb",
   "metadata": {},
   "outputs": [],
   "source": [
    "# assert n_by_n_multi_table(6, 12) == 4, n_by_n_multi_table(6, 12)\n",
    "# assert n_by_n_multi_table(10, 121) == 0\n",
    "# assert n_by_n_multi_table(10, 49) == 1\n",
    "\n",
    "assert n_by_n_multi_table(10, 25) == 1, n_by_n_multi_table(10, 25)\n",
    "assert n_by_n_multi_table(10, 60) == 2, n_by_n_multi_table(10, 60) \n",
    "assert n_by_n_multi_table(10, 72) == 2, n_by_n_multi_table(10, 72) \n",
    "assert n_by_n_multi_table(10, 24) == 4, n_by_n_multi_table(10, 24) "
   ]
  }
 ],
 "metadata": {
  "kernelspec": {
   "display_name": "base",
   "language": "python",
   "name": "python3"
  },
  "language_info": {
   "codemirror_mode": {
    "name": "ipython",
    "version": 3
   },
   "file_extension": ".py",
   "mimetype": "text/x-python",
   "name": "python",
   "nbconvert_exporter": "python",
   "pygments_lexer": "ipython3",
   "version": "3.11.5"
  }
 },
 "nbformat": 4,
 "nbformat_minor": 5
}
