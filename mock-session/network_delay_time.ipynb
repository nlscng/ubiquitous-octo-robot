{
 "cells": [
  {
   "cell_type": "markdown",
   "metadata": {},
   "source": [
    "This problem was asked by Twitter.\n",
    "\n",
    "A network consists of nodes labeled 0 to N. You are given a list of edges (a, b, t), describing the time t it takes for a message to be sent from node a to node b. Whenever a node receives a message, it immediately passes the message on to a neighboring node, if possible.\n",
    "\n",
    "Assuming all nodes are connected, determine how long it will take for every node to receive a message that begins at node 0.\n",
    "\n",
    "For example, given N = 5, and the following edges:\n",
    "\n",
    "```\n",
    "edges = [\n",
    "    (0, 1, 5),\n",
    "    (0, 2, 3),\n",
    "    (0, 5, 4),\n",
    "    (1, 3, 8),\n",
    "    (2, 3, 1),\n",
    "    (3, 5, 10),\n",
    "    (3, 4, 5)\n",
    "]\n",
    "```\n",
    "\n",
    "You should return 9, because propagating the message from 0 -> 2 -> 3 -> 4 will take that much time."
   ]
  },
  {
   "cell_type": "code",
   "execution_count": 5,
   "metadata": {},
   "outputs": [],
   "source": [
    "'''\n",
    "This is a dijkstra's algorithm problem I think.\n",
    "\n",
    "'''\n",
    "from typing import List, Tuple\n",
    "from collections import deque\n",
    "from heapq import heapify, heappop, heappush\n",
    "\n",
    "def network_delay(edges: List[Tuple[int, int, int]]) -> int:\n",
    "    assert edges\n",
    "\n",
    "    ttr = {x: 999 for x in range(len(edges))}\n",
    "    ttr[0] = 0\n",
    "\n",
    "    # dijkstra\n",
    "    heap = []\n",
    "    heapify(heap)\n",
    "    heappush(heap, (0, 0)) # the elements are in the forms of (delay from 0, node number)\n",
    "    seen = set()\n",
    "\n",
    "    while len(heap) > 0:\n",
    "        # if not already seen/explored, add to seen\n",
    "        cur = heappop(heap)\n",
    "        delay, node = cur\n",
    "        if node not in seen:\n",
    "            seen.add(node)\n",
    "\n",
    "        # update all neighbors \n",
    "        neighbors = [(td + delay, tn) for fn, tn, td in edges if fn == node and tn not in seen]\n",
    "        for one_neighbor in neighbors:\n",
    "            td, tn = one_neighbor\n",
    "            ttr[tn] = min(ttr[tn], td)\n",
    "            heappush(heap, one_neighbor)\n",
    "\n",
    "    print(heap)\n",
    "    return 0\n"
   ]
  },
  {
   "cell_type": "code",
   "execution_count": 6,
   "metadata": {},
   "outputs": [
    {
     "name": "stdout",
     "output_type": "stream",
     "text": [
      "[]\n"
     ]
    },
    {
     "data": {
      "text/plain": [
       "0"
      ]
     },
     "execution_count": 6,
     "metadata": {},
     "output_type": "execute_result"
    }
   ],
   "source": [
    "'''tests'''\n",
    "\n",
    "edges = [\n",
    "    (0, 1, 5),\n",
    "    (0, 2, 3),\n",
    "    (0, 5, 4),\n",
    "    (1, 3, 8),\n",
    "    (2, 3, 1),\n",
    "    (3, 5, 10),\n",
    "    (3, 4, 5)\n",
    "]\n",
    "\n",
    "network_delay(edges)"
   ]
  }
 ],
 "metadata": {
  "kernelspec": {
   "display_name": "base",
   "language": "python",
   "name": "python3"
  },
  "language_info": {
   "codemirror_mode": {
    "name": "ipython",
    "version": 3
   },
   "file_extension": ".py",
   "mimetype": "text/x-python",
   "name": "python",
   "nbconvert_exporter": "python",
   "pygments_lexer": "ipython3",
   "version": "3.11.5"
  }
 },
 "nbformat": 4,
 "nbformat_minor": 2
}
