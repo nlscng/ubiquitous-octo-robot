{
 "cells": [
  {
   "cell_type": "code",
   "execution_count": 2,
   "metadata": {},
   "outputs": [],
   "source": [
    "\n",
    "def root(x: int, n: int) -> float:\n",
    "    # binary search on the number line\n",
    "    delta = 0.001\n",
    "\n",
    "    left = 1 if x > 1 else 0\n",
    "    right = x\n",
    "    mid = (left + right) / 2\n",
    "\n",
    "    product = mid ** n\n",
    "    counter = 0\n",
    "    while abs(product - x) > delta:\n",
    "        if product < x:\n",
    "            left = mid\n",
    "        else:\n",
    "            right = mid\n",
    "        mid = (left + right) / 2\n",
    "        product = mid ** n\n",
    "        # counter += 1\n",
    "        # # if counter % 10 == 0:\n",
    "        # print(mid, product)\n",
    "    return mid"
   ]
  },
  {
   "cell_type": "code",
   "execution_count": 5,
   "metadata": {},
   "outputs": [],
   "source": [
    "delta = 0.001\n",
    "\n",
    "out_1 = root(4, 2)\n",
    "exp_1 = 2\n",
    "assert abs(out_1 - exp_1) <= delta\n",
    "\n",
    "out_2 = root(3, 2)\n",
    "exp_2 = 1.732\n",
    "assert abs(out_2 - exp_2) <= delta\n",
    "\n",
    "out_3 = root(160, 3)\n",
    "exp_3 = 5.429\n",
    "assert abs(out_3 - exp_3) <= delta\n",
    "\n",
    "out_4 = root(100, 7)\n",
    "exp_4 = 1.930\n",
    "assert abs(out_4 - exp_4) <= delta"
   ]
  }
 ],
 "metadata": {
  "kernelspec": {
   "display_name": "base",
   "language": "python",
   "name": "python3"
  },
  "language_info": {
   "codemirror_mode": {
    "name": "ipython",
    "version": 3
   },
   "file_extension": ".py",
   "mimetype": "text/x-python",
   "name": "python",
   "nbconvert_exporter": "python",
   "pygments_lexer": "ipython3",
   "version": "3.11.5"
  }
 },
 "nbformat": 4,
 "nbformat_minor": 2
}
