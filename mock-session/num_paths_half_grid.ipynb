{
 "cells": [
  {
   "cell_type": "markdown",
   "metadata": {},
   "source": [
    "You’re testing a new driverless car that is located at the Southwest (bottom-left) corner of an n×n grid. The car\n",
    "is supposed to get to the opposite, Northeast (top-right), corner of the grid. Given n, the size of the grid’s\n",
    "axes, write a function numOfPathsToDest that returns the number of the possible paths the driverless car can take.\n",
    "\n",
    "\n",
    "For convenience, let’s represent every square in the grid as a pair (i,j). The first coordinate in the pair denotes\n",
    "the east-to-west axis, and the second coordinate denotes the south-to-north axis. The initial state of the car is (\n",
    "0,0), and the destination is (n-1,n-1).\n",
    "\n",
    "The car must abide by the following two rules: it cannot cross the diagonal border. In other words, in every step\n",
    "the position (i,j) needs to maintain i >= j. See the illustration above for n = 5. In every step, it may go one\n",
    "square North (up), or one square East (right), but not both. E.g. if the car is at (3,1), it may go to (3,2) or (4,\n",
    "1).\n",
    "\n",
    "Explain the correctness of your function, and analyze its time and space complexities.\n",
    "\n"
   ]
  },
  {
   "cell_type": "code",
   "execution_count": 1,
   "metadata": {},
   "outputs": [],
   "source": [
    "\n",
    "\n",
    "def num_of_paths_to_dest(n):\n",
    "    table = [[0] * (n + 1) for _ in range(n + 1)]\n",
    "\n",
    "    ## init\n",
    "    table[1][1] = 1\n",
    "    for i in range(len(table[0])):\n",
    "        table[0][i] = 0\n",
    "    for i in range(len(table[0])):\n",
    "        table[i][0] = 0\n",
    "\n",
    "    for i in range(1, n + 1):\n",
    "        for j in range(2, n + 1):\n",
    "            if i > j:\n",
    "                pass\n",
    "            elif i == j:\n",
    "                table[i][j] = table[i - 1][j]\n",
    "            else:\n",
    "                table[i][j] = table[i - 1][j] + table[i][j - 1]\n",
    "\n",
    "    return table[n][n]\n"
   ]
  },
  {
   "cell_type": "code",
   "execution_count": 2,
   "metadata": {},
   "outputs": [],
   "source": [
    "assert num_of_paths_to_dest(1) == 1\n",
    "assert num_of_paths_to_dest(2) == 1\n",
    "assert num_of_paths_to_dest(3) == 2\n",
    "assert num_of_paths_to_dest(4) == 5\n",
    "assert num_of_paths_to_dest(6) == 42\n",
    "assert num_of_paths_to_dest(17) == 35357670"
   ]
  }
 ],
 "metadata": {
  "kernelspec": {
   "display_name": "base",
   "language": "python",
   "name": "python3"
  },
  "language_info": {
   "codemirror_mode": {
    "name": "ipython",
    "version": 3
   },
   "file_extension": ".py",
   "mimetype": "text/x-python",
   "name": "python",
   "nbconvert_exporter": "python",
   "pygments_lexer": "ipython3",
   "version": "3.11.5"
  }
 },
 "nbformat": 4,
 "nbformat_minor": 2
}
