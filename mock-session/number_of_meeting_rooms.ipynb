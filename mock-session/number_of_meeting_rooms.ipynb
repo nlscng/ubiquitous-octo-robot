{
 "cells": [
  {
   "cell_type": "markdown",
   "metadata": {},
   "source": [
    "Given a list of intervals, where each interval is a starting time and end time for a meeting, find the minimum required rooms.\n",
    "\n",
    "For example, [[3, 8], [5, 10]] would require 2 rooms, and so does [[0, 30], [3, 5], [5, 10], [15, 20]]"
   ]
  },
  {
   "cell_type": "code",
   "execution_count": 2,
   "metadata": {},
   "outputs": [],
   "source": [
    "from typing import List\n",
    "def num_of_rooms(intervals: List[List[int]]) -> int:\n",
    "    if intervals is None or len(intervals) == 0:\n",
    "        return 0\n",
    "    \n",
    "    # collect all time points so we can walk through them later\n",
    "    times = [] # elements in the pattern of (time, start or end of interval)\n",
    "    for one_int in intervals:\n",
    "        s, e = one_int\n",
    "        times.append((s, 1))\n",
    "        times.append((e, -1))\n",
    "\n",
    "    sorted_times = sorted(times)\n",
    "\n",
    "    max_count, count = 0, 0\n",
    "    for _, change in sorted_times:\n",
    "        count += change\n",
    "        max_count = max(max_count, count)\n",
    "    return max_count\n"
   ]
  },
  {
   "cell_type": "code",
   "execution_count": 5,
   "metadata": {},
   "outputs": [],
   "source": [
    "'''\n",
    "test\n",
    "'''\n",
    "test1 = [[0, 30], [3, 16], [8, 12], [15, 28]]\n",
    "exp1 = 3\n",
    "out1 = num_of_rooms(test1)\n",
    "assert out1 == exp1, f\"expected: {exp1}, got: {out1}\"\n",
    "\n",
    "test2 = []\n",
    "assert num_of_rooms(test2) == 0\n",
    "\n",
    "test3 = [[2, 5], [3, 6], [4, 7]]\n",
    "assert num_of_rooms(test3) == 3\n"
   ]
  }
 ],
 "metadata": {
  "kernelspec": {
   "display_name": "base",
   "language": "python",
   "name": "python3"
  },
  "language_info": {
   "codemirror_mode": {
    "name": "ipython",
    "version": 3
   },
   "file_extension": ".py",
   "mimetype": "text/x-python",
   "name": "python",
   "nbconvert_exporter": "python",
   "pygments_lexer": "ipython3",
   "version": "3.11.5"
  }
 },
 "nbformat": 4,
 "nbformat_minor": 2
}
