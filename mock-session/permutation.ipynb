{
 "cells": [
  {
   "cell_type": "markdown",
   "metadata": {},
   "source": [
    "Given a list of characters, return all possible permutations from this list. Let's assume no duplicate in this list.\n"
   ]
  },
  {
   "cell_type": "code",
   "execution_count": 4,
   "metadata": {},
   "outputs": [],
   "source": [
    "from typing import List"
   ]
  },
  {
   "cell_type": "code",
   "execution_count": 45,
   "metadata": {},
   "outputs": [],
   "source": [
    "def find_permu(chrs: List[str]) -> List[List[str]]: \n",
    "    if not chrs:\n",
    "        return []\n",
    "    if len(chrs) == 1:\n",
    "        return chrs\n",
    "    \n",
    "    assert all(len(x) == 1 for x in chrs)\n",
    "\n",
    "    res = []\n",
    "\n",
    "    def inner(acc: List[str], remain: List[str]):\n",
    "        if len(remain) == 0:\n",
    "            res.append(acc)\n",
    "            return\n",
    "        \n",
    "        for idx in range(len(remain)):\n",
    "            cur = remain[idx]\n",
    "            next_remain = remain[:idx] + remain[idx + 1:]\n",
    "            next_acc = acc + [cur]\n",
    "            inner(next_acc, next_remain)\n",
    "\n",
    "    inner([], chrs)\n",
    "    return res\n",
    "\n",
    "\n",
    "# def helper(acc: List[List[str]], res: List[str], chrs: List[str]):\n",
    "#     if len(chrs) == 0:\n",
    "#         acc.append(res)\n",
    "#         return\n",
    "\n",
    "#     for idx in range(len(chrs)):\n",
    "#         res.append(chrs[idx])\n",
    "#         helper(acc, res, chrs[:idx] + chrs[idx+1:])"
   ]
  },
  {
   "cell_type": "code",
   "execution_count": 46,
   "metadata": {},
   "outputs": [
    {
     "data": {
      "text/plain": [
       "[['a', 'b'], ['b', 'a']]"
      ]
     },
     "execution_count": 46,
     "metadata": {},
     "output_type": "execute_result"
    }
   ],
   "source": [
    "find_permu(['a', 'b'])"
   ]
  },
  {
   "cell_type": "code",
   "execution_count": 47,
   "metadata": {},
   "outputs": [
    {
     "data": {
      "text/plain": [
       "[['a', 'b', 'c'],\n",
       " ['a', 'c', 'b'],\n",
       " ['b', 'a', 'c'],\n",
       " ['b', 'c', 'a'],\n",
       " ['c', 'a', 'b'],\n",
       " ['c', 'b', 'a']]"
      ]
     },
     "execution_count": 47,
     "metadata": {},
     "output_type": "execute_result"
    }
   ],
   "source": [
    "find_permu(['a', 'b', 'c'])"
   ]
  }
 ],
 "metadata": {
  "kernelspec": {
   "display_name": "base",
   "language": "python",
   "name": "python3"
  },
  "language_info": {
   "codemirror_mode": {
    "name": "ipython",
    "version": 3
   },
   "file_extension": ".py",
   "mimetype": "text/x-python",
   "name": "python",
   "nbconvert_exporter": "python",
   "pygments_lexer": "ipython3",
   "version": "3.11.5"
  }
 },
 "nbformat": 4,
 "nbformat_minor": 2
}
