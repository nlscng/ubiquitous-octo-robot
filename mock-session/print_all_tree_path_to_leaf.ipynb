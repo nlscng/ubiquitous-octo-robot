{
 "cells": [
  {
   "cell_type": "markdown",
   "metadata": {},
   "source": [
    "Given a binary tree, print all path from root node to leaf nodes.\n",
    "\n"
   ]
  },
  {
   "cell_type": "code",
   "execution_count": 2,
   "metadata": {},
   "outputs": [],
   "source": [
    "from dataclasses import dataclass\n",
    "\n",
    "@dataclass\n",
    "class Node:\n",
    "    val: int\n",
    "    left: None\n",
    "    right: None\n"
   ]
  },
  {
   "cell_type": "code",
   "execution_count": 3,
   "metadata": {},
   "outputs": [],
   "source": [
    "from typing import List\n",
    "\n",
    "def print_paths(root: Node) -> List[List[int]]:\n",
    "    if not root:\n",
    "        return []\n",
    "    \n",
    "    stack = [(root, [])] # node, its parent path not including self\n",
    "    walker_ctx = None \n",
    "    res = []\n",
    "    while len(stack) > 0:\n",
    "        walker_ctx = stack.pop(-1)\n",
    "        walker_node, walker_path = walker_ctx\n",
    "        if not walker_node.left and not walker_node.right:\n",
    "            one_path = walker_path + [walker_node.val]\n",
    "            res.append(one_path)\n",
    "\n",
    "        if walker_node.left:\n",
    "            one_path = walker_path + [walker_node.val]\n",
    "            stack.append((walker_node.left, one_path))\n",
    "\n",
    "        if walker_node.right:\n",
    "            one_path = walker_path + [walker_node.val]\n",
    "            stack.append((walker_node.right, one_path))\n",
    "    return res"
   ]
  },
  {
   "cell_type": "code",
   "execution_count": 19,
   "metadata": {},
   "outputs": [],
   "source": [
    "def print_path_rec(root: Node) -> List[List[int]]:\n",
    "    if not root:\n",
    "        return []\n",
    "    \n",
    "    #GG: common pattern for backtracking?\n",
    "    cur_path = []\n",
    "    res = []\n",
    "    \n",
    "    # recursive dfs\n",
    "    def recur(cur_node: Node):\n",
    "        cur_path.append(cur_node.val)\n",
    "        if cur_node.left is None and cur_node.right is None:\n",
    "            res.append(cur_path[:]) #GG: python way of quick copying a list\n",
    "        else:\n",
    "            if cur_node.left:\n",
    "                recur(cur_node.left)\n",
    "            if cur_node.right:\n",
    "                recur(cur_node.right)\n",
    "        if len(cur_path) > 0:\n",
    "            cur_path.pop(-1)\n",
    "    \n",
    "    recur(root)\n",
    "    return res\n",
    "    \n"
   ]
  },
  {
   "cell_type": "code",
   "execution_count": 20,
   "metadata": {},
   "outputs": [
    {
     "name": "stdout",
     "output_type": "stream",
     "text": [
      "iterative: [[1, 2], [1, 3, 4], [1, 3, 5]]\n",
      "recursive: [[1, 3, 5], [1, 3, 4], [1, 2]]\n"
     ]
    }
   ],
   "source": [
    "a = Node(5, None, None)\n",
    "b = Node(4, None, None)\n",
    "c = Node(3, a, b)\n",
    "d = Node(2, None, None)\n",
    "e = Node(1, c, d)\n",
    "\n",
    "\n",
    "#    1\n",
    "#   / \\\n",
    "#   3  2\n",
    "#   /\\\n",
    "#  5 4 \n",
    "\n",
    "print(f\"iterative: {print_paths(e)}\")\n",
    "print(f\"recursive: {print_path_rec(e)}\")\n",
    "\n"
   ]
  }
 ],
 "metadata": {
  "kernelspec": {
   "display_name": "base",
   "language": "python",
   "name": "python3"
  },
  "language_info": {
   "codemirror_mode": {
    "name": "ipython",
    "version": 3
   },
   "file_extension": ".py",
   "mimetype": "text/x-python",
   "name": "python",
   "nbconvert_exporter": "python",
   "pygments_lexer": "ipython3",
   "version": "3.11.5"
  }
 },
 "nbformat": 4,
 "nbformat_minor": 2
}
