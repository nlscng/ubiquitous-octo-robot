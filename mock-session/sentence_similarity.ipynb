{
 "cells": [
  {
   "cell_type": "markdown",
   "metadata": {},
   "source": [
    "Sentence Similarity\n",
    "Determine if two sentences are similar. Two sentences are similar if they have the same length and each pair of corresponding words in the two sentences is similar. The similarity between words is defined by the provided list of similar word pairs. A word is always similar to itself.\n",
    "\n",
    "For example, if we have the list of similar word pairs as [(\"great\", \"good\"), (\"acting\",\"drama\"), (\"skills\",\"talent\")], then the sentences \"You have great acting skills\" and \"You have good drama talent\" are similar.\n",
    "\n",
    "Examples:\n",
    "\n",
    "```\n",
    "sentence1 = [\"Let's\", \"code\", \"in\", \"Python\"]\n",
    "sentence2 = [\"Let's\", \"program\", \"in\", \"Python\"]\n",
    "similarPairs = [\n",
    "    (\"code\", \"program\"),\n",
    "]\n",
    "output: true\n",
    "\n",
    "sentence1 = [\"I\", \"love\", \"to\", \"play\", \"football\"]\n",
    "sentence2 = [\"I\", \"love\", \"playing\", \"soccer\"]\n",
    "similarPairs = [(\"play\", \"playing\"), (\"football\", \"soccer\")]\n",
    "output: false, different sentence lengths\n",
    "\n",
    "sentence1 = [\"Do\", \"you\", \"like\", \"coffee\"]\n",
    "sentence2 = [\"Do\", \"you\", \"love\", \"coffee\"]\n",
    "similarPairs = [\n",
    "    (\"like\", \"enjoy\"),\n",
    "    (\"coffee\", \"tea\"),\n",
    "]\n",
    "output: false, \"like\" is not similar to \"love\" based on the given pairs.\n",
    "\n",
    "sentence1 = [\"I\", \"really\", \"love\", \"leetcode\", \"and\", \"apples\"]\n",
    "sentence2 = [\"I\", \"so\", \"like\", \"codesignal\", \"and\", \"oranges\"]\n",
    "similarPairs = [\n",
    "    (\"very\", \"so\"),\n",
    "    (\"love\", \"adore\"),\n",
    "    (\"really\", \"very\"),\n",
    "    (\"leetcode\", \"codesignal\"),\n",
    "    (\"apples\", \"oranges\"),\n",
    "    (\"like\", \"adore\"),\n",
    "]\n",
    "output: true, \"like\" is similar to \"love\", because both are similar to \"adore\".\n",
    "```"
   ]
  },
  {
   "cell_type": "code",
   "execution_count": 3,
   "metadata": {},
   "outputs": [
    {
     "name": "stdout",
     "output_type": "stream",
     "text": [
      "True\n"
     ]
    }
   ],
   "source": [
    "from typing import List, Dict, Set\n",
    "from collections import deque\n",
    "\n",
    "def are_two_words_similar(a: str, b: str, graph: Dict[str, List[str]]) -> bool:\n",
    "    # dfs through the graph adj matrix\n",
    "    stack: deque = deque([a])\n",
    "    seen: Set[str] = set()\n",
    "    while len(stack) != 0:\n",
    "        cur = stack.pop()\n",
    "        if cur == b:\n",
    "            return True\n",
    "        seen.add(cur)\n",
    "        all_edges = graph[cur]\n",
    "        new_edges = [e for e in all_edges if e not in seen]\n",
    "        stack.extend(new_edges)\n",
    "    return False\n",
    "    \n",
    "\n",
    "def areSentencesSimilar(sentence1: List[str],\n",
    "                        sentence2: List[str],\n",
    "                        similarPairs: List[List[str]]) -> bool:\n",
    "    if len(sentence1) != len(sentence2):\n",
    "        return False\n",
    "    \n",
    "    # build a adjacency matrix to represent word relationships as a graph\n",
    "    graph = {}\n",
    "    for one_pair in similarPairs:\n",
    "        left, right = one_pair\n",
    "        if left not in graph:\n",
    "            graph[left] = [right]\n",
    "        else:\n",
    "            graph[left].append(right)\n",
    "    \n",
    "        if right not in graph:\n",
    "            graph[right] = [left]\n",
    "        else:\n",
    "            graph[right].append(left)\n",
    "\n",
    "    # now \n",
    "    for idx in range(len(sentence1)):\n",
    "        if sentence1[idx] != sentence2[idx]:\n",
    "            if sentence1[idx] not in graph or sentence2[idx] not in graph:\n",
    "                return False\n",
    "            \n",
    "            confirm_similar = are_two_words_similar(sentence1[idx], sentence2[idx], graph)\n",
    "            if not confirm_similar:\n",
    "                return False\n",
    "    return True\n",
    "\n",
    "    \n",
    "# debug your code below\n",
    "sentence1 = [\"Let's\", \"code\", \"in\", \"Python\"]\n",
    "sentence2 = [\"Let's\", \"program\", \"in\", \"Python\"]\n",
    "similarPairs = [[\"code\", \"program\"]]\n",
    "\n",
    "print(areSentencesSimilar(sentence1, sentence2, similarPairs))"
   ]
  },
  {
   "cell_type": "code",
   "execution_count": 9,
   "metadata": {},
   "outputs": [
    {
     "ename": "KeyError",
     "evalue": "'coding'",
     "output_type": "error",
     "traceback": [
      "\u001b[1;31m---------------------------------------------------------------------------\u001b[0m",
      "\u001b[1;31mKeyError\u001b[0m                                  Traceback (most recent call last)",
      "Cell \u001b[1;32mIn[9], line 22\u001b[0m\n\u001b[0;32m     19\u001b[0m \u001b[38;5;28;01massert\u001b[39;00m out4\n\u001b[0;32m     21\u001b[0m s1, s2, pairs1 \u001b[38;5;241m=\u001b[39m [\u001b[38;5;124m'\u001b[39m\u001b[38;5;124mi\u001b[39m\u001b[38;5;124m'\u001b[39m, \u001b[38;5;124m'\u001b[39m\u001b[38;5;124menjoy\u001b[39m\u001b[38;5;124m'\u001b[39m, \u001b[38;5;124m'\u001b[39m\u001b[38;5;124mcoding\u001b[39m\u001b[38;5;124m'\u001b[39m, \u001b[38;5;124m'\u001b[39m\u001b[38;5;124mvery\u001b[39m\u001b[38;5;124m'\u001b[39m, \u001b[38;5;124m'\u001b[39m\u001b[38;5;124mmuch\u001b[39m\u001b[38;5;124m'\u001b[39m], [\u001b[38;5;124m'\u001b[39m\u001b[38;5;124mi\u001b[39m\u001b[38;5;124m'\u001b[39m, \u001b[38;5;124m'\u001b[39m\u001b[38;5;124mlove\u001b[39m\u001b[38;5;124m'\u001b[39m, \u001b[38;5;124m'\u001b[39m\u001b[38;5;124mprogramming\u001b[39m\u001b[38;5;124m'\u001b[39m, \u001b[38;5;124m'\u001b[39m\u001b[38;5;124mso\u001b[39m\u001b[38;5;124m'\u001b[39m, \u001b[38;5;124m'\u001b[39m\u001b[38;5;124mmuch\u001b[39m\u001b[38;5;124m'\u001b[39m], [[\u001b[38;5;124m'\u001b[39m\u001b[38;5;124menjoy\u001b[39m\u001b[38;5;124m'\u001b[39m, \u001b[38;5;124m'\u001b[39m\u001b[38;5;124mlove\u001b[39m\u001b[38;5;124m'\u001b[39m], [\u001b[38;5;124m'\u001b[39m\u001b[38;5;124mvery\u001b[39m\u001b[38;5;124m'\u001b[39m, \u001b[38;5;124m'\u001b[39m\u001b[38;5;124mso\u001b[39m\u001b[38;5;124m'\u001b[39m]]\n\u001b[1;32m---> 22\u001b[0m out5 \u001b[38;5;241m=\u001b[39m areSentencesSimilar(s1, s2, pairs1)\n\u001b[0;32m     23\u001b[0m \u001b[38;5;28;01massert\u001b[39;00m \u001b[38;5;129;01mnot\u001b[39;00m out5\n",
      "Cell \u001b[1;32mIn[3], line 42\u001b[0m, in \u001b[0;36mareSentencesSimilar\u001b[1;34m(sentence1, sentence2, similarPairs)\u001b[0m\n\u001b[0;32m     40\u001b[0m \u001b[38;5;28;01mfor\u001b[39;00m idx \u001b[38;5;129;01min\u001b[39;00m \u001b[38;5;28mrange\u001b[39m(\u001b[38;5;28mlen\u001b[39m(sentence1)):\n\u001b[0;32m     41\u001b[0m     \u001b[38;5;28;01mif\u001b[39;00m sentence1[idx] \u001b[38;5;241m!=\u001b[39m sentence2[idx]:\n\u001b[1;32m---> 42\u001b[0m         confirm_similar \u001b[38;5;241m=\u001b[39m are_two_words_similar(sentence1[idx], sentence2[idx], graph)\n\u001b[0;32m     43\u001b[0m         \u001b[38;5;28;01mif\u001b[39;00m \u001b[38;5;129;01mnot\u001b[39;00m confirm_similar:\n\u001b[0;32m     44\u001b[0m             \u001b[38;5;28;01mreturn\u001b[39;00m \u001b[38;5;28;01mFalse\u001b[39;00m\n",
      "Cell \u001b[1;32mIn[3], line 13\u001b[0m, in \u001b[0;36mare_two_words_similar\u001b[1;34m(a, b, graph)\u001b[0m\n\u001b[0;32m     11\u001b[0m     \u001b[38;5;28;01mreturn\u001b[39;00m \u001b[38;5;28;01mTrue\u001b[39;00m\n\u001b[0;32m     12\u001b[0m seen\u001b[38;5;241m.\u001b[39madd(cur)\n\u001b[1;32m---> 13\u001b[0m all_edges \u001b[38;5;241m=\u001b[39m graph[cur]\n\u001b[0;32m     14\u001b[0m new_edges \u001b[38;5;241m=\u001b[39m [e \u001b[38;5;28;01mfor\u001b[39;00m e \u001b[38;5;129;01min\u001b[39;00m all_edges \u001b[38;5;28;01mif\u001b[39;00m e \u001b[38;5;129;01mnot\u001b[39;00m \u001b[38;5;129;01min\u001b[39;00m seen]\n\u001b[0;32m     15\u001b[0m stack\u001b[38;5;241m.\u001b[39mextend(new_edges)\n",
      "\u001b[1;31mKeyError\u001b[0m: 'coding'"
     ]
    }
   ],
   "source": [
    "'''\n",
    "Test\n",
    "'''\n",
    "\n",
    "s1, s2, pairs1 = ['i', 'love', 'coding'], ['i', 'love', 'coding'], []\n",
    "out1 = areSentencesSimilar(s1, s2, pairs1)\n",
    "assert out1\n",
    "\n",
    "s1, s2, pairs1 = ['i', 'love', 'coding'], ['i', 'really', 'love', 'coding'], []\n",
    "out2 = areSentencesSimilar(s1, s2, pairs1)\n",
    "assert not out2\n",
    "\n",
    "s1, s2, pairs1 = ['i', 'love', 'coding'], ['i', 'adore', 'coding'], [['love', 'adore']]\n",
    "out3 = areSentencesSimilar(s1, s2, pairs1)\n",
    "assert out3\n",
    "\n",
    "s1, s2, pairs1 = ['i', 'enjoy', 'coding', 'very', 'much'], ['i', 'love', 'programming', 'so', 'much'], [['enjoy', 'love'], ['coding', 'programming'], ['very', 'so']]\n",
    "out4 = areSentencesSimilar(s1, s2, pairs1)\n",
    "assert out4\n",
    "\n",
    "s1, s2, pairs1 = ['i', 'enjoy', 'coding', 'very', 'much'], ['i', 'love', 'programming', 'so', 'much'], [['enjoy', 'love'], ['very', 'so']]\n",
    "out5 = areSentencesSimilar(s1, s2, pairs1)\n",
    "assert not out5"
   ]
  }
 ],
 "metadata": {
  "kernelspec": {
   "display_name": "base",
   "language": "python",
   "name": "python3"
  },
  "language_info": {
   "codemirror_mode": {
    "name": "ipython",
    "version": 3
   },
   "file_extension": ".py",
   "mimetype": "text/x-python",
   "name": "python",
   "nbconvert_exporter": "python",
   "pygments_lexer": "ipython3",
   "version": "3.11.5"
  }
 },
 "nbformat": 4,
 "nbformat_minor": 2
}
