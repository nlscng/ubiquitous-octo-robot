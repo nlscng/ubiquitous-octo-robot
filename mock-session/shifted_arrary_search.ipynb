{
 "cells": [
  {
   "cell_type": "markdown",
   "metadata": {},
   "source": [
    "A sorted array of distinct integers shiftArr is shifted to the left by an unknown offset and you don't have a pre-shifted copy of it. For instance, the sequence 1, 2, 3, 4, 5 becomes 3, 4, 5, 1, 2, after shifting it twice to the left.\n",
    "\n",
    "Given shiftArr and an integer num, implement a function shiftedArrSearch that finds and returns the index of num in shiftArr. If num isn’t in shiftArr, return -1. Assume that the offset can be any value between 0 and arr.length - 1.\n",
    "\n",
    "Explain your solution and analyze its time and space complexities.\n",
    "\n",
    "Example:\n",
    "\n",
    "```\n",
    "input:  shiftArr = [9, 12, 17, 2, 4, 5], num = 2 # shiftArr is the\n",
    "                                                 # outcome of shifting\n",
    "                                                 # [2, 4, 5, 9, 12, 17]\n",
    "                                                 # three times to the left\n",
    "\n",
    "output: 3 # since it’s the index of 2 in arr\n",
    "```"
   ]
  },
  {
   "cell_type": "code",
   "execution_count": 16,
   "metadata": {},
   "outputs": [],
   "source": [
    "from typing import List\n",
    "\n",
    "def shifted_arr_search(shiftArr: List[int], num: int) -> int:\n",
    "    if not shiftArr:\n",
    "        return -1\n",
    "    if len(shiftArr) == 1:\n",
    "        return 0 if shiftArr[0] == num else -1\n",
    "    # modify binary search for this\n",
    "    left, right = 0, len(shiftArr) - 1 # both index inclusvie # 1, 1\n",
    "\n",
    "    while left <= right:\n",
    "        mid = (left + right) // 2 # integer division # 1\n",
    "        v = shiftArr[mid] # 2\n",
    "        if v == num:\n",
    "            return mid\n",
    "        # as opposed to normal binary search, there can be a few more states\n",
    "        # in addition to comparing value of mid to decide moving left or right,\n",
    "        # we need to also check the two end points\n",
    "        if v > num:\n",
    "            if num >= shiftArr[left]: # move left\n",
    "                right = mid - 1\n",
    "            else: # num < left, so we move right\n",
    "                left = mid + 1\n",
    "        else: # v < num\n",
    "            if num <= shiftArr[right]: # move right\n",
    "                left = mid + 1\n",
    "            else: # num > right, \n",
    "                right = mid - 1\n",
    "    return -1"
   ]
  },
  {
   "cell_type": "code",
   "execution_count": 21,
   "metadata": {},
   "outputs": [],
   "source": [
    "'''\n",
    "test\n",
    "'''\n",
    "\n",
    "out_1 = shifted_arr_search([2], 2)\n",
    "exp_1 = 0\n",
    "assert out_1 == exp_1, f\"expected: {exp_1}, got: {out_1}\"\n",
    "\n",
    "out_2 = shifted_arr_search([1, 2], 2)\n",
    "exp_2 = 1\n",
    "assert out_2 == exp_2, f\"expected: {exp_2}, got: {out_2}\"\n",
    "\n",
    "out_3 = shifted_arr_search([0,1,2,3,4,5],1)\n",
    "exp_3 = 1\n",
    "assert out_3 == exp_3\n",
    "\n",
    "out_4 = shifted_arr_search([1,2,3,4,5,0],0)\n",
    "exp_4 = 5\n",
    "assert out_4 == exp_4\n",
    "\n",
    "out_5 = shifted_arr_search([9,12,17,2,4,5],17)\n",
    "exp_5 = 2\n",
    "assert out_5 == exp_5\n",
    "\n",
    "out_6 = shifted_arr_search([9,12,17,2,4,5,6],4)\n",
    "exp_6 = 4\n",
    "assert out_6 == exp_6"
   ]
  }
 ],
 "metadata": {
  "kernelspec": {
   "display_name": "base",
   "language": "python",
   "name": "python3"
  },
  "language_info": {
   "codemirror_mode": {
    "name": "ipython",
    "version": 3
   },
   "file_extension": ".py",
   "mimetype": "text/x-python",
   "name": "python",
   "nbconvert_exporter": "python",
   "pygments_lexer": "ipython3",
   "version": "3.11.5"
  }
 },
 "nbformat": 4,
 "nbformat_minor": 2
}
