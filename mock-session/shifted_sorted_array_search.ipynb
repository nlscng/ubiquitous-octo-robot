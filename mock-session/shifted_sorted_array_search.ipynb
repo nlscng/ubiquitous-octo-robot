{
 "cells": [
  {
   "cell_type": "markdown",
   "metadata": {},
   "source": [
    "A sorted array of distinct integers shiftArr is shifted to the left by an unknown offset and you don’t have a\n",
    "pre-shifted copy of it. For instance, the sequence 1, 2, 3, 4, 5 becomes 3, 4, 5, 1, 2, after shifting it twice to\n",
    "the left.\n",
    "\n",
    "Given shiftArr and an integer num, implement a function shiftedArrSearch that finds and returns the index of num in\n",
    "shiftArr. If num isn’t in shiftArr, return -1. Assume that the offset can be any value between 0 and arr.length - 1.\n",
    "\n",
    "Explain your solution and analyze its time and space complexities.\n",
    "\n",
    "Example:\n",
    "\n",
    "input:  shiftArr = [9, 12, 17, 2, 4, 5], num = 2 # shiftArr is the\n",
    "                                                 # outcome of shifting\n",
    "                                                 # [2, 4, 5, 9, 12, 17]\n",
    "                                                 # three times to the left\n",
    "\n",
    "output: 3 # since it’s the index of 2 in arr"
   ]
  },
  {
   "cell_type": "code",
   "execution_count": 1,
   "metadata": {},
   "outputs": [],
   "source": [
    "from typing import List\n"
   ]
  },
  {
   "cell_type": "code",
   "execution_count": null,
   "metadata": {},
   "outputs": [],
   "source": [
    "'''\n",
    "pseudo coding:\n",
    "\n",
    "this feels like a modified binary search. \n",
    "\n",
    "binary search:\n",
    "left, mid, right.\n",
    "\n",
    "loop while left and right havent crossed each other\n",
    "    if left val < right val: (this segment is normal, aka not shifted)\n",
    "        if mid < target\n",
    "            move left to mid+1\n",
    "        else (mid > target)\n",
    "            move right to mid -1\n",
    "    else (this segment IS shifted)\n",
    "        if mid < target\n",
    "            if target > left\n",
    "                move right to mid -1\n",
    "            else (target < left)\n",
    "                move left to mid + 1\n",
    "        else (mid > target)\n",
    "            if target > right\n",
    "                move right to mid -1\n",
    "            else \n",
    "                move left to mid + 1\n",
    "'''\n",
    "\n",
    "def shifted_binary_search(arr: List[int], target: int) -> int:\n",
    "    if not arr:\n",
    "        return -1\n",
    "    \n",
    "    if len(arr) < 2:\n",
    "        return 0 if arr[0] == target else -1\n",
    "    \n",
    "    # we know there are at least two elements\n",
    "    left, right = 0, len(arr) - 1 # both left and right are inclusives\n",
    "    mid = None\n",
    "\n",
    "    while left <= right:\n",
    "        mid = (left + right) // 2 # interger division for index\n",
    "        if arr[mid] == target:\n",
    "            return mid\n",
    "        \n",
    "        if arr[left] < arr[right]: # this segment isn't shifted, normal binary search\n",
    "            if target > arr[mid]:\n",
    "                left = mid + 1\n",
    "            else:\n",
    "                right = mid - 1\n",
    "        else: # this segment IS shifted\n",
    "            if target > arr[mid]:\n",
    "                if target > arr[right]:\n",
    "                    right = mid - 1\n",
    "                else:\n",
    "                    left = mid + 1\n",
    "            else: # target < arr[mid]\n",
    "                if target < arr[left]:\n",
    "                    left = mid + 1\n",
    "                else:\n",
    "                    right = mid - 1\n",
    "\n"
   ]
  }
 ],
 "metadata": {
  "kernelspec": {
   "display_name": "base",
   "language": "python",
   "name": "python3"
  },
  "language_info": {
   "codemirror_mode": {
    "name": "ipython",
    "version": 3
   },
   "file_extension": ".py",
   "mimetype": "text/x-python",
   "name": "python",
   "nbconvert_exporter": "python",
   "pygments_lexer": "ipython3",
   "version": "3.11.5"
  }
 },
 "nbformat": 4,
 "nbformat_minor": 2
}
