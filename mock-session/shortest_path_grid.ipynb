{
 "cells": [
  {
   "cell_type": "code",
   "execution_count": 10,
   "metadata": {},
   "outputs": [
    {
     "name": "stdout",
     "output_type": "stream",
     "text": [
      "8\n"
     ]
    }
   ],
   "source": [
    "from typing import List, Tuple\n",
    "from collections import deque\n",
    "\n",
    "def next_moves(cr: int, cc: int, seen: set, grid: List[List[int]]) -> List[Tuple[int, int]]:\n",
    "    up = (cr - 1, cc)\n",
    "    down = (cr + 1, cc)\n",
    "    left = (cr, cc - 1)\n",
    "    right = (cr, cc + 1)\n",
    "    height = len(grid)\n",
    "    width = len(grid[0])\n",
    "    return [(x[0], x[1]) for x in [up, down, left, right] if x not in seen and 0 <= x[0] < height and 0 <= x[1] < width and grid[x[0]][x[1]] == 1]\n",
    "\n",
    "def shortestCellPath(grid: List[List[int]], sr: int, sc: int, tr: int, tc: int) -> int:\n",
    "    # bfs for finding shortest path\n",
    "    seen = set()\n",
    "    queue = deque()\n",
    "\n",
    "    queue.append((sr, sc, 0)) # row, col, steps\n",
    "    seen.add((sr, sc))\n",
    "\n",
    "    while len(queue) > 0:\n",
    "        r, c, s = queue.popleft()\n",
    "        if r == tr and c == tc:\n",
    "            return s\n",
    "        seen.add((r, c))\n",
    "        legal_moves = next_moves(r, c, seen, grid)\n",
    "        if len(legal_moves) > 0:\n",
    "            move_context = [(move[0], move[1], s + 1) for move in legal_moves]\n",
    "            queue.extend(move_context)\n",
    "    return -1\n",
    "\n",
    "\n",
    "\n",
    "# debug your code below\n",
    "grid = [[1, 1, 1, 1], [0, 0, 0, 1], [1, 1, 1, 1]]\n",
    "sr, sc, tr, tc = 0, 0, 2, 0\n",
    "print(shortestCellPath(grid, sr, sc, tr, tc))"
   ]
  },
  {
   "cell_type": "code",
   "execution_count": 15,
   "metadata": {},
   "outputs": [],
   "source": [
    "'''\n",
    "tests\n",
    "'''\n",
    "assert shortestCellPath([\n",
    "    [1,1,1,1],\n",
    "    [0,0,0,1],\n",
    "    [1,1,1,1]],0,0,2,0) == 8\n",
    "\n",
    "assert shortestCellPath([\n",
    "    [1,1,1,1],\n",
    "    [0,0,0,1],\n",
    "    [1,0,1,1]],0,0,2,0) == -1\n",
    "\n",
    "assert shortestCellPath([\n",
    "    [0,1,0],\n",
    "    [1,0,0],\n",
    "    [1,0,1]],2,0,1,0) == 1\n",
    "\n",
    "assert shortestCellPath([\n",
    "    [1,0,1,1],\n",
    "    [1,0,1,1],\n",
    "    [0,0,1,0],\n",
    "    [0,0,0,0]],1,3,0,0) == -1\n",
    "\n",
    "assert shortestCellPath(\n",
    "    [[1,1,0,0,1,0],\n",
    "    [1,0,0,1,1,1],\n",
    "    [0,0,0,0,1,1],\n",
    "    [1,0,0,0,0,0],\n",
    "    [0,1,1,0,0,1],\n",
    "    [0,0,1,1,0,0]],3,0,1,3\n",
    ") == -1"
   ]
  }
 ],
 "metadata": {
  "kernelspec": {
   "display_name": "base",
   "language": "python",
   "name": "python3"
  },
  "language_info": {
   "codemirror_mode": {
    "name": "ipython",
    "version": 3
   },
   "file_extension": ".py",
   "mimetype": "text/x-python",
   "name": "python",
   "nbconvert_exporter": "python",
   "pygments_lexer": "ipython3",
   "version": "3.11.5"
  }
 },
 "nbformat": 4,
 "nbformat_minor": 2
}
