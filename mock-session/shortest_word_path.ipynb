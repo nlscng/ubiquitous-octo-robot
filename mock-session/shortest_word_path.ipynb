{
 "cells": [
  {
   "cell_type": "markdown",
   "metadata": {},
   "source": [
    "Given two words source and target, and a list of words words, find the length of the shortest series of edits that\n",
    "transforms source to target.\n",
    "\n",
    "Each edit must change exactly one letter at a time, and each intermediate word (and the final target word) must\n",
    "exist in words.\n",
    "\n",
    "If the task is impossible, return -1."
   ]
  },
  {
   "cell_type": "code",
   "execution_count": 3,
   "metadata": {},
   "outputs": [],
   "source": [
    "from typing import List\n",
    "from collections import deque\n"
   ]
  },
  {
   "cell_type": "code",
   "execution_count": null,
   "metadata": {},
   "outputs": [],
   "source": [
    "def find_neighbors(src: str, bank: List[str]) -> List[str]:\n",
    "    assert src and bank\n",
    "    res = []\n",
    "    for one_word in bank:\n",
    "        if len(one_word) == len(src):\n",
    "            chr_diff = 0\n",
    "            for idx in range(len(src)):\n",
    "                if one_word[idx] != src[idx]:\n",
    "                    chr_diff += 1\n",
    "            if chr_diff == 1:\n",
    "                res.append(one_word)\n",
    "    return res\n",
    "    \n",
    "\n",
    "def shortest_word_path(src: str, tgt: str, bank: List[str]) -> int:\n",
    "    assert src and tgt and bank\n",
    "\n",
    "    # bfs \n",
    "    queue = deque([(src, [])]) # each tuple is (node, path-to-node-so-far)\n",
    "    \n",
    "    seen = set()\n",
    "\n",
    "    # going the extra distance to trace the path for each node\n",
    "    res = None\n",
    "    \n",
    "    while len(queue) > 0:\n",
    "        cur = queue.popleft()\n",
    "        cur_word: str = cur[0]\n",
    "        cur_path: List[str] = cur[1]\n",
    "        # print(cur_word, cur_path)\n",
    "        seen.add(str(cur_word))\n",
    "        if cur_word == tgt:\n",
    "            res = cur_path\n",
    "            break\n",
    "        neighbors = find_neighbors(cur_word, bank)\n",
    "        # print(f'neighbors: {neighbors}')\n",
    "        new_neighbors = [one_neighbor for one_neighbor in neighbors if one_neighbor not in seen]\n",
    "        if new_neighbors:\n",
    "            queue.extend([(one_neighbor, cur_path + [one_neighbor]) for one_neighbor in new_neighbors])\n",
    "    print(res)\n",
    "    return -1 if not res else len(res)"
   ]
  },
  {
   "cell_type": "code",
   "execution_count": 56,
   "metadata": {},
   "outputs": [
    {
     "name": "stdout",
     "output_type": "stream",
     "text": [
      "['but', 'put', 'pot', 'pog', 'dog']\n",
      "None\n",
      "['big', 'pig', 'pog']\n",
      "['ab', 'bb']\n",
      "None\n",
      "None\n"
     ]
    }
   ],
   "source": [
    "'''tests'''\n",
    "\n",
    "\n",
    "src = \"bit\"\n",
    "snk = \"dog\"\n",
    "word_bank = [\"but\", \"put\", \"big\", \"pot\", \"pog\", \"dog\", \"lot\"]\n",
    "\n",
    "assert find_neighbors('but', word_bank) == ['put']\n",
    "assert find_neighbors('put', word_bank) == ['but', 'pot']\n",
    "assert find_neighbors('big', word_bank) == []\n",
    "\n",
    "\n",
    "assert shortest_word_path(src, snk, word_bank) == 5, f'{shortest_word_path(src, snk, word_bank)}'\n",
    "assert shortest_word_path(\"no\", \"go\", [\"to\"]) == -1\n",
    "assert shortest_word_path(\"bit\", \"pog\", [\"but\",\"put\",\"big\",\"pot\",\"pog\",\"pig\",\"dog\",\"lot\"]) == 3\n",
    "assert shortest_word_path(\"aa\", \"bb\", [\"ab\",\"bb\"]) == 2\n",
    "assert shortest_word_path(\"abc\", \"ab\", [\"abc\",\"ab\"]) == -1\n",
    "assert shortest_word_path(\"aa\", \"bbb\", [\"ab\",\"bb\"]) == -1"
   ]
  }
 ],
 "metadata": {
  "kernelspec": {
   "display_name": "base",
   "language": "python",
   "name": "python3"
  },
  "language_info": {
   "codemirror_mode": {
    "name": "ipython",
    "version": 3
   },
   "file_extension": ".py",
   "mimetype": "text/x-python",
   "name": "python",
   "nbconvert_exporter": "python",
   "pygments_lexer": "ipython3",
   "version": "3.11.5"
  }
 },
 "nbformat": 4,
 "nbformat_minor": 2
}
