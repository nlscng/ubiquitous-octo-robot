{
 "cells": [
  {
   "cell_type": "markdown",
   "metadata": {},
   "source": [
    "In this question we’ll implement a function root that calculates the n’th root of a number. The function takes a\n",
    "nonnegative number x and a positive integer n, and returns the positive n’th root of x within an error of 0.001 (\n",
    "i.e. suppose the real root is y, then the error is: |y-root(x,n)| and must satisfy |y-root(x,n)| < 0.001).\n",
    "\n",
    "Don’t be intimidated by the question. While there are many algorithms to calculate roots that require prior\n",
    "knowledge in numerical analysis (some of them are mentioned here), there is also an elementary method which doesn’t\n",
    "require more than guessing-and-checking. Try to think more in terms of the latter.\n",
    "\n",
    "Make sure your algorithm is efficient, and analyze its time and space complexities.\n",
    "\n",
    "Examples:\n",
    "\n",
    "input:  x = 7, n = 3\n",
    "output: 1.913\n",
    "\n",
    "input:  x = 9, n = 2\n",
    "output: 3"
   ]
  },
  {
   "cell_type": "code",
   "execution_count": null,
   "metadata": {},
   "outputs": [],
   "source": [
    "TOLERANCE = 0.01\n",
    "\n",
    "def power(base, power):\n",
    "    res = 1\n",
    "    while power > 0:\n",
    "        res *= base\n",
    "        power -= 1\n",
    "\n",
    "    return res\n",
    "\n",
    "def is_valid(x, test):\n",
    "    return x - TOLERANCE <= test < x + TOLERANCE\n",
    "\n",
    "\n",
    "def root(x, n):\n",
    "    lower, upper = 1, x  # optimize?\n",
    "\n",
    "    # binary search\n",
    "    mid = float(upper + lower) / 2  # 3\n",
    "    out = power(mid, n)\n",
    "    while lower < upper:\n",
    "        if is_valid(x, out):\n",
    "            return mid\n",
    "        if out > x:\n",
    "            upper = mid\n",
    "        else:\n",
    "            lower = mid\n",
    "\n",
    "        mid = float(upper + lower) / 2\n",
    "        out = power(mid, n)\n",
    "\n",
    "    return None"
   ]
  },
  {
   "cell_type": "code",
   "execution_count": null,
   "metadata": {},
   "outputs": [],
   "source": [
    "assert is_valid(2, root(4, 2))\n",
    "assert is_valid(3, root(27, 3))\n",
    "assert is_valid(2, root(16, 4))\n",
    "assert is_valid(1.732, root(3, 2))\n",
    "assert is_valid(2.154, root(10, 3))\n",
    "assert is_valid(5.429, root(160, 3))"
   ]
  }
 ],
 "metadata": {
  "language_info": {
   "name": "python"
  }
 },
 "nbformat": 4,
 "nbformat_minor": 2
}
