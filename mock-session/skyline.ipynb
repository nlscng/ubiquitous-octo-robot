{
 "cells": [
  {
   "cell_type": "markdown",
   "metadata": {},
   "source": [
    "The skyline of a city is composed of several buildings of various widths and heights, possibly overlapping one another when viewed from a distance. We can represent the buildings using an array of (left, right, height) tuples, which tell us where on an imaginary x-axis a building begins and ends, and how tall it is. The skyline itself can be described by a list of (x, height) tuples, giving the locations at which the height visible to a distant observer changes, and each new height.\n",
    "\n",
    "Given an array of buildings as described above, create a function that returns the skyline.\n",
    "\n",
    "For example, suppose the input consists of the buildings [(0, 15, 3), (4, 11, 5), (19, 23, 4)]. In aggregate, these buildings would create a skyline that looks like the one below.\n",
    "\n",
    "```\n",
    "     ______  \n",
    "    |      |        ___\n",
    " ___|      |___    |   | \n",
    "|   |   B  |   |   | C |\n",
    "| A |      | A |   |   |\n",
    "|   |      |   |   |   |\n",
    "------------------------\n",
    "```\n",
    "\n",
    "As a result, your function should return [(0, 3), (4, 5), (11, 3), (15, 0), (19, 4), (23, 0)]."
   ]
  },
  {
   "cell_type": "code",
   "execution_count": 1,
   "metadata": {},
   "outputs": [],
   "source": [
    "from typing import List\n",
    "from heapq import heapify, heappop, heappush\n",
    "from dataclasses import dataclass"
   ]
  },
  {
   "cell_type": "code",
   "execution_count": 2,
   "metadata": {},
   "outputs": [],
   "source": [
    "@dataclass\n",
    "class outline:\n",
    "    loc: int\n",
    "    height: int\n",
    "    is_end_of_outline: bool"
   ]
  },
  {
   "cell_type": "code",
   "execution_count": 21,
   "metadata": {},
   "outputs": [],
   "source": [
    "## This uses two dictionary, one to track begin and end of building out, the other \n",
    "## to track each location point to its height\n",
    "## And uses a (min) heap that requires flipping number to make it a max heap to track\n",
    "## active height of a building\n",
    "## for time complexity, this should be O(n), where n is number of total location \n",
    "## points on the x-axis\n",
    "## for space complexity, this should be O(n) too\n",
    "\n",
    "def skyline(buildings: List[List[int]]) -> List[List[int]]:\n",
    "    assert buildings\n",
    "\n",
    "    hts = {} # pt: (height, if pt is end of a building outline)\n",
    "    ends = {} # starting loc: ending loc\n",
    "    \n",
    "    # first, record heights and location\n",
    "    for building in buildings:\n",
    "        x, y, h = building\n",
    "        hts[x] = (h, False)\n",
    "        hts[y] = (h, True)\n",
    "        ends[x] = y\n",
    "\n",
    "    res = []\n",
    "    active_height = [] # elements are tuples of (-height, height, ending pt); the first num of -height is to make min heap into a max heap and keep the sanity\n",
    "    heapify(active_height)\n",
    "    # second, scan from left x position and keep a heap of active heights\n",
    "    for loc in sorted(hts.keys()):\n",
    "        ht, is_end = hts[loc]\n",
    "        if is_end:\n",
    "            # pop from active heights if location point \n",
    "            while len(active_height) > 0 and active_height[0][2] <= loc:\n",
    "                heappop(active_height)\n",
    "            cur_max_ht = active_height[0][1] if len(active_height) > 0 else 0\n",
    "            if ht > cur_max_ht:\n",
    "                res.append((loc, cur_max_ht))\n",
    "        else:\n",
    "            cur_max_ht = active_height[0][1] if len(active_height) > 0 else 0\n",
    "            if ht > cur_max_ht:\n",
    "                res.append((loc, ht))\n",
    "            heappush(active_height, (-ht, ht, ends[loc]))\n",
    "    return res"
   ]
  },
  {
   "cell_type": "code",
   "execution_count": 24,
   "metadata": {},
   "outputs": [],
   "source": [
    "'''tests'''\n",
    "\n",
    "#      ______  \n",
    "#     |      |        ___\n",
    "#  ___|      |___    |   | \n",
    "# |   |   B  |   |   | C |\n",
    "# | A |      | A |   |   |\n",
    "# |   |      |   |   |   |\n",
    "# ------------------------\n",
    "\n",
    "\n",
    "test1 = [(0, 15, 3), (4, 11, 5), (19, 23, 4)]\n",
    "exp1 = [(0, 3), (4, 5), (11, 3), (15, 0), (19, 4), (23, 0)]\n",
    "out1 = skyline(test1)\n",
    "assert out1 == exp1, f\"expected: {exp1}, got: {out1}\"\n"
   ]
  },
  {
   "cell_type": "code",
   "execution_count": 26,
   "metadata": {},
   "outputs": [],
   "source": [
    "'''test2'''\n",
    "#    _ _\n",
    "#   |   |_\n",
    "#   |     |__\n",
    "#  _|        |   ____ \n",
    "#  |         |  |    | __\n",
    "#  |         |  |        |\n",
    "#  |         |  |        |\n",
    "# # ------------------------------\n",
    "\n",
    "test2 = [(2,9,10),(3,7,15),(5,12,12),(15,20,10),(19,24,8)]\n",
    "exp2 = [(2,10),(3,15),(7,12),(12,0),(15,10),(20,8),(24,0)]\n",
    "out2 = skyline(test2)\n",
    "assert out2 == exp2, f\"expected: {exp2}, got: {out2}\""
   ]
  },
  {
   "cell_type": "code",
   "execution_count": null,
   "metadata": {},
   "outputs": [],
   "source": [
    "'''\n",
    "psuedo:\n",
    "\n",
    "Given any point to consider:\n",
    "if it's starting of a building:\n",
    "    if something else is taller:\n",
    "        skip rendering\n",
    "    if something is equal:\n",
    "        skip\n",
    "    if nothing is taller:\n",
    "        render with pt and ht\n",
    "if it's a ending pt:\n",
    "    if something else is taller:\n",
    "        skip\n",
    "    if something else is equal:\n",
    "        skip\n",
    "    if something else is shorter:\n",
    "        render with self and the next shorter ht\n",
    "\n",
    "\n",
    "\n",
    "\n",
    "'''"
   ]
  }
 ],
 "metadata": {
  "kernelspec": {
   "display_name": "base",
   "language": "python",
   "name": "python3"
  },
  "language_info": {
   "codemirror_mode": {
    "name": "ipython",
    "version": 3
   },
   "file_extension": ".py",
   "mimetype": "text/x-python",
   "name": "python",
   "nbconvert_exporter": "python",
   "pygments_lexer": "ipython3",
   "version": "3.11.5"
  }
 },
 "nbformat": 4,
 "nbformat_minor": 2
}
