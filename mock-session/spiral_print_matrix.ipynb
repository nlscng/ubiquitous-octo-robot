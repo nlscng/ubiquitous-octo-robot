{
 "cells": [
  {
   "cell_type": "markdown",
   "metadata": {},
   "source": [
    "Given a N by M matrix of numbers, print out the matrix in a clockwise spiral.\n",
    "\n",
    "For example, given the following matrix:\n",
    "```\n",
    "[[1,  2,  3,  4,  5],\n",
    " [6,  7,  8,  9,  10],\n",
    " [11, 12, 13, 14, 15],\n",
    " [16, 17, 18, 19, 20]]\n",
    "```\n",
    "\n",
    "You should print:\n",
    "\n",
    "```\n",
    "1\n",
    "2\n",
    "3\n",
    "4\n",
    "5\n",
    "10\n",
    "15\n",
    "20\n",
    "19\n",
    "18\n",
    "17\n",
    "16\n",
    "11\n",
    "6\n",
    "7\n",
    "8\n",
    "9\n",
    "14\n",
    "13\n",
    "12\n",
    "```"
   ]
  },
  {
   "cell_type": "code",
   "execution_count": 6,
   "metadata": {},
   "outputs": [],
   "source": [
    "from typing import List, Tuple\n",
    "from enum import Enum"
   ]
  },
  {
   "cell_type": "code",
   "execution_count": 3,
   "metadata": {},
   "outputs": [],
   "source": [
    "class Direction(Enum):\n",
    "    EAST = 1\n",
    "    SOUTH = 2\n",
    "    WEST = 3\n",
    "    NORTH = 4"
   ]
  },
  {
   "cell_type": "code",
   "execution_count": null,
   "metadata": {},
   "outputs": [],
   "source": [
    "def next_dir(cur: Direction) -> Direction:\n",
    "    res = None\n",
    "    match cur: \n",
    "        case Direction.EAST:\n",
    "            res = Direction.SOUTH\n",
    "        case Direction.SOUTH:\n",
    "            res = Direction.WEST\n",
    "        case Direction.WEST:\n",
    "            res = Direction.NORTH\n",
    "        case Direction.NORTH:\n",
    "            res = Direction.EAST\n",
    "    return res\n",
    "\n",
    "def move(dir: Direction) -> Tuple:\n",
    "    res = None\n",
    "    match dir:\n",
    "        case Direction.EAST:\n",
    "            res = (1, 0)\n",
    "        case Direction.SOUTH:\n",
    "            res = (0, 1)\n",
    "        case Direction.WEST:\n",
    "            res = (-1, 0)\n",
    "        case Direction.NORTH:\n",
    "            res = (0, -1)\n",
    "    return res\n",
    "\n",
    "def get_next_pos(cur_pos: Tuple[int, int], mov_direction: Direction) -> Tuple[int, int]:\n",
    "    r, c = cur_pos\n",
    "    match mov_direction:\n",
    "        case Direction.EAST:\n",
    "            c += 1\n",
    "        case Direction.SOUTH:\n",
    "            r += 1\n",
    "        case Direction.WEST:\n",
    "            c -= 1\n",
    "        case Direction.NORTH:\n",
    "            r -= 1\n",
    "    return (r, c)"
   ]
  },
  {
   "cell_type": "code",
   "execution_count": null,
   "metadata": {},
   "outputs": [],
   "source": [
    "def is_next_move_legal(pos: Tuple[int, int], seen: set[Tuple[int, int]], cur_dir: Direction) -> bool:\n",
    "    return False\n",
    "\n",
    "def find_next_pos(cur_pos: Tuple[int, int], m: List[List[int]], seen: set[int]) -> Tuple[int, int]:\n",
    "    r, c = cur_pos\n",
    "    possible_moves = [(r + x, c + y) for x, y in [(0, 1), (1, 0), (0, -1), (-1, 0)]]\n",
    "    legal_moves = [(a, b) for a, b in possible_moves if 0 <= a < len(m) and 0 <= b < len(m[0]) and (a, b) not in seen]\n",
    "    if legal_moves:\n",
    "        return legal_moves[0]\n",
    "    else:\n",
    "        return None\n",
    "    \n",
    "def spiral_print(m: List[List[int]]):\n",
    "    if not m or not m[0]:\n",
    "        return\n",
    "    \n",
    "    cur_pos = (0, 0)\n",
    "    seen = set(cur_pos)\n",
    "    next_pos = find_next_pos(cur_pos, m, seen)\n",
    "    while next_pos:\n",
    "        nr, nc = next_pos\n",
    "        print(m[nr][nc])\n",
    "        seen.add(next_pos)\n",
    "        next_pos = find_next_pos(next_pos, m, seen)\n",
    "    return\n"
   ]
  },
  {
   "cell_type": "code",
   "execution_count": 25,
   "metadata": {},
   "outputs": [
    {
     "name": "stdout",
     "output_type": "stream",
     "text": [
      "2\n",
      "6\n"
     ]
    }
   ],
   "source": [
    "matrix = [[1,  2,  3,  4,  5],\n",
    " [6,  7,  8,  9,  10],\n",
    " [11, 12, 13, 14, 15],\n",
    " [16, 17, 18, 19, 20]]\n",
    "\n",
    "spiral_print(matrix)"
   ]
  }
 ],
 "metadata": {
  "kernelspec": {
   "display_name": "base",
   "language": "python",
   "name": "python3"
  },
  "language_info": {
   "codemirror_mode": {
    "name": "ipython",
    "version": 3
   },
   "file_extension": ".py",
   "mimetype": "text/x-python",
   "name": "python",
   "nbconvert_exporter": "python",
   "pygments_lexer": "ipython3",
   "version": "3.11.5"
  }
 },
 "nbformat": 4,
 "nbformat_minor": 2
}
