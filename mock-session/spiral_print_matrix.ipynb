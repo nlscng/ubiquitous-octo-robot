{
 "cells": [
  {
   "cell_type": "markdown",
   "metadata": {},
   "source": [
    "Given a N by M matrix of numbers, print out the matrix in a clockwise spiral.\n",
    "\n",
    "For example, given the following matrix:\n",
    "```\n",
    "[[1,  2,  3,  4,  5],\n",
    " [6,  7,  8,  9,  10],\n",
    " [11, 12, 13, 14, 15],\n",
    " [16, 17, 18, 19, 20]]\n",
    "```\n",
    "\n",
    "You should print:\n",
    "\n",
    "```\n",
    "1\n",
    "2\n",
    "3\n",
    "4\n",
    "5\n",
    "10\n",
    "15\n",
    "20\n",
    "19\n",
    "18\n",
    "17\n",
    "16\n",
    "11\n",
    "6\n",
    "7\n",
    "8\n",
    "9\n",
    "14\n",
    "13\n",
    "12\n",
    "```"
   ]
  },
  {
   "cell_type": "code",
   "execution_count": 6,
   "metadata": {},
   "outputs": [],
   "source": [
    "from typing import List, Tuple\n",
    "from enum import Enum"
   ]
  },
  {
   "cell_type": "code",
   "execution_count": 3,
   "metadata": {},
   "outputs": [],
   "source": [
    "class Direction(Enum):\n",
    "    EAST = 1\n",
    "    SOUTH = 2\n",
    "    WEST = 3\n",
    "    NORTH = 4"
   ]
  },
  {
   "cell_type": "code",
   "execution_count": null,
   "metadata": {},
   "outputs": [],
   "source": [
    "def next_dir(cur: Direction) -> Direction:\n",
    "    res = None\n",
    "    match cur: \n",
    "        case Direction.EAST:\n",
    "            res = Direction.SOUTH\n",
    "        case Direction.SOUTH:\n",
    "            res = Direction.WEST\n",
    "        case Direction.WEST:\n",
    "            res = Direction.NORTH\n",
    "        case Direction.NORTH:\n",
    "            res = Direction.EAST\n",
    "    return res\n"
   ]
  },
  {
   "cell_type": "code",
   "execution_count": null,
   "metadata": {},
   "outputs": [],
   "source": [
    "\n",
    "    \n",
    "def spiral_print(m: List[List[int]]):\n",
    "    if not m or not m[0]:\n",
    "        return\n",
    "    \n",
    "    cur_pos = (0, 0)\n",
    "    seen = set()\n",
    "    failed_dir = set()\n",
    "    cur_dir = Direction.EAST\n",
    "    \n",
    "    while len(failed_dir) != 4:\n",
    "        r, c = cur_pos\n",
    "        if cur_pos not in seen:\n",
    "            seen.add(cur_pos)\n",
    "            print(m[r][c])\n",
    "\n",
    "        # try next move based on dir\n",
    "        match cur_dir:\n",
    "            case Direction.EAST:\n",
    "                c += 1\n",
    "            case Direction.SOUTH:\n",
    "                r += 1\n",
    "            case Direction.WEST:\n",
    "                c -= 1\n",
    "            case Direction.NORTH:\n",
    "                r -= 1\n",
    "        if 0 <= r < len(m) and 0 <= c < len(m[0]) and (r, c) not in seen:\n",
    "            # next position is legal, move cursor to it and reset failed directions\n",
    "            cur_pos = (r, c)\n",
    "            failed_dir = set()\n",
    "        else:\n",
    "            # not legal, change direction and try again\n",
    "            failed_dir.add(cur_dir)\n",
    "            cur_dir = next_dir(cur_dir)\n",
    "\n",
    "    return\n"
   ]
  },
  {
   "cell_type": "code",
   "execution_count": 37,
   "metadata": {},
   "outputs": [
    {
     "name": "stdout",
     "output_type": "stream",
     "text": [
      "1\n",
      "2\n",
      "3\n",
      "4\n",
      "5\n",
      "10\n",
      "15\n",
      "20\n",
      "19\n",
      "18\n",
      "17\n",
      "16\n",
      "11\n",
      "6\n",
      "7\n",
      "8\n",
      "9\n",
      "14\n",
      "13\n",
      "12\n"
     ]
    }
   ],
   "source": [
    "matrix = [[1,  2,  3,  4,  5],\n",
    " [6,  7,  8,  9,  10],\n",
    " [11, 12, 13, 14, 15],\n",
    " [16, 17, 18, 19, 20]]\n",
    "\n",
    "spiral_print(matrix)"
   ]
  },
  {
   "cell_type": "code",
   "execution_count": 40,
   "metadata": {},
   "outputs": [
    {
     "name": "stdout",
     "output_type": "stream",
     "text": [
      "3\n",
      "4\n",
      "6\n",
      "8\n",
      "7\n",
      "5\n"
     ]
    }
   ],
   "source": [
    "matrix = [[3, 4], [5, 6], [7, 8]]\n",
    "spiral_print(matrix)"
   ]
  }
 ],
 "metadata": {
  "kernelspec": {
   "display_name": "base",
   "language": "python",
   "name": "python3"
  },
  "language_info": {
   "codemirror_mode": {
    "name": "ipython",
    "version": 3
   },
   "file_extension": ".py",
   "mimetype": "text/x-python",
   "name": "python",
   "nbconvert_exporter": "python",
   "pygments_lexer": "ipython3",
   "version": "3.11.5"
  }
 },
 "nbformat": 4,
 "nbformat_minor": 2
}
