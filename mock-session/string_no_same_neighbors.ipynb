{
 "cells": [
  {
   "cell_type": "markdown",
   "metadata": {},
   "source": [
    "Given a string with repeated characters, rearrange the string so that no two adjacent characters are the same. If this is not possible, return None.\n",
    "\n",
    "For example, given \"aaabbc\", you could return \"ababac\". Given \"aaab\", return None.\n",
    "\n"
   ]
  },
  {
   "cell_type": "code",
   "execution_count": null,
   "metadata": {},
   "outputs": [],
   "source": [
    "'''\n",
    "the idea is to arrange the most frequent to the least frequent, starting with every other spot so they are not next to each other, then fill the rest.\n",
    "'''"
   ]
  },
  {
   "cell_type": "code",
   "execution_count": 17,
   "metadata": {},
   "outputs": [],
   "source": [
    "from typing import List\n",
    "from collections import Counter\n",
    "from heapq import heapify, heappop, heappush\n",
    "\n",
    "def rearrange(s: str) -> str:\n",
    "    assert s\n",
    "\n",
    "    counts = Counter(s)\n",
    "\n",
    "    # find max freq character, if it's over half of the whole length, then there's no way to make this happen\n",
    "    max_freq = 0\n",
    "    max_freq_char = None\n",
    "    my_heap = [] # my_heap content has the format of (freq, char)\n",
    "    heapify(my_heap)\n",
    "    for k, v in counts.items():\n",
    "        if v > len(s) / 2:\n",
    "            return None\n",
    "        if max_freq < v:\n",
    "            max_freq = v\n",
    "            max_freq_char = k\n",
    "        heappush(my_heap, (-v, k)) \n",
    "    \n",
    "    print(f\"max frequency char: {max_freq_char} happening {max_freq} times.\")\n",
    "\n",
    "    res = [''] * len(s)\n",
    "    pt = 0\n",
    "    while len(my_heap) > 0:\n",
    "        # print(f\"res contains: {res}\")\n",
    "        cur = heappop(my_heap)\n",
    "        neg_freq, character = cur\n",
    "\n",
    "        freq = - neg_freq\n",
    "        for i in range(freq):\n",
    "            res[pt] = character\n",
    "            pt += 2\n",
    "            if pt >= len(s):\n",
    "                pt = 1\n",
    "\n",
    "    return res\n",
    "    "
   ]
  },
  {
   "cell_type": "code",
   "execution_count": 21,
   "metadata": {},
   "outputs": [
    {
     "name": "stdout",
     "output_type": "stream",
     "text": [
      "max frequency char: e happening 2 times.\n",
      "res contains: ['', '', '', '', '']\n",
      "res contains: ['e', '', 'e', '', '']\n",
      "res contains: ['e', '', 'e', '', 'n']\n",
      "res contains: ['e', 'r', 'e', '', 'n']\n",
      "verifying: ['e', 'r', 'e', 'v', 'n']\n",
      "max frequency char: a happening 3 times.\n",
      "res contains: ['', '', '', '', '', '']\n",
      "res contains: ['a', '', 'a', '', 'a', '']\n",
      "res contains: ['a', 'b', 'a', 'b', 'a', '']\n",
      "verifying: ['a', 'b', 'a', 'b', 'a', 'c']\n",
      "max frequency char: a happening 4 times.\n",
      "res contains: ['', '', '', '', '', '', '', '']\n",
      "res contains: ['a', '', 'a', '', 'a', '', 'a', '']\n",
      "<function verify_rearrange at 0x0000018BF1EC0680>\n"
     ]
    }
   ],
   "source": [
    "'''tests'''\n",
    "def verify_rearrange(s: str) -> bool:\n",
    "    if len(s) < 2:\n",
    "        return True\n",
    "    \n",
    "    print(f\"verifying: {s}\")\n",
    "    slow, fast = 0, 1\n",
    "    while fast < len(s):\n",
    "        c_slow = s[slow]\n",
    "        c_fast = s[fast]\n",
    "        if c_slow == c_fast:\n",
    "            return False\n",
    "        slow += 1\n",
    "        fast += 1\n",
    "    return True\n",
    "\n",
    "\n",
    "test_1 = 'never'\n",
    "out_1 = rearrange(test_1)\n",
    "assert verify_rearrange(out_1)\n",
    "\n",
    "test_2 = \"aaabbc\"\n",
    "out_2 = rearrange(test_2)\n",
    "assert verify_rearrange(out_2)\n",
    "\n",
    "test_3 = \"aaaa\"\n",
    "out_3 = rearrange(test_3)\n",
    "assert out_3 is None\n",
    "\n",
    "test_4 = \"aaaabbbb\"\n",
    "out_4 = rearrange(test_4)\n",
    "print(verify_rearrange)"
   ]
  }
 ],
 "metadata": {
  "kernelspec": {
   "display_name": "base",
   "language": "python",
   "name": "python3"
  },
  "language_info": {
   "codemirror_mode": {
    "name": "ipython",
    "version": 3
   },
   "file_extension": ".py",
   "mimetype": "text/x-python",
   "name": "python",
   "nbconvert_exporter": "python",
   "pygments_lexer": "ipython3",
   "version": "3.11.5"
  }
 },
 "nbformat": 4,
 "nbformat_minor": 2
}
