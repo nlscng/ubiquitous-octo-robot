{
 "cells": [
  {
   "cell_type": "markdown",
   "metadata": {},
   "source": [
    "Given two arrays of integers of same lengths, count the number of pairs of (i, j) where A[i] + B[j] == A[j] + B[i]\n",
    "\n",
    "For example, given A = [2, 3, 5, 4], B = [1, 4, 2, 6], return "
   ]
  },
  {
   "cell_type": "code",
   "execution_count": 51,
   "metadata": {},
   "outputs": [],
   "source": [
    "from typing import List\n",
    "from collections import defaultdict\n",
    "import math"
   ]
  },
  {
   "cell_type": "code",
   "execution_count": 50,
   "metadata": {},
   "outputs": [],
   "source": [
    "def cross_sum_bf(a: List[int], b: List[int]) -> int:\n",
    "    assert len(a) == len(b) and len(a) > 1\n",
    "\n",
    "    res = []\n",
    "    \n",
    "    for i in range(len(a)):\n",
    "        for j in range(i + 1, len(b)):\n",
    "            if a[i] + b[j] == a[j] + b[i]:\n",
    "                res.append((i, j))\n",
    "    # print(res)\n",
    "    return len(res)\n",
    "    "
   ]
  },
  {
   "cell_type": "code",
   "execution_count": 45,
   "metadata": {},
   "outputs": [
    {
     "name": "stdout",
     "output_type": "stream",
     "text": [
      "[(0, 1), (0, 4), (0, 6), (1, 4), (1, 6), (2, 5), (2, 7), (4, 6), (5, 7)]\n"
     ]
    },
    {
     "data": {
      "text/plain": [
       "9"
      ]
     },
     "execution_count": 45,
     "metadata": {},
     "output_type": "execute_result"
    }
   ],
   "source": [
    "'''tests'''\n",
    "\n",
    "A = [3, 4, 2, 6, 2, 5, 4, 0]\n",
    "B = [2, 3, 6, 4, 1, 9, 3, 4]\n",
    "\n",
    "cross_sum_bf(A, B)"
   ]
  },
  {
   "cell_type": "code",
   "execution_count": null,
   "metadata": {},
   "outputs": [],
   "source": [
    "def cross_sum(a: List[int], b: List[int]) -> int:\n",
    "    assert len(a) == len(b) and len(a) > 1\n",
    "    # we turn a[i] + b[j] == a[j] + b[i]\n",
    "    # into a[i] - b[i] == a[j] - b[j]\n",
    "    # or, (a[i] - b[i]) - (a[j] - b[j]) == 0\n",
    "\n",
    "    d = [a[i] - b[i] for i in range(len(a))] # d for delta\n",
    "    d = sorted(d)\n",
    "\n",
    "    # print(d)\n",
    "\n",
    "    # then we look for number of new set of i and j where d[i] == d[j]\n",
    "    counts = defaultdict(int)\n",
    "    for one_delta in d:\n",
    "        counts[one_delta] += 1\n",
    "    \n",
    "    # print(counts)\n",
    "    total = [math.comb(v, 2) for _, v in counts.items() if v > 1]\n",
    "\n",
    "    return sum(total)"
   ]
  },
  {
   "cell_type": "code",
   "execution_count": 53,
   "metadata": {},
   "outputs": [],
   "source": [
    "'''test for optimized'''\n",
    "A = [3, 4, 2, 6, 2, 5, 4, 0]\n",
    "B = [2, 3, 6, 4, 1, 9, 3, 4]\n",
    "\n",
    "# cross_sum(A, B)\n",
    "\n",
    "assert cross_sum_bf(A, B) == cross_sum(A, B)"
   ]
  }
 ],
 "metadata": {
  "kernelspec": {
   "display_name": "base",
   "language": "python",
   "name": "python3"
  },
  "language_info": {
   "codemirror_mode": {
    "name": "ipython",
    "version": 3
   },
   "file_extension": ".py",
   "mimetype": "text/x-python",
   "name": "python",
   "nbconvert_exporter": "python",
   "pygments_lexer": "ipython3",
   "version": "3.11.5"
  }
 },
 "nbformat": 4,
 "nbformat_minor": 2
}
