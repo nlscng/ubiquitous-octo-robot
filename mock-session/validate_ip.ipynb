{
 "cells": [
  {
   "cell_type": "markdown",
   "id": "e0e4ff3b",
   "metadata": {},
   "source": [
    "Given an string, validate it for ipv4 ip address."
   ]
  },
  {
   "cell_type": "code",
   "execution_count": 1,
   "id": "35e253b1",
   "metadata": {},
   "outputs": [],
   "source": [
    "\n",
    "def validateIP(ip):\n",
    "    \"\"\"\n",
    "    @param ip: str\n",
    "    @return: bool\n",
    "    \"\"\"\n",
    "    if ip.count('.') != 3:\n",
    "        return False\n",
    "\n",
    "    tokens = ip.split('.')\n",
    "    if len(tokens) != 4:\n",
    "        return False\n",
    "\n",
    "    for one_token in tokens:\n",
    "        try:\n",
    "            int_token = int(one_token)\n",
    "        except:\n",
    "            print(\"Invalid format, expecting int between 0 and 255 inclusive in a single block\")\n",
    "            return False\n",
    "\n",
    "        if int_token < 0 or int_token > 255:\n",
    "            return False\n",
    "    return True"
   ]
  },
  {
   "cell_type": "code",
   "execution_count": 2,
   "id": "fe75c47d",
   "metadata": {},
   "outputs": [
    {
     "name": "stdout",
     "output_type": "stream",
     "text": [
      "Invalid format, expecting int between 0 and 255 inclusive in a single block\n",
      "Invalid format, expecting int between 0 and 255 inclusive in a single block\n"
     ]
    }
   ],
   "source": [
    "# tests\n",
    "assert validateIP(\"192.168.0.1\")\n",
    "assert validateIP(\"0.0.0.0\")\n",
    "assert validateIP(\"123.24.59.99\")\n",
    "assert not validateIP(\"1.2.3.4.5\")\n",
    "assert not validateIP(\"1..23.4\")\n",
    "assert not validateIP(\"1.256.3.4\")\n",
    "assert not validateIP(\".254.255.0\")"
   ]
  }
 ],
 "metadata": {
  "kernelspec": {
   "display_name": "base",
   "language": "python",
   "name": "python3"
  },
  "language_info": {
   "codemirror_mode": {
    "name": "ipython",
    "version": 3
   },
   "file_extension": ".py",
   "mimetype": "text/x-python",
   "name": "python",
   "nbconvert_exporter": "python",
   "pygments_lexer": "ipython3",
   "version": "3.11.5"
  }
 },
 "nbformat": 4,
 "nbformat_minor": 5
}
