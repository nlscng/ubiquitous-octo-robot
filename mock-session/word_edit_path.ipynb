{
 "cells": [
  {
   "cell_type": "markdown",
   "metadata": {},
   "source": [
    "Given two strings of uppercase letters source and target, list (in string form) a sequence of edits to convert from source to target that uses the least edits possible.\n",
    "\n",
    "For example, with strings source = \"ABCDEFG\", and target = \"ABDFFGH\" we might return: [\"A\", \"B\", \"-C\", \"D\", \"-E\", \"F\", \"+F\", \"G\", \"+H\"\n",
    "\n",
    "More formally, for each character C in source, we will either write the token C, which does not count as an edit; or write the token -C, which counts as an edit.\n",
    "\n",
    "Additionally, between any token that we write, we may write +D where D is any letter, which counts as an edit.\n",
    "\n",
    "At the end, when reading the tokens from left to right, and not including tokens prefixed with a minus-sign, the letters should spell out target (when ignoring plus-signs.)\n",
    "\n",
    "In the example, the answer of A B -C D -E F +F G +H has total number of edits 4 (the minimum possible), and ignoring subtraction-tokens, spells out A, B, D, F, +F, G, +H which represents the string target.\n",
    "\n",
    "If there are multiple answers, use the answer that favors removing from the source first."
   ]
  },
  {
   "cell_type": "code",
   "execution_count": null,
   "metadata": {},
   "outputs": [],
   "source": [
    "'''\n",
    "Try to write this with a prefix\n",
    "let L(i, j) be the diff between src(:i) and tgt(:j)\n",
    "then L(i, j) = {\n",
    "    if src[i] == tgt[j]\n",
    "        L(i, j) = min(L(i-1, j), L(i, j-1), L(i-1, j-1))\n",
    "    else\n",
    "        L(i, j) = {\n",
    "            if L(i-1, j) < L(i, j-1)\n",
    "                L(i, j) = L(i-1, j) + \"+tgt[ij\"\n",
    "            else if L(i-1,j) > L(i, j-1)\n",
    "                L(i, j) = L(i, j-1) + \"-src[i]\"\n",
    "        }\n",
    "}\n",
    "'''"
   ]
  },
  {
   "cell_type": "code",
   "execution_count": 26,
   "metadata": {},
   "outputs": [
    {
     "data": {
      "text/plain": [
       "[[5, 5, 5], [5, 5, 5], [5, 5, 5]]"
      ]
     },
     "execution_count": 26,
     "metadata": {},
     "output_type": "execute_result"
    }
   ],
   "source": [
    "[[5] * 3 ] * 3"
   ]
  },
  {
   "cell_type": "code",
   "execution_count": 54,
   "metadata": {},
   "outputs": [
    {
     "name": "stdout",
     "output_type": "stream",
     "text": [
      "[[0, 0, 0], [0, 0, 0], [0, 0, 0]]\n"
     ]
    },
    {
     "data": {
      "text/plain": [
       "[[1, 1, 1], [0, 0, 0], [0, 0, 0]]"
      ]
     },
     "execution_count": 54,
     "metadata": {},
     "output_type": "execute_result"
    }
   ],
   "source": [
    "x = [[0] * 3 for i in range(3)] \n",
    "print(x)\n",
    "\n",
    "for i in range(len(x)):\n",
    "    x[0][i] += 1\n",
    "\n",
    "x"
   ]
  },
  {
   "cell_type": "code",
   "execution_count": null,
   "metadata": {},
   "outputs": [],
   "source": [
    "from typing import List\n",
    "\n",
    "def diff_between_two_strings(source: str, target: str) -> List[str]:\n",
    "    memo = [[0] * (len(source) + 1) for _ in range(len(target) + 1)] # the '+1's are to handle empty strings, the base case for all strings\n",
    "    # base cases\n",
    "    memo[0][0] = 0\n",
    "    for i in range(len(source)):\n",
    "        memo[0][i+1] = i+1 # first row are all removals\n",
    "    for j in range(len(target)):\n",
    "        memo[j+1][0] = j+1 # first col are all additions\n",
    "    # fill the memo table from top to bottom, left to right\n",
    "    for i in range(len(source)):\n",
    "        for j in range(len(target)):\n",
    "            a = source[i]\n",
    "            b = target[j]\n",
    "            r, c = i + 1, j + 1\n",
    "            if a == b:\n",
    "                memo[r][c] = memo[r-1][c-1]\n",
    "            else:\n",
    "                # a != b, take shorter tokens so far, and prefers removal\n",
    "                memo[r][c] = 1 + min(memo[r-1][c], memo[r][c-1])\n",
    "            # print(f\"in updates: {memo}\")\n",
    "\n",
    "    # back track to find the edit path\n",
    "    res = []\n",
    "    pt_a, pt_b = len(source) - 1, len(target) -1\n",
    "    \n",
    "    \n",
    "\n",
    "    return memo[-1][-1]\n",
    "\n"
   ]
  },
  {
   "cell_type": "code",
   "execution_count": null,
   "metadata": {},
   "outputs": [],
   "source": [
    "print(diff_between_two_strings('', ''))\n",
    "print(diff_between_two_strings('a', 'a'))\n",
    "print(diff_between_two_strings('ab', 'ab'))\n",
    "print(diff_between_two_strings(\"ABCDEFG\", \"ABDFFGH\"))"
   ]
  }
 ],
 "metadata": {
  "kernelspec": {
   "display_name": "base",
   "language": "python",
   "name": "python3"
  },
  "language_info": {
   "codemirror_mode": {
    "name": "ipython",
    "version": 3
   },
   "file_extension": ".py",
   "mimetype": "text/x-python",
   "name": "python",
   "nbconvert_exporter": "python",
   "pygments_lexer": "ipython3",
   "version": "3.11.5"
  }
 },
 "nbformat": 4,
 "nbformat_minor": 2
}
