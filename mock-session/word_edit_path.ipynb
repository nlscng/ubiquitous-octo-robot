{
 "cells": [
  {
   "cell_type": "markdown",
   "metadata": {},
   "source": [
    "Given two strings of uppercase letters source and target, list (in string form) a sequence of edits to convert from source to target that uses the least edits possible.\n",
    "\n",
    "For example, with strings source = \"ABCDEFG\", and target = \"ABDFFGH\" we might return: [\"A\", \"B\", \"-C\", \"D\", \"-E\", \"F\", \"+F\", \"G\", \"+H\"\n",
    "\n",
    "More formally, for each character C in source, we will either write the token C, which does not count as an edit; or write the token -C, which counts as an edit.\n",
    "\n",
    "Additionally, between any token that we write, we may write +D where D is any letter, which counts as an edit.\n",
    "\n",
    "At the end, when reading the tokens from left to right, and not including tokens prefixed with a minus-sign, the letters should spell out target (when ignoring plus-signs.)\n",
    "\n",
    "In the example, the answer of A B -C D -E F +F G +H has total number of edits 4 (the minimum possible), and ignoring subtraction-tokens, spells out A, B, D, F, +F, G, +H which represents the string target.\n",
    "\n",
    "If there are multiple answers, use the answer that favors removing from the source first."
   ]
  },
  {
   "cell_type": "code",
   "execution_count": null,
   "metadata": {},
   "outputs": [],
   "source": [
    "'''\n",
    "Try to write this with a prefix\n",
    "let L(i, j) be the diff between src(:i) and tgt(:j)\n",
    "then L(i, j) = {\n",
    "    if src[i] == tgt[j]\n",
    "        L(i, j) = min(L(i-1, j), L(i, j-1), L(i-1, j-1))\n",
    "    else\n",
    "        L(i, j) = {\n",
    "            if L(i-1, j) < L(i, j-1)\n",
    "                L(i, j) = L(i-1, j) + \"+tgt[ij\"\n",
    "            else if L(i-1,j) > L(i, j-1)\n",
    "                L(i, j) = L(i, j-1) + \"-src[i]\"\n",
    "        }\n",
    "}\n",
    "'''"
   ]
  },
  {
   "cell_type": "code",
   "execution_count": 7,
   "metadata": {},
   "outputs": [
    {
     "data": {
      "text/plain": [
       "[[[], [], []], [[], [], []], [[], [], []], [[], [], []], [[], [], []]]"
      ]
     },
     "execution_count": 7,
     "metadata": {},
     "output_type": "execute_result"
    }
   ],
   "source": [
    "[[[]] * 3 ] * 5 "
   ]
  },
  {
   "cell_type": "code",
   "execution_count": 11,
   "metadata": {},
   "outputs": [
    {
     "data": {
      "text/plain": [
       "[[['x'], ['x'], ['x']],\n",
       " [['x'], ['x'], ['x']],\n",
       " [['x'], ['x'], ['x']],\n",
       " [['x'], ['x'], ['x']],\n",
       " [['x'], ['x'], ['x']]]"
      ]
     },
     "execution_count": 11,
     "metadata": {},
     "output_type": "execute_result"
    }
   ],
   "source": [
    "[[['x']] * 3] * 5"
   ]
  },
  {
   "cell_type": "code",
   "execution_count": 13,
   "metadata": {},
   "outputs": [
    {
     "ename": "IndexError",
     "evalue": "list index out of range",
     "output_type": "error",
     "traceback": [
      "\u001b[1;31m---------------------------------------------------------------------------\u001b[0m",
      "\u001b[1;31mIndexError\u001b[0m                                Traceback (most recent call last)",
      "Cell \u001b[1;32mIn[13], line 24\u001b[0m\n\u001b[0;32m     20\u001b[0m     \u001b[38;5;28;01mreturn\u001b[39;00m memo[\u001b[38;5;241m-\u001b[39m\u001b[38;5;241m1\u001b[39m][\u001b[38;5;241m-\u001b[39m\u001b[38;5;241m1\u001b[39m]\n\u001b[0;32m     23\u001b[0m \u001b[38;5;66;03m# debug your code below\u001b[39;00m\n\u001b[1;32m---> 24\u001b[0m \u001b[38;5;28mprint\u001b[39m(diff_between_two_strings(\u001b[38;5;124m\"\u001b[39m\u001b[38;5;124mABCDEFG\u001b[39m\u001b[38;5;124m\"\u001b[39m, \u001b[38;5;124m\"\u001b[39m\u001b[38;5;124mABDFFGH\u001b[39m\u001b[38;5;124m\"\u001b[39m))\n",
      "Cell \u001b[1;32mIn[13], line 12\u001b[0m, in \u001b[0;36mdiff_between_two_strings\u001b[1;34m(source, target)\u001b[0m\n\u001b[0;32m     10\u001b[0m b \u001b[38;5;241m=\u001b[39m target[j]\n\u001b[0;32m     11\u001b[0m \u001b[38;5;28;01mif\u001b[39;00m a \u001b[38;5;241m==\u001b[39m b:\n\u001b[1;32m---> 12\u001b[0m     memo[i][j]\u001b[38;5;241m.\u001b[39mappend(\u001b[38;5;28mstr\u001b[39m(a))\n\u001b[0;32m     13\u001b[0m \u001b[38;5;28;01melse\u001b[39;00m:\n\u001b[0;32m     14\u001b[0m     \u001b[38;5;66;03m# a != b, shorter tokens so far\u001b[39;00m\n\u001b[0;32m     15\u001b[0m     \u001b[38;5;28;01mif\u001b[39;00m \u001b[38;5;28mlen\u001b[39m(memo[i\u001b[38;5;241m-\u001b[39m\u001b[38;5;241m1\u001b[39m][j]) \u001b[38;5;241m<\u001b[39m \u001b[38;5;28mlen\u001b[39m(memo[i][j\u001b[38;5;241m-\u001b[39m\u001b[38;5;241m1\u001b[39m]):\n",
      "\u001b[1;31mIndexError\u001b[0m: list index out of range"
     ]
    }
   ],
   "source": [
    "from typing import List\n",
    "\n",
    "def diff_between_two_strings(source: str, target: str) -> List[str]:\n",
    "    memo = [[] * len(source)] * len(target)\n",
    "\n",
    "    # fill the memo table from top to bottom, left to right\n",
    "    for i in range(len(source)):\n",
    "        for j in range(len(target)):\n",
    "            a = source[i]\n",
    "            b = target[j]\n",
    "            if a == b:\n",
    "                memo[i][j].append(str(a))\n",
    "            else:\n",
    "                # a != b, shorter tokens so far\n",
    "                if len(memo[i-1][j]) < len(memo[i][j-1]):\n",
    "                    memo[i][j].append(str('-' + b))\n",
    "                else:\n",
    "                    memo[i][j].append(str(c))\n",
    "                # cur = min(len(memo[i-1][j]), len(memo[i][j-1]))\n",
    "    return memo[-1][-1]\n",
    "\n",
    "\n",
    "# debug your code below\n",
    "print(diff_between_two_strings(\"ABCDEFG\", \"ABDFFGH\"))\n",
    "\n",
    "\n",
    "# ##\n",
    "#  A     B   C     D\n",
    "#A A     a-b a-b-c a-b-c-d\n",
    "#B a+b   ab  ab-c  ab-c-d\n",
    "#D a+b+d \n",
    "#\n",
    "# \"ABCDEFG\"\n",
    "#    ^\n",
    "# \"ABDFFGH\"\n"
   ]
  }
 ],
 "metadata": {
  "kernelspec": {
   "display_name": "base",
   "language": "python",
   "name": "python3"
  },
  "language_info": {
   "codemirror_mode": {
    "name": "ipython",
    "version": 3
   },
   "file_extension": ".py",
   "mimetype": "text/x-python",
   "name": "python",
   "nbconvert_exporter": "python",
   "pygments_lexer": "ipython3",
   "version": "3.11.5"
  }
 },
 "nbformat": 4,
 "nbformat_minor": 2
}
