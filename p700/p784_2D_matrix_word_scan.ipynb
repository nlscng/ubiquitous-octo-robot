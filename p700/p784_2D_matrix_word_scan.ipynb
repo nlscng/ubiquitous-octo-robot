{
 "cells": [
  {
   "cell_type": "markdown",
   "metadata": {},
   "source": [
    "This problem was asked by Microsoft.\n",
    "\n",
    "Given a 2D matrix of characters and a target word, write a function that returns whether the word can be found in the matrix by going left-to-right, or up-to-down.\n",
    "\n",
    "For example, given the following matrix:\n",
    "\n",
    "```\n",
    "[['F', 'A', 'C', 'I'],\n",
    " ['O', 'B', 'Q', 'P'],\n",
    " ['A', 'N', 'O', 'B'],\n",
    " ['M', 'A', 'S', 'S']]\n",
    "```\n",
    "and the target word 'FOAM', you should return true, since it's the leftmost column. Similarly, given the target word 'MASS', you should return true, since it's the last row."
   ]
  },
  {
   "cell_type": "code",
   "execution_count": 34,
   "metadata": {},
   "outputs": [],
   "source": [
    "def word_scan(matrix: list[list], word: str) -> bool:\n",
    "\n",
    "    def in_matrix(pos_tup):\n",
    "        r, c = pos_tup\n",
    "        return 0 <= r < len(matrix) and 0 <= c < len(matrix[0])\n",
    "\n",
    "    def scan(pos_tup):\n",
    "        r, c = pos_tup\n",
    "        # vertical scan\n",
    "        counter = 1\n",
    "        while counter <= len(word):\n",
    "            if counter == len(word):\n",
    "                return True\n",
    "            elif in_matrix((r+counter, c)) and matrix[r+counter][c] == word[counter]:\n",
    "                counter += 1\n",
    "            else:\n",
    "                break\n",
    "        \n",
    "        # horizontal scan\n",
    "        counter = 1\n",
    "        while counter <= len(word):\n",
    "            if counter == len(word):\n",
    "                return True\n",
    "            elif in_matrix((r, c+counter)) and matrix[r][c+counter] == word[counter]:\n",
    "                counter += 1\n",
    "            else:\n",
    "                return False\n",
    "        \n",
    "\n",
    "    assert len(matrix) > 0\n",
    "    assert len(matrix[0]) > 0\n",
    "    assert len(word) > 0\n",
    "\n",
    "    start = word[0]\n",
    "    # search for begining of word\n",
    "    for r in range(len(matrix)):\n",
    "        for c in range(len(matrix[0])):\n",
    "            if matrix[r][c] == start and scan((r, c)):\n",
    "                return True\n",
    "\n",
    "    return False"
   ]
  },
  {
   "cell_type": "code",
   "execution_count": 6,
   "metadata": {},
   "outputs": [
    {
     "data": {
      "text/plain": [
       "[['F', 'A', 'C', 'I'],\n",
       " ['O', 'B', 'Q', 'P'],\n",
       " ['A', 'N', 'O', 'B'],\n",
       " ['M', 'A', 'S', 'S']]"
      ]
     },
     "execution_count": 6,
     "metadata": {},
     "output_type": "execute_result"
    }
   ],
   "source": [
    "test = [['F', 'A', 'C', 'I'],\n",
    " ['O', 'B', 'Q', 'P'],\n",
    " ['A', 'N', 'O', 'B'],\n",
    " ['M', 'A', 'S', 'S']]\n",
    "\n",
    "test"
   ]
  },
  {
   "cell_type": "code",
   "execution_count": 35,
   "metadata": {},
   "outputs": [],
   "source": [
    "assert not word_scan(test, \"blah\")\n",
    "assert word_scan(test, \"FOAM\")\n",
    "assert word_scan(test, \"MASS\")\n",
    "assert not word_scan(test, \"mass\")\n",
    "assert word_scan(test, \"NOB\")"
   ]
  }
 ],
 "metadata": {
  "kernelspec": {
   "display_name": "cs7650-nlp-2024-spring",
   "language": "python",
   "name": "python3"
  },
  "language_info": {
   "codemirror_mode": {
    "name": "ipython",
    "version": 3
   },
   "file_extension": ".py",
   "mimetype": "text/x-python",
   "name": "python",
   "nbconvert_exporter": "python",
   "pygments_lexer": "ipython3",
   "version": "3.10.12"
  }
 },
 "nbformat": 4,
 "nbformat_minor": 2
}
