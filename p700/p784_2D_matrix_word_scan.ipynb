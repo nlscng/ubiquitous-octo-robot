{
 "cells": [
  {
   "cell_type": "markdown",
   "metadata": {},
   "source": [
    "This problem was asked by Microsoft.\n",
    "\n",
    "Given a 2D matrix of characters and a target word, write a function that returns whether the word can be found in the matrix by going left-to-right, or up-to-down.\n",
    "\n",
    "For example, given the following matrix:\n",
    "\n",
    "```\n",
    "[['F', 'A', 'C', 'I'],\n",
    " ['O', 'B', 'Q', 'P'],\n",
    " ['A', 'N', 'O', 'B'],\n",
    " ['M', 'A', 'S', 'S']]\n",
    "```\n",
    "and the target word 'FOAM', you should return true, since it's the leftmost column. Similarly, given the target word 'MASS', you should return true, since it's the last row."
   ]
  },
  {
   "cell_type": "code",
   "execution_count": 24,
   "metadata": {},
   "outputs": [],
   "source": [
    "def word_scan(matrix: list[list], word: str) -> bool:\n",
    "\n",
    "    def in_matrix(pos_tup):\n",
    "        r, c = pos_tup\n",
    "        return 0 <= r < len(matrix) and 0 <= c < len(matrix[0])\n",
    "\n",
    "    def scan(pos_tup):\n",
    "        r, c = pos_tup\n",
    "        # vertical scan\n",
    "        counter = 1\n",
    "        while counter <= len(word):\n",
    "            if counter == len(word):\n",
    "                return True\n",
    "            elif in_matrix((r+counter, c)) and matrix[r+counter][c] == word[counter]:\n",
    "                counter += 1\n",
    "            else:\n",
    "                break\n",
    "        \n",
    "        # horizontal scan\n",
    "        counter = 1\n",
    "        while counter <= len(word):\n",
    "            if counter == len(word):\n",
    "                return True\n",
    "            elif in_matrix((r, c+counter)) and matrix[r][c+counter] == word[counter]:\n",
    "                counter += 1\n",
    "            else:\n",
    "                return False\n",
    "        \n",
    "\n",
    "    assert len(matrix) > 0\n",
    "    assert len(matrix[0]) > 0\n",
    "    assert len(word) > 0\n",
    "\n",
    "    start = word[0]\n",
    "    # search for begining of word\n",
    "    for r in matrix:\n",
    "        for c in r:\n",
    "            if matrix[r][c] == start and scan((r, c)):\n",
    "                return True\n",
    "\n",
    "    return False"
   ]
  },
  {
   "cell_type": "code",
   "execution_count": 6,
   "metadata": {},
   "outputs": [
    {
     "data": {
      "text/plain": [
       "[['F', 'A', 'C', 'I'],\n",
       " ['O', 'B', 'Q', 'P'],\n",
       " ['A', 'N', 'O', 'B'],\n",
       " ['M', 'A', 'S', 'S']]"
      ]
     },
     "execution_count": 6,
     "metadata": {},
     "output_type": "execute_result"
    }
   ],
   "source": [
    "test = [['F', 'A', 'C', 'I'],\n",
    " ['O', 'B', 'Q', 'P'],\n",
    " ['A', 'N', 'O', 'B'],\n",
    " ['M', 'A', 'S', 'S']]\n",
    "\n",
    "test"
   ]
  },
  {
   "cell_type": "code",
   "execution_count": 25,
   "metadata": {},
   "outputs": [
    {
     "ename": "TypeError",
     "evalue": "list indices must be integers or slices, not list",
     "output_type": "error",
     "traceback": [
      "\u001b[1;31m---------------------------------------------------------------------------\u001b[0m",
      "\u001b[1;31mTypeError\u001b[0m                                 Traceback (most recent call last)",
      "Cell \u001b[1;32mIn[25], line 1\u001b[0m\n\u001b[1;32m----> 1\u001b[0m \u001b[38;5;28;01massert\u001b[39;00m \u001b[38;5;129;01mnot\u001b[39;00m \u001b[43mword_scan\u001b[49m\u001b[43m(\u001b[49m\u001b[43mtest\u001b[49m\u001b[43m,\u001b[49m\u001b[43m \u001b[49m\u001b[38;5;124;43m\"\u001b[39;49m\u001b[38;5;124;43mblah\u001b[39;49m\u001b[38;5;124;43m\"\u001b[39;49m\u001b[43m)\u001b[49m\n\u001b[0;32m      2\u001b[0m \u001b[38;5;28;01massert\u001b[39;00m word_scan(test, \u001b[38;5;124m\"\u001b[39m\u001b[38;5;124mFOAM\u001b[39m\u001b[38;5;124m\"\u001b[39m)\n",
      "Cell \u001b[1;32mIn[24], line 38\u001b[0m, in \u001b[0;36mword_scan\u001b[1;34m(matrix, word)\u001b[0m\n\u001b[0;32m     36\u001b[0m \u001b[38;5;28;01mfor\u001b[39;00m r \u001b[38;5;129;01min\u001b[39;00m matrix:\n\u001b[0;32m     37\u001b[0m     \u001b[38;5;28;01mfor\u001b[39;00m c \u001b[38;5;129;01min\u001b[39;00m r:\n\u001b[1;32m---> 38\u001b[0m         \u001b[38;5;28;01mif\u001b[39;00m \u001b[43mmatrix\u001b[49m\u001b[43m[\u001b[49m\u001b[43mr\u001b[49m\u001b[43m]\u001b[49m[c] \u001b[38;5;241m==\u001b[39m start \u001b[38;5;129;01mand\u001b[39;00m scan((r, c)):\n\u001b[0;32m     39\u001b[0m             \u001b[38;5;28;01mreturn\u001b[39;00m \u001b[38;5;28;01mTrue\u001b[39;00m\n\u001b[0;32m     41\u001b[0m \u001b[38;5;28;01mreturn\u001b[39;00m \u001b[38;5;28;01mFalse\u001b[39;00m\n",
      "\u001b[1;31mTypeError\u001b[0m: list indices must be integers or slices, not list"
     ]
    }
   ],
   "source": [
    "assert not word_scan(test, \"blah\")\n",
    "assert word_scan(test, \"FOAM\")"
   ]
  }
 ],
 "metadata": {
  "kernelspec": {
   "display_name": "cs7650-nlp-2024-spring",
   "language": "python",
   "name": "python3"
  },
  "language_info": {
   "codemirror_mode": {
    "name": "ipython",
    "version": 3
   },
   "file_extension": ".py",
   "mimetype": "text/x-python",
   "name": "python",
   "nbconvert_exporter": "python",
   "pygments_lexer": "ipython3",
   "version": "3.10.12"
  }
 },
 "nbformat": 4,
 "nbformat_minor": 2
}
