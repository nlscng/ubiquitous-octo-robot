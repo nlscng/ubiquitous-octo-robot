{
 "cells": [
  {
   "cell_type": "markdown",
   "metadata": {},
   "source": [
    "This problem was asked by Nvidia.\n",
    "\n",
    "You are given a list of N points (x1, y1), (x2, y2), ..., (xN, yN) representing a polygon. You can assume these points are given in order; that is, you can construct the polygon by connecting point 1 to point 2, point 2 to point 3, and so on, finally looping around to connect point N to point 1.\n",
    "\n",
    "Determine if a new point p lies inside this polygon. (If p is on the boundary of the polygon, you should return False)."
   ]
  },
  {
   "cell_type": "code",
   "execution_count": null,
   "metadata": {},
   "outputs": [],
   "source": [
    "def assert_point(p: list):\n",
    "    assert len(p) == 2"
   ]
  },
  {
   "cell_type": "code",
   "execution_count": null,
   "metadata": {},
   "outputs": [],
   "source": [
    "# utility func, to test if two segment intersect\n",
    "\n",
    "def does_intersect(seg_1: list[list], seg_2: list[list]):\n",
    "    assert len(seg_1) == len(seg_2) == 2\n",
    "    [assert_point(one_point) for one_point in seg_1 + seg_2]\n",
    "\n",
    "    a, b = seg_1[0]\n",
    "    c, d = seg_1[1]\n",
    "    w, x = seg_2[0]\n",
    "    y, z = seg_2[1]\n",
    "    return w < a < y \n",
    "    \n",
    "\n"
   ]
  },
  {
   "cell_type": "code",
   "execution_count": null,
   "metadata": {},
   "outputs": [],
   "source": [
    "# there is a intersection test, if a point is within a polygon, cast any ray to infinity from it, if the point is\n",
    "# within the polygon, it will intersect an even number of times. If it's within, it will inter\n",
    "\n",
    "def is_point_in_polygon(point: list, polygon: list[list]):\n",
    "    assert len(point) == 2\n",
    "    for one_point in polygon:\n",
    "        assert len(one_point) == 2\n",
    "\n",
    "    "
   ]
  }
 ],
 "metadata": {
  "kernelspec": {
   "display_name": "cs7650-nlp-2024-spring",
   "language": "python",
   "name": "python3"
  },
  "language_info": {
   "codemirror_mode": {
    "name": "ipython",
    "version": 3
   },
   "file_extension": ".py",
   "mimetype": "text/x-python",
   "name": "python",
   "nbconvert_exporter": "python",
   "pygments_lexer": "ipython3",
   "version": "3.10.12"
  }
 },
 "nbformat": 4,
 "nbformat_minor": 2
}
