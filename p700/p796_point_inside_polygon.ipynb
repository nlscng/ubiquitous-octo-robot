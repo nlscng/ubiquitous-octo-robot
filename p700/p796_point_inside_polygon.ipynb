{
 "cells": [
  {
   "cell_type": "markdown",
   "metadata": {},
   "source": [
    "This problem was asked by Nvidia.\n",
    "\n",
    "You are given a list of N points (x1, y1), (x2, y2), ..., (xN, yN) representing a polygon. You can assume these points are given in order; that is, you can construct the polygon by connecting point 1 to point 2, point 2 to point 3, and so on, finally looping around to connect point N to point 1.\n",
    "\n",
    "Determine if a new point p lies inside this polygon. (If p is on the boundary of the polygon, you should return False)."
   ]
  },
  {
   "cell_type": "code",
   "execution_count": 33,
   "metadata": {},
   "outputs": [],
   "source": [
    "from dataclasses import dataclass\n",
    "\n",
    "@dataclass\n",
    "class Point:\n",
    "    x: int\n",
    "    y: int"
   ]
  },
  {
   "cell_type": "code",
   "execution_count": 3,
   "metadata": {},
   "outputs": [],
   "source": [
    "from enum import Enum\n",
    "\n",
    "class Orientation(Enum):\n",
    "    Colinear = 0\n",
    "    Clockwise = 1\n",
    "    CounterClockwise = -1"
   ]
  },
  {
   "cell_type": "code",
   "execution_count": 19,
   "metadata": {},
   "outputs": [],
   "source": [
    "def point_on_segment(a: Point, mid:Point, b: Point) -> bool:\n",
    "    # unsafely assume these three points on colinear, and mid is between a and b\n",
    "    return mid.x >= min(a.x, b.x) and mid.x <= max(a.x, b.x) and mid.y >= min(a.y, b.y) and mid.y <= max(a.y, b.y)"
   ]
  },
  {
   "cell_type": "code",
   "execution_count": 32,
   "metadata": {},
   "outputs": [],
   "source": [
    "A = Point(3, 0)\n",
    "B = Point(4, 0)\n",
    "C = Point(5, 0)\n",
    "D = Point (3, 2)\n",
    "E = Point(4, 1)\n",
    "F = Point(5, 2)\n",
    "\n",
    "def test_point_on_segment():\n",
    "    assert point_on_segment(A, B, C), f\"{A}, {B}, {C} should be on segment\"\n",
    "    assert point_on_segment(A, E, F), f\"{A}, {E}, {F} should be on segment\"\n",
    "    assert not point_on_segment(A, D, C), f\"{A}, {D}, {C} should not be on segment\"\n",
    "    \n",
    "\n",
    "test_point_on_segment()"
   ]
  },
  {
   "cell_type": "code",
   "execution_count": 5,
   "metadata": {},
   "outputs": [],
   "source": [
    "def orientataion(a: Point, b: Point, c: Point) -> Orientation:\n",
    "    o = float(b.y - a.y) * float(b.x - a.x) - float(c.y - b.y) * float(c.x - b.x)\n",
    "    orientation = None\n",
    "    if o == 0:\n",
    "        orientataion = Orientation.Colinear\n",
    "    elif o > 0:\n",
    "        orientataion = Orientation.Clockwise\n",
    "    else:\n",
    "        orientataion = Orientation.CounterClockwise\n",
    "    return orientataion"
   ]
  },
  {
   "cell_type": "code",
   "execution_count": null,
   "metadata": {},
   "outputs": [],
   "source": [
    "# utility func, to test if two segment intersect\n",
    "\n",
    "def do_intersect(a: Point, b: Point):\n",
    "    \n",
    "    o1 = orientataion\n"
   ]
  },
  {
   "cell_type": "code",
   "execution_count": null,
   "metadata": {},
   "outputs": [],
   "source": [
    "# there is a intersection test, if a point is within a polygon, cast any ray to infinity from it, if the point is\n",
    "# within the polygon, it will intersect an even number of times. If it's within, it will inter\n",
    "\n",
    "def is_point_in_polygon(point: list, polygon: list[list]):\n",
    "    assert len(point) == 2\n",
    "    for one_point in polygon:\n",
    "        assert len(one_point) == 2\n",
    "\n",
    "    "
   ]
  }
 ],
 "metadata": {
  "kernelspec": {
   "display_name": "cs7650-nlp-2024-spring",
   "language": "python",
   "name": "python3"
  },
  "language_info": {
   "codemirror_mode": {
    "name": "ipython",
    "version": 3
   },
   "file_extension": ".py",
   "mimetype": "text/x-python",
   "name": "python",
   "nbconvert_exporter": "python",
   "pygments_lexer": "ipython3",
   "version": "3.10.12"
  }
 },
 "nbformat": 4,
 "nbformat_minor": 2
}
