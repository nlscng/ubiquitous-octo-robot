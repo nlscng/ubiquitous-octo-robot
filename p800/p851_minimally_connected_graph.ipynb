{
 "cells": [
  {
   "cell_type": "markdown",
   "metadata": {},
   "source": [
    "This problem was asked by Facebook.\n",
    "\n",
    "A graph is minimally-connected if it is connected and there is no edge that can be removed while still leaving the graph connected. For example, any binary tree is minimally-connected.\n",
    "\n",
    "Given an undirected graph, check if the graph is minimally-connected. You can choose to represent the graph as either an adjacency matrix or adjacency list."
   ]
  },
  {
   "cell_type": "code",
   "execution_count": 21,
   "metadata": {},
   "outputs": [
    {
     "data": {
      "text/plain": [
       "'\\nvisited = [0, 2\\nstack = [1,\\nwalker = \\nances_node =\\nneighbors = [0\\n'"
      ]
     },
     "execution_count": 21,
     "metadata": {},
     "output_type": "execute_result"
    }
   ],
   "source": [
    "'''\n",
    "Assumption:\n",
    "I can reduce this to checking if there's a cycle in the graph.\n",
    "\n",
    "DFS to prove. adjacency list is easier to manage when i have to find all neighbors given a node. the matrix is better if i need to test if two nodes are connected. \n",
    "\n",
    "vars:\n",
    "visited = set() # to track if we've visited a node\n",
    "stack = [] # for DFS\n",
    "\n",
    "while there are still nodes not in the visited:\n",
    "    grab any node, and its neighbors\n",
    "    # start DFS\n",
    "    append all neighbors to the end of stack\n",
    "    while stack is not empty:\n",
    "        pop top of stack\n",
    "        find its neighbors that's not this top node\n",
    "            if one neighbor is in the visited then we found a cycle\n",
    "            else we continue\n",
    "\n",
    "by this point, we proved there's no cycle\n",
    "\n",
    "\n",
    "'''\n",
    "def minimally_connect_graph(adj_list: list):\n",
    "    assert len(adj_list) > 0\n",
    "\n",
    "    visited = set()\n",
    "    stack: list = [0]\n",
    "    walker_context = (0, None) # cur, ances\n",
    "\n",
    "    while len(stack) > 0:\n",
    "        walker, ances = stack.pop()\n",
    "\n",
    "        if walker in visited:\n",
    "            return False\n",
    "        \n",
    "        visited.add(walker) # visited: [0]\n",
    "        neighbors = adj_list[walker] # a list of neighbors = [1, 2]\n",
    "        cleaned = [(node, ances) for node in neighbors if node != walker]\n",
    "        stack.extend(cleaned) # stack = [1, 2]\n",
    "\n",
    "    # by this point, we proved there's no cycle\n",
    "    if len(visited) == len(adj_list):\n",
    "        # this is a full connected minimal graph\n",
    "        return True\n",
    "    else:\n",
    "        # there are islands\n",
    "        return False\n",
    "\n",
    "'''\n",
    "visited = [0, 2\n",
    "stack = [1,\n",
    "walker = \n",
    "ances_node =\n",
    "neighbors = [0\n",
    "'''\n"
   ]
  },
  {
   "cell_type": "code",
   "execution_count": 23,
   "metadata": {},
   "outputs": [
    {
     "ename": "AssertionError",
     "evalue": "sum ting wong",
     "output_type": "error",
     "traceback": [
      "\u001b[1;31m---------------------------------------------------------------------------\u001b[0m",
      "\u001b[1;31mAssertionError\u001b[0m                            Traceback (most recent call last)",
      "Cell \u001b[1;32mIn[23], line 12\u001b[0m\n\u001b[0;32m      1\u001b[0m \u001b[38;5;66;03m# test cases\u001b[39;00m\n\u001b[0;32m      2\u001b[0m \u001b[38;5;66;03m#  0 - 1\u001b[39;00m\n\u001b[0;32m      3\u001b[0m \u001b[38;5;66;03m#  |   |\u001b[39;00m\n\u001b[0;32m      4\u001b[0m \u001b[38;5;66;03m#  2   3\u001b[39;00m\n\u001b[0;32m      5\u001b[0m A \u001b[38;5;241m=\u001b[39m [\n\u001b[0;32m      6\u001b[0m     [\u001b[38;5;241m1\u001b[39m, \u001b[38;5;241m2\u001b[39m],\n\u001b[0;32m      7\u001b[0m     [\u001b[38;5;241m0\u001b[39m, \u001b[38;5;241m3\u001b[39m],\n\u001b[0;32m      8\u001b[0m     [\u001b[38;5;241m0\u001b[39m],\n\u001b[0;32m      9\u001b[0m     [\u001b[38;5;241m1\u001b[39m]\n\u001b[0;32m     10\u001b[0m ]\n\u001b[1;32m---> 12\u001b[0m \u001b[38;5;28;01massert\u001b[39;00m minimally_connect_graph(A), \u001b[38;5;124mf\u001b[39m\u001b[38;5;124m\"\u001b[39m\u001b[38;5;124msum ting wong\u001b[39m\u001b[38;5;124m\"\u001b[39m\n\u001b[0;32m     14\u001b[0m \u001b[38;5;66;03m# B\u001b[39;00m\n\u001b[0;32m     15\u001b[0m \u001b[38;5;66;03m# 0 - 1\u001b[39;00m\n\u001b[0;32m     16\u001b[0m B \u001b[38;5;241m=\u001b[39m [\n\u001b[0;32m     17\u001b[0m     [\u001b[38;5;241m1\u001b[39m],\n\u001b[0;32m     18\u001b[0m     [\u001b[38;5;241m0\u001b[39m]\n\u001b[0;32m     19\u001b[0m ]\n",
      "\u001b[1;31mAssertionError\u001b[0m: sum ting wong"
     ]
    }
   ],
   "source": [
    "# test cases\n",
    "#  0 - 1\n",
    "#  |   |\n",
    "#  2   3\n",
    "A = [\n",
    "    [1, 2],\n",
    "    [0, 3],\n",
    "    [0],\n",
    "    [1]\n",
    "]\n",
    "\n",
    "assert minimally_connect_graph(A), f\"sum ting wong\"\n",
    "\n",
    "# B\n",
    "# 0 - 1\n",
    "B = [\n",
    "    [1],\n",
    "    [0]\n",
    "]\n",
    "\n",
    "# C\n",
    "# 0 - 1 - 4\n",
    "# |     /\n",
    "# 2 - 3\n",
    "\n",
    "C = [\n",
    "    [1, 2],\n",
    "    [0, 4],\n",
    "    [0, 3],\n",
    "    [2, 4],\n",
    "    [1, 3]\n",
    "]\n"
   ]
  },
  {
   "cell_type": "code",
   "execution_count": null,
   "metadata": {},
   "outputs": [],
   "source": []
  },
  {
   "cell_type": "markdown",
   "metadata": {},
   "source": []
  }
 ],
 "metadata": {
  "kernelspec": {
   "display_name": "base",
   "language": "python",
   "name": "python3"
  },
  "language_info": {
   "codemirror_mode": {
    "name": "ipython",
    "version": 3
   },
   "file_extension": ".py",
   "mimetype": "text/x-python",
   "name": "python",
   "nbconvert_exporter": "python",
   "pygments_lexer": "ipython3",
   "version": "3.11.5"
  }
 },
 "nbformat": 4,
 "nbformat_minor": 2
}
