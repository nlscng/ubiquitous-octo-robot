{
 "cells": [
  {
   "cell_type": "markdown",
   "metadata": {},
   "source": [
    "This problem was asked by Facebook.\n",
    "\n",
    "Given a circular array, compute its maximum subarray sum in O(n) time. A subarray can be empty, and in this case the sum is 0.\n",
    "\n",
    "For example, given [8, -1, 3, 4], return 15 as we choose the numbers 3, 4, and 8 where the 8 is obtained from wrapping around.\n",
    "\n",
    "Given [-4, 5, 1, 0], return 6 as we choose the numbers 5 and 1."
   ]
  },
  {
   "cell_type": "code",
   "execution_count": 3,
   "metadata": {},
   "outputs": [
    {
     "data": {
      "text/plain": [
       "'\\nclarification to ask/confirm:\\n\\n\\n# pseudo\\n# sanity check: if empty, return 0, if len == 1, return the cell\\n\\n# concat the array to self to mimic the wrap around\\n\\n# two pointers to move, set to first two cell; two pointers move in this way, keeping track of sum \\nwhile left and right < len(a)\\nright += 1\\nif a[r] >= 0\\n    sum = max(sum, sum + a[r])\\nelse:\\n    left = r\\n    sum = 0\\n'"
      ]
     },
     "execution_count": 3,
     "metadata": {},
     "output_type": "execute_result"
    }
   ],
   "source": [
    "\"\"\"\n",
    "clarification to ask/confirm:\n",
    "\n",
    "\n",
    "# pseudo\n",
    "# sanity check: if empty, return 0, if len == 1, return the cell\n",
    "\n",
    "# concat the array to self to mimic the wrap around\n",
    "\n",
    "# two pointers to move, set to first two cell; two pointers move in this way, keeping track of sum \n",
    "while left and right < len(a)\n",
    "right += 1\n",
    "if a[r] >= 0\n",
    "    sum = max(sum, sum + a[r])\n",
    "else:\n",
    "    left = r\n",
    "    sum = 0\n",
    "\"\"\""
   ]
  },
  {
   "cell_type": "code",
   "execution_count": 23,
   "metadata": {},
   "outputs": [],
   "source": [
    "def max_circular_subarray_sum(a: list):\n",
    "    if len(a) == 0:\n",
    "        return 0\n",
    "    if len(a) == 1:\n",
    "        return a[0]\n",
    "    if all(e >= 0 for e in a):\n",
    "        return sum(a)\n",
    "    \n",
    "    # concat array\n",
    "    my_a = a + a\n",
    "\n",
    "    l, r = 0, 0 # two walkers set to indices\n",
    "    running_sum = max(0, my_a[r])\n",
    "    max_sum = running_sum\n",
    "    while r < len(my_a) - 1:\n",
    "        r += 1\n",
    "        if my_a[r] >= 0:\n",
    "            running_sum = running_sum + my_a[r]\n",
    "        else:\n",
    "            l = r\n",
    "            max_sum = max(running_sum, max_sum)\n",
    "            running_sum = 0\n",
    "    \n",
    "    return max(running_sum, max_sum)"
   ]
  },
  {
   "cell_type": "code",
   "execution_count": 27,
   "metadata": {},
   "outputs": [],
   "source": [
    "# test cases\n",
    "assert max_circular_subarray_sum([]) == 0\n",
    "assert max_circular_subarray_sum([3]) == 3\n",
    "assert max_circular_subarray_sum([3, 2]) == 5\n",
    "assert max_circular_subarray_sum([1, 2, 3, 4]) == 10\n",
    "\n",
    "assert max_circular_subarray_sum([8, -1, 3, 4]) == 15, f\"Should be 15, but got {max_circular_subarray_sum([8, -1, 3, 4])}\"\n",
    "assert max_circular_subarray_sum([3, 5, -5, 4, 6, -1, 1]) == 10, f\"Should be 10, but got {max_circular_subarray_sum([3, 5, -5, 4, 6, -1, 1])}\"\n"
   ]
  },
  {
   "cell_type": "code",
   "execution_count": 12,
   "metadata": {},
   "outputs": [
    {
     "data": {
      "text/plain": [
       "True"
      ]
     },
     "execution_count": 12,
     "metadata": {},
     "output_type": "execute_result"
    }
   ],
   "source": [
    "[1, 2] + [1, 2] == [1, 2, 1, 2]"
   ]
  }
 ],
 "metadata": {
  "kernelspec": {
   "display_name": "base",
   "language": "python",
   "name": "python3"
  },
  "language_info": {
   "codemirror_mode": {
    "name": "ipython",
    "version": 3
   },
   "file_extension": ".py",
   "mimetype": "text/x-python",
   "name": "python",
   "nbconvert_exporter": "python",
   "pygments_lexer": "ipython3",
   "version": "3.11.5"
  }
 },
 "nbformat": 4,
 "nbformat_minor": 2
}
