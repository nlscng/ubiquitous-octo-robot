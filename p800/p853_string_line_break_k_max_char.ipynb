{
 "cells": [
  {
   "cell_type": "markdown",
   "metadata": {},
   "source": [
    "This problem was asked by Amazon.\n",
    "\n",
    "Given a string s and an integer k, break up the string into multiple lines such that each line has a length of k or less. You must break it up so that words don't break across lines. Each line has to have the maximum possible amount of words. If there's no way to break the text up, then return null.\n",
    "\n",
    "You can assume that there are no spaces at the ends of the string and that there is exactly one space between each word.\n",
    "\n",
    "For example, given the string \"the quick brown fox jumps over the lazy dog\" and k = 10, you should return: [\"the quick\", \"brown fox\", \"jumps over\", \"the lazy\", \"dog\"]. No string in the list has a length of more than 10."
   ]
  },
  {
   "cell_type": "code",
   "execution_count": 6,
   "metadata": {},
   "outputs": [],
   "source": [
    "\"\"\"\n",
    "This is looking like a two pointer problme. I'd walk two pointers down the word, if the right/fast walker reaches max lenght of k with the inclusion of current length from left/slow, then we\n",
    "need another line.\n",
    "\n",
    "pseudo:\n",
    "\n",
    "# sanity check\n",
    "# empty string, return null\n",
    "# single word, return itself\n",
    "\n",
    "# var \n",
    "\n",
    "left, right = 0, 0\n",
    "tokens = split words into tokens\n",
    "res = []\n",
    "cur_line = None\n",
    "\n",
    "# while there are words left to process:\n",
    "    # count next token length\n",
    "\n",
    "    # if next token len + current length > k, get new line\n",
    "    # move left and right to new line\n",
    "\n",
    "    # else, append to curren line\n",
    "\n",
    "return res\n",
    "\n",
    "0123456789\n",
    "the quick brown fox\n",
    "\"\"\"\n",
    "\n",
    "def max_k_length_string_breaker(s: str, k: int) -> list[str]:\n",
    "    # empty string, return null\n",
    "    # single word, return itself\n",
    "    assert k > 0, f\"k should be a positive integer\"\n",
    "\n",
    "    if len(s) == 0:\n",
    "        return None\n",
    "\n",
    "    tokens = s.split()\n",
    "    if len(tokens) == 1:\n",
    "        return [tokens]\n",
    "    \n",
    "    if any(len(t) > k for t in tokens):\n",
    "        return None\n",
    "\n",
    "    cur_sum, next_sum = 0, 0 # 0, 4\n",
    "    line_res = '' # 'brown'\n",
    "    combined_res = [] # '[the quick, ]'\n",
    "    \n",
    "    for i in range(len(tokens)):\n",
    "        next_sum = len(tokens[i]) \n",
    "\n",
    "        if cur_sum + 1 + next_sum <= k:\n",
    "            line_res = tokens[i] if line_res == '' else line_res + ' ' + tokens[i]\n",
    "            cur_sum = len(line_res)\n",
    "        else: \n",
    "            combined_res.append(line_res)\n",
    "            line_res = ''\n",
    "            line_res = tokens[i]\n",
    "            cur_sum = len(line_res)\n",
    "\n",
    "    if len(line_res) > 0:\n",
    "        combined_res.append(line_res)\n",
    "\n",
    "    return combined_res"
   ]
  },
  {
   "cell_type": "code",
   "execution_count": 14,
   "metadata": {},
   "outputs": [
    {
     "ename": "AssertionError",
     "evalue": "Should be ['the quick brown fox', 'jumps over the lazy', 'dog'], but got ['the quick brown fox', 'jumps over the lazy', 'dog']",
     "output_type": "error",
     "traceback": [
      "\u001b[1;31m---------------------------------------------------------------------------\u001b[0m",
      "\u001b[1;31mAssertionError\u001b[0m                            Traceback (most recent call last)",
      "Cell \u001b[1;32mIn[14], line 10\u001b[0m\n\u001b[0;32m      7\u001b[0m \u001b[38;5;28;01massert\u001b[39;00m max_k_length_string_breaker(A, \u001b[38;5;241m2\u001b[39m) \u001b[38;5;129;01mis\u001b[39;00m \u001b[38;5;28;01mNone\u001b[39;00m\n\u001b[0;32m      9\u001b[0m B \u001b[38;5;241m=\u001b[39m \u001b[38;5;124m'\u001b[39m\u001b[38;5;124mthe quick brown fox jumps over the lazy dog\u001b[39m\u001b[38;5;124m'\u001b[39m\n\u001b[1;32m---> 10\u001b[0m \u001b[38;5;28;01massert\u001b[39;00m max_k_length_string_breaker(B, \u001b[38;5;241m20\u001b[39m) \u001b[38;5;241m==\u001b[39m [\u001b[38;5;124m'\u001b[39m\u001b[38;5;124mthe quick brown fox\u001b[39m\u001b[38;5;124m'\u001b[39m, \u001b[38;5;124m'\u001b[39m\u001b[38;5;124mjumps ovaer the lazy\u001b[39m\u001b[38;5;124m'\u001b[39m, \u001b[38;5;124m'\u001b[39m\u001b[38;5;124mdog\u001b[39m\u001b[38;5;124m'\u001b[39m], \u001b[38;5;124mf\u001b[39m\u001b[38;5;124m\"\u001b[39m\u001b[38;5;124mShould be [\u001b[39m\u001b[38;5;124m'\u001b[39m\u001b[38;5;124mthe quick brown fox\u001b[39m\u001b[38;5;124m'\u001b[39m\u001b[38;5;124m, \u001b[39m\u001b[38;5;124m'\u001b[39m\u001b[38;5;124mjumps over the lazy\u001b[39m\u001b[38;5;124m'\u001b[39m\u001b[38;5;124m, \u001b[39m\u001b[38;5;124m'\u001b[39m\u001b[38;5;124mdog\u001b[39m\u001b[38;5;124m'\u001b[39m\u001b[38;5;124m], but got \u001b[39m\u001b[38;5;132;01m{\u001b[39;00mmax_k_length_string_breaker(B,\u001b[38;5;250m \u001b[39m\u001b[38;5;241m20\u001b[39m)\u001b[38;5;132;01m}\u001b[39;00m\u001b[38;5;124m\"\u001b[39m\n",
      "\u001b[1;31mAssertionError\u001b[0m: Should be ['the quick brown fox', 'jumps over the lazy', 'dog'], but got ['the quick brown fox', 'jumps over the lazy', 'dog']"
     ]
    }
   ],
   "source": [
    "# test\n",
    "A = \"the quick brown fox\"\n",
    "\n",
    "out = max_k_length_string_breaker(A, 10)\n",
    "assert max_k_length_string_breaker(A, 10) == ['the quick', 'brown fox']\n",
    "\n",
    "assert max_k_length_string_breaker(A, 2) is None\n",
    "\n",
    "B = 'the quick brown fox jumps over the lazy dog'\n",
    "assert max_k_length_string_breaker(B, 20) == ['the quick brown fox', 'jumps over the lazy', 'dog'], f\"Should be ['the quick brown fox', 'jumps over the lazy', 'dog'], but got {max_k_length_string_breaker(B, 20)}\""
   ]
  }
 ],
 "metadata": {
  "kernelspec": {
   "display_name": "base",
   "language": "python",
   "name": "python3"
  },
  "language_info": {
   "codemirror_mode": {
    "name": "ipython",
    "version": 3
   },
   "file_extension": ".py",
   "mimetype": "text/x-python",
   "name": "python",
   "nbconvert_exporter": "python",
   "pygments_lexer": "ipython3",
   "version": "3.11.5"
  }
 },
 "nbformat": 4,
 "nbformat_minor": 2
}
