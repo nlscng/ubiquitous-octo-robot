{
 "cells": [
  {
   "cell_type": "markdown",
   "metadata": {},
   "source": [
    "Given a collection of intervals, find the minimum number of intervals you need to remove to make the rest of the intervals non-overlapping.\n",
    "\n",
    "Intervals can \"touch\", such as [0, 1] and [1, 2], but they won't be considered overlapping.\n",
    "\n",
    "For example, given the intervals (7, 9), (2, 4), (5, 8), return 1 as the last interval can be removed and the first two won't overlap."
   ]
  },
  {
   "cell_type": "code",
   "execution_count": null,
   "metadata": {},
   "outputs": [],
   "source": [
    "'''\n",
    "pseudo code\n",
    "\n",
    "1. sort the list of intervals by ending\n",
    "2. walk thru and detect overlapping intervals\n",
    "3. intervals are \"overlapping\" when end of the first interval is strictly bigger than begining of second interval\n",
    "4. do i remove the first of 2nd intervals?\n",
    "'''\n",
    "\n"
   ]
  }
 ],
 "metadata": {
  "language_info": {
   "name": "python"
  }
 },
 "nbformat": 4,
 "nbformat_minor": 2
}
