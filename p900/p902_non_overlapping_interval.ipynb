{
 "cells": [
  {
   "cell_type": "markdown",
   "metadata": {},
   "source": [
    "Given a collection of intervals, find the minimum number of intervals you need to remove to make the rest of the intervals non-overlapping.\n",
    "\n",
    "Intervals can \"touch\", such as [0, 1] and [1, 2], but they won't be considered overlapping.\n",
    "\n",
    "For example, given the intervals (7, 9), (2, 4), (5, 8), return 1 as the last interval can be removed and the first two won't overlap."
   ]
  },
  {
   "cell_type": "code",
   "execution_count": null,
   "metadata": {},
   "outputs": [],
   "source": [
    "'''\n",
    "pseudo code\n",
    "\n",
    "1. sort the list of intervals by ending\n",
    "2. walk thru and detect overlapping intervals and count the total overlaps\n",
    "3. intervals are \"overlapping\" when end of the first interval is strictly bigger than begining of second interval\n",
    "4. do i remove the first of 2nd intervals?\n",
    "'''\n",
    "\n",
    "'''\n",
    "It turns out, some leetcode version doens't properly handle some cases,\n",
    "like when one long interval overlaps two smaller ones\n",
    "'''"
   ]
  },
  {
   "cell_type": "code",
   "execution_count": 18,
   "metadata": {},
   "outputs": [],
   "source": [
    "from dataclasses import dataclass\n",
    "\n",
    "@dataclass\n",
    "class Interval:\n",
    "    # def __init__(self, begin: int, end: int) -> None:\n",
    "    #     self.begin = begin\n",
    "    #     self.end = end\n",
    "    begin: int\n",
    "    end: int"
   ]
  },
  {
   "cell_type": "code",
   "execution_count": 19,
   "metadata": {},
   "outputs": [],
   "source": [
    "x = Interval(2, 4)"
   ]
  },
  {
   "cell_type": "code",
   "execution_count": 32,
   "metadata": {},
   "outputs": [],
   "source": [
    "def is_overlapping(a: Interval, b: Interval): \n",
    "    return a.end > b.begin\n",
    "\n",
    "def min_num_interval_removal(intervals: list[Interval]):\n",
    "    assert len(intervals) > 1\n",
    "    # 1. sort the list of intervals by ending\n",
    "    intervals_sorted = sorted(intervals, key=lambda x: x.end)\n",
    "\n",
    "    # 2. walk thru and detect overlapping intervals\n",
    "    count = 0\n",
    "    walker_l, walker_r = 0, 1\n",
    "    while walker_r < len(intervals):\n",
    "        # 3. intervals are \"overlapping\" when end of the first interval is strictly bigger than begining of second interval\n",
    "        overlaps = is_overlapping(intervals_sorted[walker_l], intervals_sorted[walker_r])\n",
    "\n",
    "        # 4. remove overlapping ones\n",
    "        if overlaps:\n",
    "            count += 1\n",
    "        else:\n",
    "            walker_l = walker_r\n",
    "        # walker_l += 1\n",
    "        walker_r += 1\n",
    "    return count\n",
    "\n"
   ]
  },
  {
   "cell_type": "code",
   "execution_count": null,
   "metadata": {},
   "outputs": [],
   "source": [
    "(7,9) (2,4) (5,8)\n",
    "\n",
    "(2, 4) (5, 8) (7, 9)\n",
    "left: 1\n",
    "right: 2\n",
    "count: 0\n",
    "overlaps: False"
   ]
  },
  {
   "cell_type": "code",
   "execution_count": 34,
   "metadata": {},
   "outputs": [],
   "source": [
    "'''\n",
    "Test cases\n",
    "'''\n",
    "T1 = [Interval(1, 3), Interval(2, 4)]\n",
    "out_1 = min_num_interval_removal(T1)\n",
    "assert out_1 == 1\n",
    "\n",
    "T2 = [Interval(1, 3), Interval(4, 6)]\n",
    "out_2 = min_num_interval_removal(T2)\n",
    "assert out_2 == 0\n",
    "\n",
    "\n",
    "##    2--4\n",
    "##        5--8\n",
    "##          7--9\n",
    "T3 = [Interval(7, 9), Interval(2, 4), Interval(5, 8)]\n",
    "out_3 = min_num_interval_removal(T3) \n",
    "assert out_3 == 1, f\"out_3: {out_3}\"\n",
    "\n",
    "## 1-------9\n",
    "##  2-4\n",
    "##     5-7\n",
    "test_4 = [Interval(1, 9), Interval(2, 4), Interval(5, 7)]\n",
    "out_4 = min_num_interval_removal(test_4)\n",
    "assert out_4 == 1, f\"out_4: {out_4}\"\n",
    "\n",
    "\n",
    "# 1----6\n",
    "#  2-4\n",
    "#     5-7\n",
    "test_5 = [Interval(1, 6), Interval(2, 4), Interval(5, 7)]\n",
    "out_5 = min_num_interval_removal(test_5)\n",
    "assert out_5 == 1, f\"out_5: {out_5}\"\n",
    "\n",
    "# 1--4\n",
    "#   3---7\n",
    "#      6--9\n",
    "test_6 = [Interval(1, 4), Interval(3, 7), Interval(6, 9)]\n",
    "out_6 = min_num_interval_removal(test_6)\n",
    "assert out_6 == 1, f\"out_6: {out_6}\""
   ]
  }
 ],
 "metadata": {
  "kernelspec": {
   "display_name": "base",
   "language": "python",
   "name": "python3"
  },
  "language_info": {
   "codemirror_mode": {
    "name": "ipython",
    "version": 3
   },
   "file_extension": ".py",
   "mimetype": "text/x-python",
   "name": "python",
   "nbconvert_exporter": "python",
   "pygments_lexer": "ipython3",
   "version": "3.11.5"
  }
 },
 "nbformat": 4,
 "nbformat_minor": 2
}
