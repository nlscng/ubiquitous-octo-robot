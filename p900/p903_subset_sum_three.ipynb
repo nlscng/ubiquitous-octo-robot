{
 "cells": [
  {
   "cell_type": "markdown",
   "metadata": {},
   "source": [
    "Given an array of numbers and a number k, determine if there are three entries in the array which add up to the specified number k. For example, given [20, 303, 3, 4, 25] and k = 49, return true as 20 + 4 + 25 = 49.\n"
   ]
  },
  {
   "cell_type": "code",
   "execution_count": 2,
   "metadata": {},
   "outputs": [
    {
     "data": {
      "text/plain": [
       "' \\n'"
      ]
     },
     "execution_count": 2,
     "metadata": {},
     "output_type": "execute_result"
    }
   ],
   "source": [
    "''' \n",
    "question to ask:\n",
    "1. can the numbers be negative, can k be negative\n",
    "2. can there be duplicates\n",
    "'''"
   ]
  },
  {
   "cell_type": "code",
   "execution_count": null,
   "metadata": {},
   "outputs": [],
   "source": [
    "'''\n",
    "pseudo code\n",
    "\n",
    "this is a classic subset sum problem. \n",
    "\n",
    "1. write a 2-sum problm solver\n",
    "2. use a set to track compliment numbers. start walking through the list of numbers\n",
    "3. given a number, if it's compliment is found in the set, then we found the 2-sum\n",
    "4. if not found, add the number's compliment to the set, then continue walking\n",
    "5. use the 2-sum solver to solve 3-sum\n",
    "\n",
    "maybe sorting things first can help?\n",
    "1. if sorted, two-sum can be solved with two pointers\n",
    "\n",
    "2. solving 2-sum with a set, big O is n * n\n",
    "\n",
    "3. solving 2-sum with sorting and then two pointers, big O is nLog(n) * n\n",
    "'''"
   ]
  },
  {
   "cell_type": "code",
   "execution_count": 15,
   "metadata": {},
   "outputs": [],
   "source": [
    "def solve_two_sum_v1(nums: list[int], k: int, is_sorted = False):\n",
    "    # sort and then 2 pointers\n",
    "    assert len(nums) > 1\n",
    "\n",
    "    if not is_sorted:\n",
    "        sorted_nums = sorted(nums, key=lambda x: x)\n",
    "    else:\n",
    "        sorted_nums = nums\n",
    "    \n",
    "    left, right = 0, len(nums) - 1\n",
    "\n",
    "    while left < right:\n",
    "        cur_sum = sorted_nums[left] + sorted_nums[right]\n",
    "        if cur_sum == k:\n",
    "            return True\n",
    "        if cur_sum > k:\n",
    "            right -= 1\n",
    "        else:\n",
    "            left += 1\n",
    "    return False\n"
   ]
  },
  {
   "cell_type": "code",
   "execution_count": 27,
   "metadata": {},
   "outputs": [],
   "source": [
    "def solve_two_sum_v2(nums: list[int], k: int):\n",
    "    assert len(nums) > 1\n",
    "\n",
    "    seen = set()\n",
    "    for i in range(len(nums)):\n",
    "        cur_num = nums[i]\n",
    "        comp = k - cur_num\n",
    "        if comp in seen:\n",
    "            return True\n",
    "        else:\n",
    "            seen.add(cur_num)\n",
    "    return False"
   ]
  },
  {
   "cell_type": "code",
   "execution_count": 28,
   "metadata": {},
   "outputs": [],
   "source": [
    "'''\n",
    "Test cases\n",
    "'''\n",
    "\n",
    "\n",
    "test = [9, 3, 5, 2, 4]\n",
    "k_1 = 5\n",
    "out_1 = solve_two_sum_v1(test, k_1)\n",
    "assert out_1, f\"test: {test}, k: {k_1}, out: {out_1}\"\n",
    "\n",
    "k_2 = 13\n",
    "out_2 = solve_two_sum_v1(test, k_2)\n",
    "assert out_2, f\"test: {test}, k: {k_2}, out: {out_2}\"\n",
    "\n",
    "k_3 = -5\n",
    "out_3 = solve_two_sum_v1(test, k_3)\n",
    "assert not out_3, f\"test: {test}, k: {k_3}, out: {out_3}\"\n",
    "\n",
    "\n",
    "out_1_1 = solve_two_sum_v2(test, k_1)\n",
    "assert out_1_1, f\"test: {test}, k: {k_1}, out: {out_1_1}\"\n",
    "\n",
    "out_2_1 = solve_two_sum_v2(test, k_2)\n",
    "assert out_2_1, f\"test: {test}, k: {k_2}, out: {out_2_1}\"\n",
    "\n"
   ]
  },
  {
   "cell_type": "code",
   "execution_count": 29,
   "metadata": {},
   "outputs": [],
   "source": [
    "def solve_three_sum(nums: list[int], k: int) -> bool:\n",
    "    assert len(nums) > 2\n",
    "\n",
    "    # pre-sort the numbers\n",
    "    sorted_num = sorted(nums, key=lambda x: x)\n",
    "    # use 2sum solver to solve 3sum\n",
    "    for i in range(len())"
   ]
  }
 ],
 "metadata": {
  "kernelspec": {
   "display_name": "base",
   "language": "python",
   "name": "python3"
  },
  "language_info": {
   "codemirror_mode": {
    "name": "ipython",
    "version": 3
   },
   "file_extension": ".py",
   "mimetype": "text/x-python",
   "name": "python",
   "nbconvert_exporter": "python",
   "pygments_lexer": "ipython3",
   "version": "3.11.5"
  }
 },
 "nbformat": 4,
 "nbformat_minor": 2
}
