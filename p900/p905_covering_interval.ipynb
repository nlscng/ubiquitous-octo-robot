{
 "cells": [
  {
   "cell_type": "markdown",
   "metadata": {},
   "source": [
    "This problem was asked by Google.\n",
    "\n",
    "Given a set of closed intervals, find the smallest set of numbers that covers all the intervals. If there are multiple smallest sets, return any of them.\n",
    "\n",
    "For example, given the intervals [0, 3], [2, 6], [3, 4], [6, 9], one set of numbers that covers all these intervals is {3, 6}.\n",
    "\n"
   ]
  },
  {
   "cell_type": "code",
   "execution_count": null,
   "metadata": {},
   "outputs": [],
   "source": [
    "'''\n",
    "pseudo\n",
    "\n",
    "\n",
    "After some thoughts and chicken scratch on paper, it seems like the left most ending and the right most begining should make the smallest interval\n",
    "'''\n",
    "\n"
   ]
  },
  {
   "cell_type": "code",
   "execution_count": 3,
   "metadata": {},
   "outputs": [],
   "source": [
    "from dataclasses import dataclass\n",
    "\n",
    "@dataclass\n",
    "class Interval:\n",
    "    begin: int\n",
    "    end: int\n",
    "\n",
    "    def from_list(l: list[list]) -> list[Interval]:\n",
    "        return [Interval(x[0], x[1]) for x in l]"
   ]
  },
  {
   "cell_type": "code",
   "execution_count": 9,
   "metadata": {},
   "outputs": [],
   "source": [
    "def covering_interval(intervals: list[Interval]) -> Interval:\n",
    "    assert len(intervals) > 1\n",
    "    min_end: int = 9999999 # some random big number\n",
    "    max_begin: int = 0\n",
    "\n",
    "    for i in range(len(intervals)):\n",
    "        cur = intervals[i]\n",
    "        min_end = min(cur.end, min_end)\n",
    "        max_begin = max(cur.begin, max_begin)\n",
    "    \n",
    "    return Interval(min_end, max_begin)"
   ]
  },
  {
   "cell_type": "code",
   "execution_count": 13,
   "metadata": {},
   "outputs": [],
   "source": [
    "'''\n",
    "Test\n",
    "'''\n",
    "\n",
    "test_1 = Interval.from_list([[0, 3], [2, 6], [3, 4], [6, 9]])\n",
    "out_1 = covering_interval(test_1)\n",
    "assert out_1 == Interval(3, 6), f\"test: {test_1}, out: {out_1}\"\n",
    "\n",
    "\n",
    "test_2 = Interval.from_list([[2, 4], [1, 6], [5,7]])\n",
    "out_2 = covering_interval(test_2)\n",
    "assert out_2 == Interval(4, 5), f\"test: {test_2}, out: {out_2}\"\n"
   ]
  }
 ],
 "metadata": {
  "kernelspec": {
   "display_name": "base",
   "language": "python",
   "name": "python3"
  },
  "language_info": {
   "codemirror_mode": {
    "name": "ipython",
    "version": 3
   },
   "file_extension": ".py",
   "mimetype": "text/x-python",
   "name": "python",
   "nbconvert_exporter": "python",
   "pygments_lexer": "ipython3",
   "version": "3.11.5"
  }
 },
 "nbformat": 4,
 "nbformat_minor": 2
}
