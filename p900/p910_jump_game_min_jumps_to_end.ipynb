{
 "cells": [
  {
   "cell_type": "markdown",
   "metadata": {},
   "source": [
    "You are given an array of integers, where each element represents the maximum number of steps that can be jumped going forward from that element. Write a function to return the minimum number of jumps you must take in order to get from the start to the end of the array.\n",
    "\n",
    "For example, given [6, 2, 4, 0, 5, 1, 1, 4, 2, 9], you should return 2, as the optimal solution involves jumping from 6 to 5, and then from 5 to 9."
   ]
  },
  {
   "cell_type": "code",
   "execution_count": 36,
   "metadata": {},
   "outputs": [],
   "source": [
    "def min_num_jumps_to_end(nums: list[int]) -> int:\n",
    "    assert len(nums) > 1\n",
    "    assert all(x >=  0 for x in nums)\n",
    "    memo = [9999] * len(nums)\n",
    "    memo[-1] = 0 # this is the end, only needs zero jumps to reach it\n",
    "\n",
    "    # fill this memo back from the end idx\n",
    "    ptr = len(nums) - 1\n",
    "    while ptr > 0:\n",
    "        ptr -= 1\n",
    "        scan_range = nums[ptr]\n",
    "        if scan_range == 0:\n",
    "            memo[ptr] = 999\n",
    "        else:\n",
    "            scan_start = ptr + 1 # when in an idx, the num in the idx is how many we can jump ahead, so the self-index doesn't count\n",
    "            scan_end = ptr + 1 + scan_range\n",
    "            memo[ptr] = 1 + min(memo[scan_start:scan_end])\n",
    "        \n",
    "\n",
    "    return memo[0]\n",
    "    "
   ]
  },
  {
   "cell_type": "code",
   "execution_count": 37,
   "metadata": {},
   "outputs": [],
   "source": [
    "'''\n",
    "tests\n",
    "'''\n",
    "\n",
    "test_1 = [6, 2, 4, 0, 5, 1, 1, 4, 2, 9]\n",
    "out_1 = min_num_jumps_to_end(test_1)\n",
    "assert out_1 == 2, f\"test_1: {test_1}, out: {out_1}\"\n",
    "\n",
    "test_2 = [5,4,4,2,0,0,3,6,3,5,0,1]\n",
    "out_2 = min_num_jumps_to_end(test_2)\n",
    "assert out_2 == 4, f\"test_2 : {test_2}, out: {out_2}\""
   ]
  }
 ],
 "metadata": {
  "kernelspec": {
   "display_name": "base",
   "language": "python",
   "name": "python3"
  },
  "language_info": {
   "codemirror_mode": {
    "name": "ipython",
    "version": 3
   },
   "file_extension": ".py",
   "mimetype": "text/x-python",
   "name": "python",
   "nbconvert_exporter": "python",
   "pygments_lexer": "ipython3",
   "version": "3.11.5"
  }
 },
 "nbformat": 4,
 "nbformat_minor": 2
}
