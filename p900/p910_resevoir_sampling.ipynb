{
 "cells": [
  {
   "cell_type": "markdown",
   "metadata": {},
   "source": [
    "This problem was asked by Facebook.\n",
    "\n",
    "Given a stream of elements too large to store in memory, pick a random element from the stream with uniform probability."
   ]
  },
  {
   "cell_type": "code",
   "execution_count": null,
   "metadata": {},
   "outputs": [],
   "source": [
    "'''\n",
    "google or wiki: reservoir sampling\n",
    "\n",
    "this is a reservoir sampling of size k\n",
    "'''"
   ]
  },
  {
   "cell_type": "code",
   "execution_count": 30,
   "metadata": {},
   "outputs": [],
   "source": [
    "import random\n",
    "from random import randrange\n",
    "\n",
    "\n",
    "\n",
    "def reservoir_sampling(nums: list[int], sample_count: int) -> list[int]:\n",
    "    # nums represents the list of data that's too big for the memory\n",
    "\n",
    "    assert len(nums) > 0\n",
    "    assert sample_count > 1\n",
    "    res = [] * sample_count\n",
    "\n",
    "    for idx, ele in enumerate(nums):\n",
    "        if idx < sample_count:\n",
    "            res.append(ele)\n",
    "        else: \n",
    "            rdn = randrange(idx)\n",
    "            if rdn < sample_count:\n",
    "                res[rdn] = ele\n",
    "    \n",
    "    return res\n",
    "        \n"
   ]
  },
  {
   "cell_type": "code",
   "execution_count": 21,
   "metadata": {},
   "outputs": [
    {
     "data": {
      "text/plain": [
       "0.375"
      ]
     },
     "execution_count": 21,
     "metadata": {},
     "output_type": "execute_result"
    }
   ],
   "source": [
    "3/8"
   ]
  },
  {
   "cell_type": "code",
   "execution_count": 36,
   "metadata": {},
   "outputs": [
    {
     "data": {
      "text/plain": [
       "[0.0861,\n",
       " 0.0935,\n",
       " 0.0928,\n",
       " 0.0917,\n",
       " 0.0899,\n",
       " 0.0936,\n",
       " 0.0916,\n",
       " 0.0936,\n",
       " 0.0962,\n",
       " 0.0839,\n",
       " 0.0956,\n",
       " 0.1043,\n",
       " 0.1054,\n",
       " 0.0984,\n",
       " 0.0963,\n",
       " 0.102,\n",
       " 0.0965,\n",
       " 0.098,\n",
       " 0.1028,\n",
       " 0.0976,\n",
       " 0.0978,\n",
       " 0.1,\n",
       " 0.1045,\n",
       " 0.1043,\n",
       " 0.1018,\n",
       " 0.1028,\n",
       " 0.0964,\n",
       " 0.1019,\n",
       " 0.0969,\n",
       " 0.098,\n",
       " 0.103,\n",
       " 0.0959,\n",
       " 0.1037,\n",
       " 0.1028,\n",
       " 0.1061,\n",
       " 0.0997,\n",
       " 0.1016,\n",
       " 0.1014,\n",
       " 0.1027,\n",
       " 0.1012,\n",
       " 0.101,\n",
       " 0.1033,\n",
       " 0.1053,\n",
       " 0.1007,\n",
       " 0.0971,\n",
       " 0.1061,\n",
       " 0.1014,\n",
       " 0.106,\n",
       " 0.1029,\n",
       " 0.1002,\n",
       " 0.1021,\n",
       " 0.1028,\n",
       " 0.098,\n",
       " 0.0973,\n",
       " 0.1046,\n",
       " 0.103,\n",
       " 0.1024,\n",
       " 0.0973,\n",
       " 0.1014,\n",
       " 0.0971,\n",
       " 0.1023,\n",
       " 0.101,\n",
       " 0.1043,\n",
       " 0.1033,\n",
       " 0.1018,\n",
       " 0.1009,\n",
       " 0.0939,\n",
       " 0.0945,\n",
       " 0.0974,\n",
       " 0.1059,\n",
       " 0.097,\n",
       " 0.0998,\n",
       " 0.1,\n",
       " 0.1017,\n",
       " 0.1034,\n",
       " 0.0986,\n",
       " 0.1047,\n",
       " 0.1006,\n",
       " 0.1038,\n",
       " 0.1,\n",
       " 0.1015,\n",
       " 0.0977,\n",
       " 0.1006,\n",
       " 0.1014,\n",
       " 0.1022,\n",
       " 0.0957,\n",
       " 0.1031,\n",
       " 0.0976,\n",
       " 0.103,\n",
       " 0.1045,\n",
       " 0.1036,\n",
       " 0.1014,\n",
       " 0.1018,\n",
       " 0.1,\n",
       " 0.0976,\n",
       " 0.1039,\n",
       " 0.0987,\n",
       " 0.0985,\n",
       " 0.1052,\n",
       " 0.1048]"
      ]
     },
     "execution_count": 36,
     "metadata": {},
     "output_type": "execute_result"
    }
   ],
   "source": [
    "'''\n",
    "tests\n",
    "'''\n",
    "random.seed(42)\n",
    "large_number = 100\n",
    "reservoir_size = 10\n",
    "test = [i for i in range(large_number)]\n",
    "\n",
    "# run this a few number of times to get a distribution of reservoir size 10, so all numbers should show up about 10% of the time\n",
    "counts = [0] * large_number\n",
    "nums_sims = 10000\n",
    "for i in range(nums_sims):\n",
    "    cur_run = reservoir_sampling(test, reservoir_size)\n",
    "    assert len(cur_run) == reservoir_size\n",
    "    for j in cur_run:\n",
    "        counts[j] += 1\n",
    "\n",
    "\n",
    "test_tolerance = 0.5\n",
    "target_dist = reservoir_size / large_number\n",
    "final_dist = [e / nums_sims for e in counts]\n",
    "assert all(target_dist * (1 - test_tolerance) < ele <= target_dist * (1 + test_tolerance) for ele in final_dist), f\"final_distribution: {final_dist}\"\n",
    "final_dist"
   ]
  }
 ],
 "metadata": {
  "kernelspec": {
   "display_name": "base",
   "language": "python",
   "name": "python3"
  },
  "language_info": {
   "codemirror_mode": {
    "name": "ipython",
    "version": 3
   },
   "file_extension": ".py",
   "mimetype": "text/x-python",
   "name": "python",
   "nbconvert_exporter": "python",
   "pygments_lexer": "ipython3",
   "version": "3.11.5"
  }
 },
 "nbformat": 4,
 "nbformat_minor": 2
}
