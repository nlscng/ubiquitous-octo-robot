{
 "cells": [
  {
   "cell_type": "markdown",
   "metadata": {},
   "source": [
    "This problem was asked by Yext.\n",
    "\n",
    "Two nodes in a binary tree can be called cousins if they are on the same level of the tree but have different parents. For example, in the following diagram 4 and 6 are cousins.\n",
    "\n",
    "```\n",
    "    1\n",
    "   / \\\n",
    "  2   3\n",
    " / \\   \\\n",
    "4   5   6\n",
    "```\n",
    "Given a binary tree and a particular node, find all cousins of that node."
   ]
  },
  {
   "cell_type": "code",
   "execution_count": 3,
   "metadata": {},
   "outputs": [],
   "source": [
    "from dataclasses import dataclass\n",
    "\n",
    "@dataclass\n",
    "class BinaryTreeNode:\n",
    "    value: int\n",
    "    left: 'BinaryTreeNode'\n",
    "    right: 'BinaryTreeNode'"
   ]
  },
  {
   "cell_type": "code",
   "execution_count": 4,
   "metadata": {},
   "outputs": [],
   "source": [
    "from collections import defaultdict\n",
    "\n",
    "def find_binary_tree_cousins(root: BinaryTreeNode, target: BinaryTreeNode):\n",
    "\n",
    "    # find the target's depth level and its parent node with BFS\n",
    "    queue = [(root, None, 0)] # a tuple of (node, parent node, node's level)\n",
    "\n",
    "    target_level = None\n",
    "    target_parent = None\n",
    "    found_target = False\n",
    "    # level_map = defaultdict(list)\n",
    "    while len(queue) > 0:\n",
    "        cur, cur_parent, cur_level = queue.pop(0)\n",
    "        if target_level is not None and cur_level > target_level:\n",
    "            # we have already found the target, and currently processing nodes deeper than target's level, we exit the loop\n",
    "            break\n",
    "\n",
    "        # level_map[cur_level].append(cur.value)\n",
    "\n",
    "        if cur.value == target.value:\n",
    "            # found target, note its depth and parent node\n",
    "            target_level = cur_level\n",
    "            target_parent = cur_parent\n",
    "        else:\n",
    "            if cur.left is not None:\n",
    "                queue.append((cur.left, cur, cur_level + 1))\n",
    "            if cur.right is not None:\n",
    "                queue.append((cur.right, cur, cur_level + 1))\n",
    "\n",
    "    if target_level is None or target_parent is None:\n",
    "        raise Exception(f'Did not find target node {target}')\n",
    "    \n",
    "    # BFS again to find cousins\n",
    "    cousins = []\n",
    "    queue = [(root, None, 0)] # a tuple of (node, parent node, node's level)\n",
    "    while len(queue) > 0:\n",
    "        cur, cur_parent, cur_level = queue.pop(0)\n",
    "        \n",
    "        # test if the node is one of the cousins\n",
    "        if cur_parent != target_parent and cur_level == target_level:\n",
    "            cousins.append(cur.value)\n",
    "        \n",
    "        if cur_level > target_level:\n",
    "            break\n",
    "\n",
    "        if cur.left is not None:\n",
    "            queue.append((cur.left, cur, cur_level + 1))\n",
    "        if cur.right is not None:\n",
    "            queue.append((cur.right, cur, cur_level + 1))\n",
    "\n",
    "    return cousins\n",
    "    \n",
    "\n",
    "    "
   ]
  }
 ],
 "metadata": {
  "kernelspec": {
   "display_name": "base",
   "language": "python",
   "name": "python3"
  },
  "language_info": {
   "codemirror_mode": {
    "name": "ipython",
    "version": 3
   },
   "file_extension": ".py",
   "mimetype": "text/x-python",
   "name": "python",
   "nbconvert_exporter": "python",
   "pygments_lexer": "ipython3",
   "version": "3.11.5"
  }
 },
 "nbformat": 4,
 "nbformat_minor": 2
}
