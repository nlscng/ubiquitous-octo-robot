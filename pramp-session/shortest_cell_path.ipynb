{
 "cells": [
  {
   "cell_type": "markdown",
   "metadata": {},
   "source": [
    "In a given grid of 0s and 1s, we have some starting row and column sr, sc and a target row and column tr, tc. Return the length of the shortest path from sr, sc to tr, tc that walks along 1 values only.\n",
    "\n",
    "Each location in the path, including the start and the end, must be a 1. Each subsequent location in the path must be 4-directionally adjacent to the previous location.\n",
    "\n",
    "It is guaranteed that grid[sr][sc] = grid[tr][tc] = 1, and the starting and target positions are different.\n",
    "\n",
    "If the task is impossible, return -1.\n",
    "\n",
    "```\n",
    "input:\n",
    "grid = [[1, 1, 1, 1], [0, 0, 0, 1], [1, 1, 1, 1]]\n",
    "sr = 0, sc = 0, tr = 2, tc = 0\n",
    "output: 8\n",
    "(The lines below represent this grid:)\n",
    "1111\n",
    "0001\n",
    "1111\n",
    "\n",
    "grid = [[1, 1, 1, 1], [0, 0, 0, 1], [1, 0, 1, 1]]\n",
    "sr = 0, sc = 0, tr = 2, tc = 0\n",
    "output: -1\n",
    "(The lines below represent this grid:)\n",
    "1111\n",
    "0001\n",
    "1011\n",
    "```\n"
   ]
  },
  {
   "cell_type": "code",
   "execution_count": 12,
   "metadata": {},
   "outputs": [
    {
     "name": "stdout",
     "output_type": "stream",
     "text": [
      "8\n"
     ]
    }
   ],
   "source": [
    "from typing import List\n",
    "from collections import deque\n",
    "from dataclasses import dataclass\n",
    "\n",
    "@dataclass(eq=True, frozen=True)\n",
    "class Context:\n",
    "    r: int # row\n",
    "    c: int # col\n",
    "    m: int # moves from starting\n",
    "\n",
    "@dataclass(eq=True, frozen=True)\n",
    "class Hist:\n",
    "    r: int # row\n",
    "    c: int # col\n",
    "\n",
    "def find_next_moves(r, c, seen: set, grid):\n",
    "    width = len(grid[0])\n",
    "    height = len(grid)\n",
    "    four_dir = [(r + 1, c), (r - 1, c), (r, c + 1), (r, c - 1)]\n",
    "    safe_four = [(r, c) for r, c in four_dir if 0 <= r < height and 0 <= c < width and grid[r][c] == 1 and Hist(r, c) not in seen]\n",
    "    return safe_four\n",
    "\n",
    "def shortestCellPath(grid: List[List[int]], sr: int, sc: int, tr: int, tc: int) -> int:\n",
    "\n",
    "    seen = set()\n",
    "    queue = deque([Context(sr, sc, 0)])\n",
    "\n",
    "    #bfs \n",
    "    while len(queue) > 0:\n",
    "        cur_context = queue.popleft()\n",
    "        cur_c = cur_context.c\n",
    "        cur_r = cur_context.r\n",
    "        cur_m = cur_context.m\n",
    "        if cur_r == tr and cur_c == tc:\n",
    "            return cur_m\n",
    "        else:\n",
    "            seen.add(Hist(cur_r, cur_c))\n",
    "            next_moves = find_next_moves(cur_r, cur_c, seen, grid)\n",
    "            to_explore = [Context(r, c, cur_m + 1) for r, c in next_moves]\n",
    "            queue.extend(to_explore)\n",
    "    return -1\n",
    "    \n",
    "\t\n",
    "# debug your code below\n",
    "grid = [[1, 1, 1, 1], [0, 0, 0, 1], [1, 1, 1, 1]]\n",
    "sr, sc, tr, tc = 0, 0, 2, 0\n",
    "print(shortestCellPath(grid, sr, sc, tr, tc))"
   ]
  },
  {
   "cell_type": "code",
   "execution_count": 13,
   "metadata": {},
   "outputs": [
    {
     "name": "stdout",
     "output_type": "stream",
     "text": [
      "9\n"
     ]
    }
   ],
   "source": [
    "grid = [\n",
    "    [1, 1, 1, 1], \n",
    "    [0, 1, 0, 1], \n",
    "    [1, 1, 0, 1],\n",
    "    [1, 0, 0, 0],\n",
    "    [1, 1, 1, 1]]\n",
    "sr, sc, tr, tc = 0, 0, 4, 3\n",
    "print(shortestCellPath(grid, sr, sc, tr, tc)) # should be 9"
   ]
  },
  {
   "cell_type": "code",
   "execution_count": null,
   "metadata": {},
   "outputs": [],
   "source": [
    "grid = [\n",
    "    [1, 1, 1, 1], \n",
    "    [0, 1, 0, 1], \n",
    "    [1, 0, 0, 1],\n",
    "    [1, 0, 0, 0],\n",
    "    [1, 1, 1, 1]]\n",
    "sr, sc, tr, tc = 0, 0, 4, 3\n",
    "print(shortestCellPath(grid, sr, sc, tr, tc)) # should be -1"
   ]
  }
 ],
 "metadata": {
  "kernelspec": {
   "display_name": "base",
   "language": "python",
   "name": "python3"
  },
  "language_info": {
   "codemirror_mode": {
    "name": "ipython",
    "version": 3
   },
   "file_extension": ".py",
   "mimetype": "text/x-python",
   "name": "python",
   "nbconvert_exporter": "python",
   "pygments_lexer": "ipython3",
   "version": "3.11.5"
  }
 },
 "nbformat": 4,
 "nbformat_minor": 2
}
