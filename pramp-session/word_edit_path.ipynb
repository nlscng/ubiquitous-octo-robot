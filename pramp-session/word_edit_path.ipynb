{
 "cells": [
  {
   "cell_type": "markdown",
   "metadata": {},
   "source": [
    "Given two strings of uppercase letters source and target, list (in string form) a sequence of edits to convert from source to target that uses the least edits possible.\n",
    "\n",
    "For example, with strings source = \"ABCDEFG\", and target = \"ABDFFGH\" we might return: [\"A\", \"B\", \"-C\", \"D\", \"-E\", \"F\", \"+F\", \"G\", \"+H\"\n",
    "\n",
    "More formally, for each character C in source, we will either write the token C, which does not count as an edit; or write the token -C, which counts as an edit.\n",
    "\n",
    "Additionally, between any token that we write, we may write +D where D is any letter, which counts as an edit.\n",
    "\n",
    "At the end, when reading the tokens from left to right, and not including tokens prefixed with a minus-sign, the letters should spell out target (when ignoring plus-signs.)\n",
    "\n",
    "In the example, the answer of A B -C D -E F +F G +H has total number of edits 4 (the minimum possible), and ignoring subtraction-tokens, spells out A, B, D, F, +F, G, +H which represents the string target.\n",
    "\n",
    "If there are multiple answers, use the answer that favors removing from the source first."
   ]
  },
  {
   "cell_type": "code",
   "execution_count": null,
   "metadata": {},
   "outputs": [],
   "source": [
    "'''\n",
    "Try to write this with a prefix\n",
    "let L(i, j) be the diff between src(:i) and tgt(:j)\n",
    "then L(i, j) = {\n",
    "    if src[i] == tgt[j]\n",
    "        L(i, j) = min(L(i-1, j), L(i, j-1), L(i-1, j-1))\n",
    "    else\n",
    "        L(i, j) = {\n",
    "            if L(i-1, j) < L(i, j-1)\n",
    "                L(i, j) = L(i-1, j) + \"+tgt[ij\"\n",
    "            else if L(i-1,j) > L(i, j-1)\n",
    "                L(i, j) = L(i, j-1) + \"-src[i]\"\n",
    "        }\n",
    "}\n",
    "'''"
   ]
  },
  {
   "cell_type": "code",
   "execution_count": 7,
   "metadata": {},
   "outputs": [
    {
     "data": {
      "text/plain": [
       "[[[], [], []], [[], [], []], [[], [], []], [[], [], []], [[], [], []]]"
      ]
     },
     "execution_count": 7,
     "metadata": {},
     "output_type": "execute_result"
    }
   ],
   "source": [
    "[[[]] * 3 ] * 5 "
   ]
  },
  {
   "cell_type": "code",
   "execution_count": null,
   "metadata": {},
   "outputs": [],
   "source": [
    "from typing import List\n",
    "\n",
    "def diff_between_two_strings(source: str, target: str) -> List[str]:\n",
    "    memo = [[] * len(source)] * len(target)\n",
    "\n",
    "    # fill the memo table from top to bottom, left to right\n",
    "    for i in range(len(source)):\n",
    "        for j in range(len(target)):\n",
    "            a = target[i]\n",
    "            b = source[j]\n",
    "            if a == b:\n",
    "                memo[i][j].append(a)\n",
    "            else:\n",
    "                # a != b, shorter tokens so far\n",
    "                cur = min(len(memo[i-1][j]), len(memo[i][j-1]))\n",
    "\n",
    "                # add the proper change\n",
    "\n",
    "\n",
    "# debug your code below\n",
    "print(diff_between_two_strings(\"ABCDEFG\", \"ABDFFGH\"))\n",
    "\n",
    "\n",
    "# ##\n",
    "#  A     B   C     D\n",
    "#A A     a-b a-b-c a-b-c-d\n",
    "#B a+b   ab  ab-c  ab-c-d\n",
    "#D a+b+d \n",
    "#\n",
    "# \"ABCDEFG\"\n",
    "#    ^\n",
    "# \"ABDFFGH\"\n",
    "#    ^\n",
    "# case 1: same, \n",
    "# case 2: \n",
    "# [\"A\", \"B\", \"-C\", \"D\", \"-E\", \"F\", \"+F\", \"G\", \"+H\"]\n",
    "# src: \"brown fox\"\n",
    "# tgt: \"brown cat\"\n",
    "# [b r o w n ' ' -f +c -o +a -x +t]\n",
    "# \n",
    "\n",
    "function solve(X, Y):\n",
    "    if X[0] == Y[0]:\n",
    "        return X[0] + \" \" + solve(X[1:], Y[1:])\n",
    "    else:\n",
    "        #TODO\n",
    "\n",
    "\n",
    "    \n",
    "function solve(X, Y):\n",
    "    if X[0] == Y[0]:\n",
    "        return X[0] + \" \" + solve(X[1:], Y[1:])\n",
    "    else:\n",
    "        ans1 = solve(X[1:], Y)\n",
    "        ans2 = solve(X, Y[1:])\n",
    "        if ans1.token_length <= ans2.token_length:\n",
    "            return \"-\" + X[0] + \" \" + ans1\n",
    "        else:\n",
    "            return \"+\" + Y[0] + \" \" + ans2"
   ]
  }
 ],
 "metadata": {
  "kernelspec": {
   "display_name": "base",
   "language": "python",
   "name": "python3"
  },
  "language_info": {
   "codemirror_mode": {
    "name": "ipython",
    "version": 3
   },
   "file_extension": ".py",
   "mimetype": "text/x-python",
   "name": "python",
   "nbconvert_exporter": "python",
   "pygments_lexer": "ipython3",
   "version": "3.11.5"
  }
 },
 "nbformat": 4,
 "nbformat_minor": 2
}
